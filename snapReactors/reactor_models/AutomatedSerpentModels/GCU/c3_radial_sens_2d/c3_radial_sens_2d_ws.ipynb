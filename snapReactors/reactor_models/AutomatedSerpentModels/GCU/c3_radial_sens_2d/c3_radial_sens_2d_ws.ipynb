{
 "cells": [
  {
   "cell_type": "code",
   "execution_count": 42,
   "metadata": {},
   "outputs": [],
   "source": [
    "import numpy as np\n",
    "import serpentTools as st\n",
    "from utilitities import*\n",
    "from numpy.linalg import norm\n",
    "import matplotlib.image as mpimg"
   ]
  },
  {
   "cell_type": "code",
   "execution_count": 43,
   "metadata": {},
   "outputs": [
    {
     "name": "stderr",
     "output_type": "stream",
     "text": [
      "SERPENT Serpent 2.2.1 found in /Users/isaacnaupaaguirre/Downloads/s82d_ac_c3_gcu_coreres.main_res.m, but version 2.1.31 is defined in settings\n",
      "  Attemping to read anyway. Please report strange behaviors/failures to developers.\n",
      "SERPENT Serpent 2.2.1 found in /Users/isaacnaupaaguirre/Downloads/s82d_ac_c3_gcu_ringres.main_res.m, but version 2.1.31 is defined in settings\n",
      "  Attemping to read anyway. Please report strange behaviors/failures to developers.\n",
      "SERPENT Serpent 2.2.1 found in /Users/isaacnaupaaguirre/Downloads/s82d_ac_c3_gcu_elemres.main_res.m, but version 2.1.31 is defined in settings\n",
      "  Attemping to read anyway. Please report strange behaviors/failures to developers.\n"
     ]
    }
   ],
   "source": [
    "coreresFile = '/Users/isaacnaupaaguirre/Downloads/s82d_ac_c3_gcu_coreres.main_res.m'\n",
    "coreres = st.read(coreresFile)\n",
    "\n",
    "ringresFile = '/Users/isaacnaupaaguirre/Downloads/s82d_ac_c3_gcu_ringres.main_res.m'\n",
    "ringres = st.read(ringresFile)\n",
    "\n",
    "elemresFile = '/Users/isaacnaupaaguirre/Downloads/s82d_ac_c3_gcu_elemres.main_res.m'\n",
    "elemres = st.read(elemresFile)"
   ]
  },
  {
   "cell_type": "code",
   "execution_count": 44,
   "metadata": {},
   "outputs": [
    {
     "name": "stderr",
     "output_type": "stream",
     "text": [
      "SERPENT Serpent 2.1.32 found in /Users/isaacnaupaaguirre/Downloads/s82d_c3_18G_default70_1.main_res.m, but version 2.1.31 is defined in settings\n",
      "  Attemping to read anyway. Please report strange behaviors/failures to developers.\n"
     ]
    }
   ],
   "source": [
    "ref2DFile = '/Users/isaacnaupaaguirre/Downloads/s82d_c3_18G_default70_1.main_res.m'\n",
    "ref2Dres = st.read(ref2DFile)"
   ]
  },
  {
   "cell_type": "markdown",
   "metadata": {},
   "source": [
    "### System Analysis"
   ]
  },
  {
   "cell_type": "code",
   "execution_count": 45,
   "metadata": {},
   "outputs": [],
   "source": [
    "coreUni = coreres.universes['100', 0, 0, 0]\n",
    "rootUni = coreres.universes['0', 0, 0, 0]"
   ]
  },
  {
   "cell_type": "code",
   "execution_count": 46,
   "metadata": {},
   "outputs": [],
   "source": [
    "# rootUni.infExp.keys()"
   ]
  },
  {
   "cell_type": "code",
   "execution_count": 47,
   "metadata": {},
   "outputs": [],
   "source": [
    "# ax = rootUni.plot('infTot', labels=['infAbs - system'])\n",
    "# ax.grid()\n",
    "# coreUni.plot('infTot', ax=ax, labels = ['infAbs - core'], legend='right')"
   ]
  },
  {
   "cell_type": "code",
   "execution_count": 48,
   "metadata": {},
   "outputs": [],
   "source": [
    "def condense(universe, key, useInvFlux = False):\n",
    "    cond = None\n",
    "    if useInvFlux:\n",
    "        invFlux = np.zeros(len(universe.infExp[key]))\n",
    "        for i in range(0, len(invFlux)):\n",
    "            invFlux[i] = 1/universe.infExp[key][i]\n",
    "        cond = np.sum(np.multiply(universe.infExp[key], invFlux)/np.sum(invFlux))\n",
    "    else:\n",
    "        cond = np.sum(np.multiply(universe.infExp[key], universe.infExp['infFlx']))/np.sum(universe.infExp['infFlx'])\n",
    "    return cond"
   ]
  },
  {
   "cell_type": "code",
   "execution_count": 49,
   "metadata": {},
   "outputs": [
    {
     "name": "stdout",
     "output_type": "stream",
     "text": [
      "fluxweighted infTranspxs : 0.487\n",
      "invfluxweighted infTranspxs : 0.358\n",
      "fluxweighted infDiff : 0.684\n",
      "invfluxweighted infDiff : 0.932\n",
      "fluxweighted infDiffLen : 4.287\n",
      "invfluxweighted infDiffLen : 5.002\n"
     ]
    }
   ],
   "source": [
    "fluxweight_coreTranspxs = condense(coreUni, 'infTranspxs')\n",
    "invfluxweight_coreTranspxs = condense(coreUni, 'infTranspxs', useInvFlux=True)\n",
    "\n",
    "fluxweight_coreDiff = 1/(3*fluxweight_coreTranspxs)\n",
    "invfluxweight_coreDiff = 1/(3*invfluxweight_coreTranspxs)\n",
    "\n",
    "print(\"fluxweighted infTranspxs : {:.3f}\".format(fluxweight_coreTranspxs))\n",
    "print(\"invfluxweighted infTranspxs : {:.3f}\".format(invfluxweight_coreTranspxs))\n",
    "\n",
    "print(\"fluxweighted infDiff : {:.3f}\".format(fluxweight_coreDiff))\n",
    "print(\"invfluxweighted infDiff : {:.3f}\".format(invfluxweight_coreDiff))\n",
    "\n",
    "coreAbs = condense(coreUni, 'infAbs')\n",
    "\n",
    "fluxweight_coreDiffLen = np.sqrt(fluxweight_coreDiff/coreAbs)\n",
    "invfluxweight_coreDiffLen = np.sqrt(invfluxweight_coreDiff/coreAbs)\n",
    "\n",
    "print(\"fluxweighted infDiffLen : {:.3f}\".format(fluxweight_coreDiffLen))\n",
    "print(\"invfluxweighted infDiffLen : {:.3f}\".format(invfluxweight_coreDiffLen))  "
   ]
  },
  {
   "cell_type": "markdown",
   "metadata": {},
   "source": [
    "### Radial GCU Resolution Study 2D"
   ]
  },
  {
   "cell_type": "markdown",
   "metadata": {},
   "source": [
    "####  Make Sure Cases are unbiased torwards statistics on few-group data"
   ]
  },
  {
   "cell_type": "code",
   "execution_count": 50,
   "metadata": {},
   "outputs": [
    {
     "name": "stdout",
     "output_type": "stream",
     "text": [
      "0.00327\n"
     ]
    }
   ],
   "source": [
    "maxs = []\n",
    "max = None\n",
    "for uni in coreres.universes:\n",
    "    maxs.append(np.max(coreres.universes[uni].infUnc['infTot']))\n",
    "print(np.max(maxs))"
   ]
  },
  {
   "cell_type": "code",
   "execution_count": 51,
   "metadata": {},
   "outputs": [
    {
     "name": "stdout",
     "output_type": "stream",
     "text": [
      "0.00685\n"
     ]
    }
   ],
   "source": [
    "maxs = []\n",
    "max = None\n",
    "for uni in ringres.universes:\n",
    "    maxs.append(np.max(ringres.universes[uni].infUnc['infTot']))\n",
    "print(np.max(maxs))"
   ]
  },
  {
   "cell_type": "code",
   "execution_count": 52,
   "metadata": {},
   "outputs": [
    {
     "name": "stdout",
     "output_type": "stream",
     "text": [
      "0.00895\n"
     ]
    }
   ],
   "source": [
    "maxs = []\n",
    "max = None\n",
    "for uni in elemres.universes:\n",
    "    maxs.append(np.max(elemres.universes[uni].infUnc['infTot']))\n",
    "print(np.max(maxs))"
   ]
  },
  {
   "cell_type": "markdown",
   "metadata": {},
   "source": [
    "#### Keff Comparison"
   ]
  },
  {
   "cell_type": "code",
   "execution_count": 53,
   "metadata": {},
   "outputs": [
    {
     "name": "stdout",
     "output_type": "stream",
     "text": [
      "Reference Serpent Keff: 1.142, pcm: 4.6\n"
     ]
    }
   ],
   "source": [
    "reffKeff = elemres.resdata['absKeff']\n",
    "print(\"Reference Serpent Keff: {:.5}, pcm: {}\".format(reffKeff[0],reffKeff[1]*1e5))"
   ]
  },
  {
   "cell_type": "code",
   "execution_count": 54,
   "metadata": {},
   "outputs": [],
   "source": [
    "ringResDF = postProcess('/Users/isaacnaupaaguirre/Documents/GitHub/SNAP-REACTORS/snapReactors/reactor_models/AutomatedSerpentModels/GCU/c3_radial_sens_2d/s82d_ac_c3_gcu_ringres_out.csv', isSteady=True)\n",
    "coreResDF = postProcess('/Users/isaacnaupaaguirre/Documents/GitHub/SNAP-REACTORS/snapReactors/reactor_models/AutomatedSerpentModels/GCU/c3_radial_sens_2d/s82d_ac_c3_gcu_coreres_out.csv', isSteady=True)\n",
    "elemResDF = postProcess('/Users/isaacnaupaaguirre/Documents/GitHub/SNAP-REACTORS/snapReactors/reactor_models/AutomatedSerpentModels/GCU/c3_radial_sens_2d/s82d_ac_c3_gcu_elemres_out.csv', isSteady=True)"
   ]
  },
  {
   "cell_type": "code",
   "execution_count": 55,
   "metadata": {},
   "outputs": [],
   "source": [
    "def kToPCM(k):\n",
    "    return 1e5*((k-1)/k)"
   ]
  },
  {
   "cell_type": "code",
   "execution_count": 56,
   "metadata": {},
   "outputs": [
    {
     "name": "stdout",
     "output_type": "stream",
     "text": [
      "core resolution keff: 1.14162, pcmDiff: -25.8\n",
      "ring resolution keff: 1.14170, pcmDiff: -20.1\n",
      "elem resolution keff: 1.14175, pcmDiff: -15.8\n"
     ]
    }
   ],
   "source": [
    "griff_ckeff = coreResDF['eigenvalue'][1]\n",
    "griff_rkeff = ringResDF['eigenvalue'][1]\n",
    "griff_ekeff = elemResDF['eigenvalue'][1]\n",
    "\n",
    "print(\"core resolution keff: {:.5f}, pcmDiff: {:.1f}\".format(griff_ckeff, kToPCM(griff_ckeff) - kToPCM(reffKeff[0])))\n",
    "print(\"ring resolution keff: {:.5f}, pcmDiff: {:.1f}\".format(griff_rkeff, kToPCM(griff_rkeff) - kToPCM(reffKeff[0])))\n",
    "print(\"elem resolution keff: {:.5f}, pcmDiff: {:.1f}\".format(griff_ekeff, kToPCM(griff_ekeff) - kToPCM(reffKeff[0])))"
   ]
  },
  {
   "cell_type": "markdown",
   "metadata": {},
   "source": [
    "1. PCM difference decreases with increase in spatial resolution as espected"
   ]
  },
  {
   "cell_type": "markdown",
   "metadata": {},
   "source": [
    "#### Verification of Few Group Spectrum"
   ]
  },
  {
   "cell_type": "code",
   "execution_count": 57,
   "metadata": {},
   "outputs": [],
   "source": [
    "fgs_hr18 = [5.0000E-09, 2.5000E-08, 1.0000E-07, 4.0000E-07, 9.9600E-07, 3.0000E-06,\n",
    "9.8770E-06, 2.7700E-05, 1.0000E-04, 5.5000E-04, 3.0000E-03, 1.5030E-02,\n",
    "1.0000E-01, 4.0000E-01, 8.2100E-01, 1.3530E+00, 3.0000E+00, 6.0655E+00,\n",
    "2.0000E+01]"
   ]
  },
  {
   "cell_type": "code",
   "execution_count": 58,
   "metadata": {},
   "outputs": [],
   "source": [
    "refFGSFile = '/Users/isaacnaupaaguirre/Documents/GitHub/SNAP-REACTORS/snapReactors/reactor_models/AutomatedSerpentModels/GCU/c3_radial_sens_2d/s82d_ac_c3_gcu_coreres.main_det0.m'\n",
    "refFGSDet = st.read(refFGSFile)\n",
    "refFGS = refFGSDet['fgs_spec']"
   ]
  },
  {
   "cell_type": "code",
   "execution_count": 59,
   "metadata": {},
   "outputs": [],
   "source": [
    "def normZeroToOne(arr):\n",
    "    normArr = np.zeros(len(arr))\n",
    "    min = np.min(arr)\n",
    "    max = np.max(arr)\n",
    "    for i in range(0, len(arr)):\n",
    "        normArr[i] = (arr[i] - min)/(max - min)\n",
    "    return normArr"
   ]
  },
  {
   "cell_type": "code",
   "execution_count": 60,
   "metadata": {},
   "outputs": [
    {
     "data": {
      "text/plain": [
       "<AxesSubplot:xlabel='Energy [MeV]', ylabel='Tally data normalized per unit lethargy $\\\\pm3\\\\sigma$'>"
      ]
     },
     "execution_count": 60,
     "metadata": {},
     "output_type": "execute_result"
    },
    {
     "data": {
      "image/png": "[encoded data removed]",
      "text/plain": [
       "<Figure size 640x480 with 1 Axes>"
      ]
     },
     "metadata": {},
     "output_type": "display_data"
    }
   ],
   "source": [
    "refFGS.spectrumPlot()"
   ]
  },
  {
   "cell_type": "code",
   "execution_count": 61,
   "metadata": {},
   "outputs": [],
   "source": [
    "normRefFGS = normZeroToOne(refFGS.tallies)"
   ]
  },
  {
   "cell_type": "code",
   "execution_count": 62,
   "metadata": {},
   "outputs": [
    {
     "data": {
      "text/plain": [
       "<matplotlib.patches.StepPatch at 0x7feee688de80>"
      ]
     },
     "execution_count": 62,
     "metadata": {},
     "output_type": "execute_result"
    },
    {
     "data": {
      "image/png": "[encoded data removed]",
      "text/plain": [
       "<Figure size 640x480 with 1 Axes>"
      ]
     },
     "metadata": {},
     "output_type": "display_data"
    }
   ],
   "source": [
    "plt.stairs(normRefFGS)"
   ]
  },
  {
   "cell_type": "code",
   "execution_count": 63,
   "metadata": {},
   "outputs": [],
   "source": [
    "#collectFGS\n",
    "nFewGroups = 18\n",
    "griff_coreResFGS = []\n",
    "griff_ringResFGS = []\n",
    "griff_elemResFGS = []\n",
    "for i in range(nFewGroups-1, -1, -1):\n",
    "    griff_coreResFGS.append(coreResDF['Flux{}'.format(i+1)][1])\n",
    "    griff_ringResFGS.append(ringResDF['Flux{}'.format(i+1)][1])\n",
    "    griff_elemResFGS.append(elemResDF['Flux{}'.format(i+1)][1])\n",
    "\n",
    "normGriff_ringResFGS = normZeroToOne(griff_ringResFGS)\n",
    "normGriff_coreResFGS = normZeroToOne(griff_coreResFGS)\n",
    "normGriff_elemResFGS = normZeroToOne(griff_elemResFGS)"
   ]
  },
  {
   "cell_type": "code",
   "execution_count": 64,
   "metadata": {},
   "outputs": [
    {
     "data": {
      "image/png": "[encoded data removed]",
      "text/plain": [
       "<Figure size 640x480 with 1 Axes>"
      ]
     },
     "metadata": {},
     "output_type": "display_data"
    }
   ],
   "source": [
    "plt.stairs(normGriff_coreResFGS, label = \"Griffin_Core\")\n",
    "plt.stairs(normGriff_ringResFGS, label = \"Griffin_Ring\")\n",
    "plt.stairs(normGriff_elemResFGS, label = \"Griffin_Elem\")\n",
    "plt.stairs(normRefFGS, label = \"Serpent\")\n",
    "plt.legend(loc='upper left')\n",
    "plt.tight_layout()\n",
    "plt.grid()"
   ]
  },
  {
   "cell_type": "code",
   "execution_count": 65,
   "metadata": {},
   "outputs": [],
   "source": [
    "def calcL2NormDiffPerc(ref,  comp):\n",
    "    diff = np.subtract(ref, comp)\n",
    "    diffNorm  = norm(diff)\n",
    "    base = norm(ref)\n",
    "    return (diffNorm/base)*100\n",
    "\n",
    "def calcPercentRelativeError(ref, comp):\n",
    "    relErr = []\n",
    "    diff = np.abs(np.subtract(ref, comp))\n",
    "\n",
    "    for i in range(0, len(diff)):\n",
    "        if diff[i] != 0:\n",
    "            #relErr.append(2*(diff[i]/(np.abs(ref[i])+np.abs(comp[i]))))\n",
    "            relErr.append(100*diff[i]/ref[i])\n",
    "        else:\n",
    "            relErr.append(0)\n",
    "    return relErr"
   ]
  },
  {
   "cell_type": "code",
   "execution_count": 66,
   "metadata": {},
   "outputs": [],
   "source": [
    "coreL2NormDiffFGS = calcL2NormDiffPerc(normRefFGS, normGriff_coreResFGS)\n",
    "ringL2NormDiffFGS = calcL2NormDiffPerc(normRefFGS, normGriff_ringResFGS)\n",
    "elemL2NormDiffFGS = calcL2NormDiffPerc(normRefFGS, normGriff_elemResFGS)"
   ]
  },
  {
   "cell_type": "code",
   "execution_count": 67,
   "metadata": {},
   "outputs": [
    {
     "name": "stdout",
     "output_type": "stream",
     "text": [
      "core resolution FGS l2normDiff (%): 0.624\n",
      "ring resolution FGS l2normDiff (%): 0.607\n",
      "elem resolution FGS l2normDiff (%): 0.609\n"
     ]
    }
   ],
   "source": [
    "print(\"core resolution FGS l2normDiff (%): {:.3f}\".format(coreL2NormDiffFGS))\n",
    "print(\"ring resolution FGS l2normDiff (%): {:.3f}\".format(ringL2NormDiffFGS))\n",
    "print(\"elem resolution FGS l2normDiff (%): {:.3f}\".format(elemL2NormDiffFGS))"
   ]
  },
  {
   "cell_type": "code",
   "execution_count": 68,
   "metadata": {},
   "outputs": [],
   "source": [
    "def createDetectors(unis):\n",
    "    detStr = \"\"\n",
    "    for i in range(0, len(unis)):\n",
    "        detStr = detStr + 'det nuFissRate{} dr -7 void du {}\\n'.format(unis[i], unis[i])\n",
    "        detStr = detStr + 'det capRate{} dr -2 void du {}\\n'.format(unis[i], unis[i])\n",
    "\n",
    "    return detStr"
   ]
  },
  {
   "cell_type": "markdown",
   "metadata": {},
   "source": [
    "#### Flux Map Comparison"
   ]
  },
  {
   "cell_type": "code",
   "execution_count": 69,
   "metadata": {},
   "outputs": [],
   "source": [
    "coreRefMapFile = '/Users/isaacnaupaaguirre/Documents/GitHub/SNAP-REACTORS/snapReactors/reactor_models/AutomatedSerpentModels/GCU/c3_radial_sens_2d/s82d_ac_c3_gcu_coreres.main_detMap.m'\n",
    "coreRefMapDet = st.read(coreRefMapFile, reader='det')\n",
    "\n",
    "ringRefMapFile = '/Users/isaacnaupaaguirre/Documents/GitHub/SNAP-REACTORS/snapReactors/reactor_models/AutomatedSerpentModels/GCU/c3_radial_sens_2d/s82d_ac_c3_gcu_ringres.main_det0.m'\n",
    "ringRefMapDet = st.read(ringRefMapFile, reader='det')\n",
    "\n",
    "elemRefMapFile = '/Users/isaacnaupaaguirre/Documents/GitHub/SNAP-REACTORS/snapReactors/reactor_models/AutomatedSerpentModels/GCU/c3_radial_sens_2d/s82d_ac_c3_gcu_elemres.main_det0.m'\n",
    "elemRefMapDet = st.read(elemRefMapFile, reader='det')"
   ]
  },
  {
   "cell_type": "code",
   "execution_count": 70,
   "metadata": {},
   "outputs": [],
   "source": [
    "def griffinFluxMapReader(path):\n",
    "    keys = ['volume', 'nufiss', 'power', 'absorption', 'scalar']\n",
    "    block = []\n",
    "    vol = []\n",
    "    nufiss = []\n",
    "    pow = []\n",
    "    abs = []\n",
    "    scalar = []\n",
    "    with open(path, \"r\") as f:\n",
    "        lines = f.readlines()\n",
    "        f.close()\n",
    "\n",
    "    bidx = None\n",
    "    eidx = None\n",
    "    hasBegun = False\n",
    "    for ldx, line in enumerate(lines):\n",
    "        if \"Block average\" in line:\n",
    "            bidx = ldx+2\n",
    "            hasBegun = True \n",
    "        if (line == \"\\n\") & hasBegun:\n",
    "            eidx = ldx\n",
    "            break\n",
    "    \n",
    "    data = lines[bidx:eidx]\n",
    "\n",
    "    dicts = []\n",
    "\n",
    "    for i in range(0, len(data)):\n",
    "        vals  = data[i].split()\n",
    "        block.append(vals[0])\n",
    "        vol.append(float(vals[1]))\n",
    "        nufiss.append(float(vals[2]))\n",
    "        pow.append(float(vals[3]))\n",
    "        abs.append(float(vals[4]))\n",
    "        scalar.append(float(vals[5]))\n",
    "\n",
    "        dset = [vol[i], nufiss[i], pow[i], abs[i], scalar[i]]\n",
    "        dicts.append(dict(zip(keys, dset)))\n",
    "\n",
    "\n",
    "    map = dict(zip(block, dicts))\n",
    "    return map"
   ]
  },
  {
   "cell_type": "code",
   "execution_count": 71,
   "metadata": {},
   "outputs": [],
   "source": [
    "coreGriffBlockMap = griffinFluxMapReader('/Users/isaacnaupaaguirre/Documents/GitHub/SNAP-REACTORS/snapReactors/reactor_models/AutomatedSerpentModels/GCU/c3_radial_sens_2d/core_flux_map.txt')\n",
    "ringGriffBlockMap = griffinFluxMapReader('/Users/isaacnaupaaguirre/Documents/GitHub/SNAP-REACTORS/snapReactors/reactor_models/AutomatedSerpentModels/GCU/c3_radial_sens_2d/ring_flux_map.txt')\n",
    "elemGriffBlockMap = griffinFluxMapReader('/Users/isaacnaupaaguirre/Documents/GitHub/SNAP-REACTORS/snapReactors/reactor_models/AutomatedSerpentModels/GCU/c3_radial_sens_2d/elem_flux_map.txt')"
   ]
  },
  {
   "cell_type": "code",
   "execution_count": 72,
   "metadata": {},
   "outputs": [],
   "source": [
    "def getBlock2UniMap(df, blockMap):\n",
    "    uniMap = {}\n",
    "    blocks = list(df['Block Name'])\n",
    "    unis = list(df['material_id'])\n",
    "\n",
    "    bkeyu = {}\n",
    "\n",
    "    for bdx, block in enumerate(blocks):\n",
    "        bkeyu[block.replace(\"block_\", \"\")] = str(int(unis[bdx]))\n",
    "\n",
    "    for block in blockMap:\n",
    "        uniMap[bkeyu[block]] = blockMap[block]\n",
    "    \n",
    "    return uniMap"
   ]
  },
  {
   "cell_type": "code",
   "execution_count": 86,
   "metadata": {},
   "outputs": [],
   "source": [
    "def getUni2BlockMap(df, uniMap):\n",
    "    blockMap = {}\n",
    "\n",
    "    blocks = list(df['Block Name'])\n",
    "    unis = list(df['material_id'])\n",
    "\n",
    "    ukeyb = {}\n",
    "\n",
    "    for bdx, block in enumerate(blocks):\n",
    "        ukeyb[str(int(unis[bdx]))] = block.replace(\"block_\", \"\")\n",
    "\n",
    "    for uni in uniMap:\n",
    "        # uniMap[bkeyu[block]] = blockMap[block]\n",
    "\n",
    "        blockMap[ukeyb[uni]] = uniMap[str(uni)]\n",
    "    return blockMap"
   ]
  },
  {
   "cell_type": "code",
   "execution_count": 74,
   "metadata": {},
   "outputs": [],
   "source": [
    "corePointData = pd.read_csv('snapReactors/reactor_models/AutomatedSerpentModels/GCU/c3_radial_sens_2d/s82d_ac_c3_gcu_coreres_cellPointdata.csv')\n",
    "ringPointData = pd.read_csv('snapReactors/reactor_models/AutomatedSerpentModels/GCU/c3_radial_sens_2d/s82d_ac_c3_gcu_ringres_cellPointdata.csv')\n",
    "elemPointData = pd.read_csv('snapReactors/reactor_models/AutomatedSerpentModels/GCU/c3_radial_sens_2d/s82d_ac_c3_gcu_elemres_cellPointdata.csv')"
   ]
  },
  {
   "cell_type": "code",
   "execution_count": 75,
   "metadata": {},
   "outputs": [],
   "source": [
    "coreGriffMap = getBlock2UniMap(corePointData, coreGriffBlockMap)\n",
    "ringGriffMap = getBlock2UniMap(ringPointData, ringGriffBlockMap)\n",
    "elemGriffMap = getBlock2UniMap(elemPointData, elemGriffBlockMap)"
   ]
  },
  {
   "cell_type": "code",
   "execution_count": 76,
   "metadata": {},
   "outputs": [],
   "source": [
    "# print(coreGriffMap)\n",
    "# print(ringGriffMap)\n",
    "# print(elemGriffMap)"
   ]
  },
  {
   "cell_type": "code",
   "execution_count": 77,
   "metadata": {},
   "outputs": [],
   "source": [
    "coreUnis = list(coreGriffMap.keys())\n",
    "ringUnis = list(ringGriffMap.keys())\n",
    "elemUnis = list(elemGriffMap.keys())\n",
    "\n",
    "# print(createDetectors(coreUnis))\n",
    "# print(createDetectors(ringUnis))\n",
    "# print(createDetectors(elemUnis))"
   ]
  },
  {
   "cell_type": "code",
   "execution_count": 78,
   "metadata": {},
   "outputs": [],
   "source": [
    "def getUniValsList(map, attr):\n",
    "    vals = []\n",
    "    for uni in map:\n",
    "        vals.append(map[uni][attr])\n",
    "    return vals"
   ]
  },
  {
   "cell_type": "code",
   "execution_count": 79,
   "metadata": {},
   "outputs": [],
   "source": [
    "coreNuFissMap = {}\n",
    "coreCapMap = {}\n",
    "\n",
    "coreNuFiss = []\n",
    "coreCap = []\n",
    "\n",
    "ringNuFissMap = {}\n",
    "ringCapMap = {}\n",
    "\n",
    "ringNuFiss = []\n",
    "ringCap = []\n",
    "\n",
    "elemNuFissMap = {}\n",
    "elemCapMap = {}\n",
    "\n",
    "elemNuFiss = []\n",
    "elemCap = []\n",
    "\n",
    "for uni in coreUnis:\n",
    "    coreNuFissMap[uni] = coreRefMapDet[\"nuFissRate{}\".format(uni)]\n",
    "    coreCapMap[uni] = coreRefMapDet[\"capRate{}\".format(uni)]\n",
    "\n",
    "for uni in ringUnis:\n",
    "    ringNuFissMap[uni] = ringRefMapDet[\"nuFissRate{}\".format(uni)]\n",
    "    ringCapMap[uni] = ringRefMapDet[\"capRate{}\".format(uni)]\n",
    "\n",
    "for uni in elemUnis:\n",
    "    elemNuFissMap[uni] = elemRefMapDet[\"nuFissRate{}\".format(uni)]\n",
    "    elemCapMap[uni] = elemRefMapDet[\"capRate{}\".format(uni)]"
   ]
  },
  {
   "cell_type": "code",
   "execution_count": 80,
   "metadata": {},
   "outputs": [],
   "source": [
    "for uni in coreNuFissMap:\n",
    "    coreNuFiss.append(coreNuFissMap[uni].tallies/coreGriffMap[uni]['volume'])\n",
    "    coreCap.append(coreCapMap[uni].tallies/coreGriffMap[uni]['volume'])\n",
    "\n",
    "for uni in ringNuFissMap:\n",
    "    ringNuFiss.append(ringNuFissMap[uni].tallies/ringGriffMap[uni]['volume'])\n",
    "    ringCap.append(ringCapMap[uni].tallies/ringGriffMap[uni]['volume'])\n",
    "\n",
    "for uni in elemNuFissMap:\n",
    "    elemNuFiss.append(elemNuFissMap[uni].tallies/elemGriffMap[uni]['volume'])\n",
    "    elemCap.append(elemCapMap[uni].tallies/elemGriffMap[uni]['volume'])"
   ]
  },
  {
   "cell_type": "code",
   "execution_count": 87,
   "metadata": {},
   "outputs": [],
   "source": [
    "elemNuFissBlockMap = getUni2BlockMap(elemPointData, elemNuFissMap)"
   ]
  },
  {
   "cell_type": "code",
   "execution_count": 43,
   "metadata": {},
   "outputs": [],
   "source": [
    "griffCoreNuFiss = getUniValsList(coreGriffMap, 'nufiss')\n",
    "griffRingNuFiss = getUniValsList(ringGriffMap, 'nufiss')\n",
    "griffElemNuFiss = getUniValsList(elemGriffMap, 'nufiss')"
   ]
  },
  {
   "cell_type": "code",
   "execution_count": 44,
   "metadata": {},
   "outputs": [
    {
     "data": {
      "image/png": "[encoded data removed]",
      "text/plain": [
       "<Figure size 640x480 with 1 Axes>"
      ]
     },
     "metadata": {},
     "output_type": "display_data"
    }
   ],
   "source": [
    "plt.plot(normZeroToOne(griffRingNuFiss), label = \"griffin nuSigF\", marker = \"o\")\n",
    "plt.plot(normZeroToOne(ringNuFiss), label = \"serpent nuSigF\")\n",
    "plt.ylabel(\"Normalized Radial NuFissRate\")\n",
    "plt.xlabel(\"Radial Bin\")\n",
    "plt.legend()\n",
    "plt.grid()"
   ]
  },
  {
   "cell_type": "code",
   "execution_count": 45,
   "metadata": {},
   "outputs": [
    {
     "data": {
      "image/png": "[encoded data removed]",
      "text/plain": [
       "<Figure size 640x480 with 1 Axes>"
      ]
     },
     "metadata": {},
     "output_type": "display_data"
    }
   ],
   "source": [
    "plt.plot(normZeroToOne(griffRingNuFiss[0:8]), label = \"griffin nuSigF\", marker = \"o\")\n",
    "plt.plot(normZeroToOne(ringNuFiss[0:8]), label = \"serpent nuSigF\")\n",
    "plt.ylabel(\"Normalized Radial NuFissRate\")\n",
    "plt.xlabel(\"Radial Bin\")\n",
    "plt.legend()\n",
    "plt.grid()"
   ]
  },
  {
   "cell_type": "code",
   "execution_count": 46,
   "metadata": {},
   "outputs": [
    {
     "name": "stdout",
     "output_type": "stream",
     "text": [
      "ring resolution NuFissRate l2normDiff (%): 0.112\n"
     ]
    }
   ],
   "source": [
    "ringL2NormDiffNuFiss = calcL2NormDiffPerc(normZeroToOne(ringNuFiss), normZeroToOne(griffRingNuFiss))\n",
    "print(\"ring resolution NuFissRate l2normDiff (%): {:.3f}\".format(ringL2NormDiffNuFiss))"
   ]
  },
  {
   "cell_type": "code",
   "execution_count": 47,
   "metadata": {},
   "outputs": [],
   "source": [
    "coreNuFissRateRelError = calcPercentRelativeError(normZeroToOne(coreNuFiss), normZeroToOne(griffCoreNuFiss))\n",
    "coreNuFissRateRelErrorMap = dict(zip(coreUnis, coreNuFissRateRelError))\n",
    "\n",
    "ringNuFissRateRelError = calcPercentRelativeError(normZeroToOne(ringNuFiss), normZeroToOne(griffRingNuFiss))\n",
    "ringNuFissRateRelErrorMap = dict(zip(ringUnis, ringNuFissRateRelError))\n",
    "\n",
    "elemNuFissRateRelError = calcPercentRelativeError(normZeroToOne(elemNuFiss), normZeroToOne(griffElemNuFiss))\n",
    "elemNuFissRateRelErrorMap = dict(zip(elemUnis, elemNuFissRateRelError))"
   ]
  },
  {
   "cell_type": "code",
   "execution_count": 48,
   "metadata": {},
   "outputs": [
    {
     "data": {
      "image/png": "[encoded data removed]",
      "text/plain": [
       "<Figure size 640x480 with 1 Axes>"
      ]
     },
     "metadata": {},
     "output_type": "display_data"
    }
   ],
   "source": [
    "plt.stairs(ringNuFissRateRelError , label = \"nuSigF\", alpha = 1)\n",
    "plt.ylabel(\"Normalized Radial NuFissRate Relative Difference %\")\n",
    "plt.xlabel(\"Radial Bin\")\n",
    "plt.legend()\n",
    "plt.grid(alpha = 0.5)"
   ]
  },
  {
   "cell_type": "code",
   "execution_count": 99,
   "metadata": {},
   "outputs": [],
   "source": [
    "def createAppendCSV(cellData, keys, params, vals, exportPath, useBlockId = False):\n",
    "    xyz = ['x', 'y', 'z']\n",
    "\n",
    "    for param in params:\n",
    "        xyz.append(param)\n",
    "\n",
    "    appendDF = pd.DataFrame(columns=xyz)\n",
    "\n",
    "    map = {}\n",
    "\n",
    "    for key in keys:\n",
    "        for pdx, param in enumerate(params):\n",
    "            map[key] = {}\n",
    "            \n",
    "    for kdx, key in enumerate(keys):\n",
    "        for pdx, param in enumerate(params):\n",
    "            map[key][param] = vals[pdx][kdx]\n",
    "\n",
    "    \n",
    "    if not useBlockId:\n",
    "        pointKeys = np.array(list(cellData['material_id'])).astype('int')\n",
    "    else:\n",
    "        pointKeys = []\n",
    "        blocks = list(cellData['Block Name'])\n",
    "        for i in range(0, len(blocks)):\n",
    "            pointKeys.append(int(blocks[i].replace(\"block_\", \"\")))\n",
    "\n",
    "    appendDF['x'] = list(cellData['Points_0'])\n",
    "    appendDF['y'] = list(cellData['Points_1'])\n",
    "    appendDF['z'] = list(cellData['Points_2'])\n",
    "\n",
    "    for param in params:\n",
    "        pointData = []\n",
    "        for i in range(0, len(pointKeys)):\n",
    "            pointData.append(map[str(pointKeys[i])][param])\n",
    "        \n",
    "        appendDF[param] = pointData\n",
    "\n",
    "    appendDF.to_csv(exportPath, index=False)\n",
    "    \n",
    "    return appendDF"
   ]
  },
  {
   "cell_type": "code",
   "execution_count": 100,
   "metadata": {},
   "outputs": [
    {
     "ename": "NameError",
     "evalue": "name 'coreNuFissRateRelError' is not defined",
     "output_type": "error",
     "traceback": [
      "\u001b[0;31m---------------------------------------------------------------------------\u001b[0m",
      "\u001b[0;31mNameError\u001b[0m                                 Traceback (most recent call last)",
      "\u001b[0;32m/var/folders/k4/72jl4d_n4yb0qb06hc1sq4vr0000gn/T/ipykernel_24028/129876708.py\u001b[0m in \u001b[0;36m<module>\u001b[0;34m\u001b[0m\n\u001b[1;32m      1\u001b[0m \u001b[0mcoreParams\u001b[0m \u001b[0;34m=\u001b[0m \u001b[0;34m[\u001b[0m\u001b[0;34m'nuFissRate'\u001b[0m\u001b[0;34m,\u001b[0m \u001b[0;34m'nuFissRateRelError'\u001b[0m\u001b[0;34m]\u001b[0m\u001b[0;34m\u001b[0m\u001b[0;34m\u001b[0m\u001b[0m\n\u001b[0;32m----> 2\u001b[0;31m \u001b[0mcoreVals\u001b[0m \u001b[0;34m=\u001b[0m \u001b[0;34m[\u001b[0m\u001b[0mgetUniValsList\u001b[0m\u001b[0;34m(\u001b[0m\u001b[0mcoreGriffMap\u001b[0m\u001b[0;34m,\u001b[0m \u001b[0;34m'nufiss'\u001b[0m\u001b[0;34m)\u001b[0m\u001b[0;34m,\u001b[0m \u001b[0mcoreNuFissRateRelError\u001b[0m\u001b[0;34m]\u001b[0m\u001b[0;34m\u001b[0m\u001b[0;34m\u001b[0m\u001b[0m\n\u001b[0m\u001b[1;32m      3\u001b[0m \u001b[0mcorePath\u001b[0m \u001b[0;34m=\u001b[0m \u001b[0;34m'/Users/isaacnaupaaguirre/Documents/GitHub/SNAP-REACTORS/snapReactors/reactor_models/AutomatedSerpentModels/GCU/c3_radial_sens_2d/s82d_ac_c3_gcu_coreres_cellPointdataAppend.csv'\u001b[0m\u001b[0;34m\u001b[0m\u001b[0;34m\u001b[0m\u001b[0m\n\u001b[1;32m      4\u001b[0m \u001b[0;34m\u001b[0m\u001b[0m\n\u001b[1;32m      5\u001b[0m \u001b[0mringParams\u001b[0m \u001b[0;34m=\u001b[0m \u001b[0;34m[\u001b[0m\u001b[0;34m'nuFissRate'\u001b[0m\u001b[0;34m,\u001b[0m \u001b[0;34m'nuFissRateRelError'\u001b[0m\u001b[0;34m]\u001b[0m\u001b[0;34m\u001b[0m\u001b[0;34m\u001b[0m\u001b[0m\n",
      "\u001b[0;31mNameError\u001b[0m: name 'coreNuFissRateRelError' is not defined"
     ]
    }
   ],
   "source": [
    "coreParams = ['nuFissRate', 'nuFissRateRelError']\n",
    "coreVals = [getUniValsList(coreGriffMap, 'nufiss'), coreNuFissRateRelError]\n",
    "corePath = '/Users/isaacnaupaaguirre/Documents/GitHub/SNAP-REACTORS/snapReactors/reactor_models/AutomatedSerpentModels/GCU/c3_radial_sens_2d/s82d_ac_c3_gcu_coreres_cellPointdataAppend.csv'\n",
    "\n",
    "ringParams = ['nuFissRate', 'nuFissRateRelError']\n",
    "ringVals = [getUniValsList(ringGriffMap, 'nufiss'), ringNuFissRateRelError]\n",
    "ringPath = '/Users/isaacnaupaaguirre/Documents/GitHub/SNAP-REACTORS/snapReactors/reactor_models/AutomatedSerpentModels/GCU/c3_radial_sens_2d/s82d_ac_c3_gcu_ringres_cellPointdataAppend.csv'\n",
    "\n",
    "elemParams = ['nuFissRate', 'nuFissRateRelError']\n",
    "elemVals = [getUniValsList(elemGriffMap, 'nufiss'), elemNuFissRateRelError]\n",
    "elemPath = '/Users/isaacnaupaaguirre/Documents/GitHub/SNAP-REACTORS/snapReactors/reactor_models/AutomatedSerpentModels/GCU/c3_radial_sens_2d/s82d_ac_c3_gcu_elemres_cellPointdataAppend.csv'\n",
    "\n",
    "createAppendCSV(corePointData, coreUnis, coreParams, coreVals, corePath)\n",
    "createAppendCSV(ringPointData, ringUnis, ringParams, ringVals, ringPath)\n",
    "createAppendCSV(elemPointData, elemUnis, elemParams, elemVals, elemPath);"
   ]
  },
  {
   "cell_type": "markdown",
   "metadata": {},
   "source": [
    "#### Element Based Flux Map\n",
    "![alt text](elem_flux.png \"Title\")"
   ]
  },
  {
   "cell_type": "markdown",
   "metadata": {},
   "source": [
    "#### Element Based - Elem XS Flux Rel Error Map\n",
    "![alt text](elem_flux_relerr.png \"Title\")"
   ]
  },
  {
   "cell_type": "markdown",
   "metadata": {},
   "source": [
    "#### Element Based - Ring XS Flux Rel Error Map\n",
    "![alt text](elem_ringxs_flux_relerr.png \"Title\")"
   ]
  },
  {
   "cell_type": "markdown",
   "metadata": {},
   "source": [
    "#### Element Based - Core XS Flux Rel Error Map\n",
    "![alt text](elem_corexs_flux_relerr.png \"Title\")"
   ]
  },
  {
   "cell_type": "code",
   "execution_count": 101,
   "metadata": {},
   "outputs": [],
   "source": [
    "# gen fuelmat if for elem-based mesh using core based xs\n",
    "elemMatId =  '20000 30000 40000 50000 60000 70000 80000 100000 110000 120000 130000 140000 150000 160000 170000 180000 190000 200000 210000 220000 230000 240000 250000 260000 270000 280000 290000 300000 310000 320000 330000 340000 350000 360000 370000 380000 390000 400000 410000 420000 430000 440000 450000 460000 470000 480000 490000 500000 510000 520000 530000 540000 550000 560000 570000 580000 590000 600000 610000 620000 630000 640000 650000 660000 670000 680000 690000 700000 710000 720000 730000 740000 750000 760000 770000 780000 790000 800000 810000 820000 830000 840000 850000 860000 870000 880000 890000 900000 910000 920000 930000 940000 950000 960000 970000 980000 990000 1000000 1020000 1030000 1040000 1050000 1060000 1070000 1080000 1090000 1100000 1110000 1120000 1130000 1140000 1150000 1160000 1180000 1190000 1200000 1210000 1220000 1230000 1240000 1250000 1260000 1270000 1280000 1290000 1300000 1310000 1320000 1330000 1340000 1350000 1360000 1370000 1380000 1390000 1400000 1410000 1420000 1430000 1440000 1450000 1460000 1470000 1480000 1490000 1500000 1510000 1520000 1530000 1540000 1550000 1560000 1570000 1580000 1590000 1600000 1610000 1620000 1630000 1640000 1650000 1660000 1670000 1680000 1690000 1700000 1710000 1720000 1730000 1740000 1750000 1760000 1770000 1780000 1790000 1800000 1810000 1820000 1830000 1840000 1850000 1860000 1870000 1880000 1890000 1900000 1910000 1920000 1930000 1940000 1950000 1960000 1970000 1980000 1990000 2000000 2010000 2020000 2030000 2040000 2050000 2060000 2070000 2080000 2100000 2110000 2120000 2130000 2140000 2150000 2160000'\n",
    "elemMatIds =  elemMatId.split()\n",
    "\n",
    "coreFuelMatId = \"100\"\n",
    "\n",
    "newCoreMatId = ''\n",
    "\n",
    "for i in range(0, len(elemMatIds)):\n",
    "    newCoreMatId = newCoreMatId + \"{} \".format(coreFuelMatId)\n"
   ]
  },
  {
   "cell_type": "code",
   "execution_count": 102,
   "metadata": {},
   "outputs": [
    {
     "data": {
      "text/plain": [
       "'100 100 100 100 100 100 100 100 100 100 100 100 100 100 100 100 100 100 100 100 100 100 100 100 100 100 100 100 100 100 100 100 100 100 100 100 100 100 100 100 100 100 100 100 100 100 100 100 100 100 100 100 100 100 100 100 100 100 100 100 100 100 100 100 100 100 100 100 100 100 100 100 100 100 100 100 100 100 100 100 100 100 100 100 100 100 100 100 100 100 100 100 100 100 100 100 100 100 100 100 100 100 100 100 100 100 100 100 100 100 100 100 100 100 100 100 100 100 100 100 100 100 100 100 100 100 100 100 100 100 100 100 100 100 100 100 100 100 100 100 100 100 100 100 100 100 100 100 100 100 100 100 100 100 100 100 100 100 100 100 100 100 100 100 100 100 100 100 100 100 100 100 100 100 100 100 100 100 100 100 100 100 100 100 100 100 100 100 100 100 100 100 100 100 100 100 100 100 100 100 100 100 100 100 100 100 100 100 100 100 100 '"
      ]
     },
     "execution_count": 102,
     "metadata": {},
     "output_type": "execute_result"
    }
   ],
   "source": [
    "newCoreMatId"
   ]
  },
  {
   "cell_type": "code",
   "execution_count": 103,
   "metadata": {},
   "outputs": [],
   "source": [
    "ringLay =             \"9 8 8 8 8 8 8 8 9;\\\n",
    "                      8 7 7 7 7 7 7 7 7 8;\\\n",
    "                     8 7 6 6 6 6 6 6 6 7 8;\\\n",
    "                    8 7 6 5 5 5 5 5 5 6 7 8;\\\n",
    "                   8 7 6 5 4 4 4 4 4 5 6 7 8;\\\n",
    "                  8 7 6 5 4 3 3 3 3 4 5 6 7 8;\\\n",
    "                 8 7 6 5 4 3 2 2 2 3 4 5 6 7 8;\\\n",
    "                8 7 6 5 4 3 2 1 1 2 3 4 5 6 7 8;\\\n",
    "               9 7 6 5 4 3 2 1 1 1 2 3 4 5 6 7 9;\\\n",
    "                8 7 6 5 4 3 2 1 1 2 3 4 5 6 7 8;\\\n",
    "                 8 7 6 5 4 3 2 2 2 3 4 5 6 7 8;\\\n",
    "                  8 7 6 5 4 3 3 3 3 4 5 6 7 8;\\\n",
    "                   8 7 6 5 4 4 4 4 4 5 6 7 8;\\\n",
    "                    8 7 6 5 5 5 5 5 5 6 7 8;\\\n",
    "                     8 7 6 6 6 6 6 6 6 7 8;\\\n",
    "                      8 7 7 7 7 7 7 7 7 8;\\\n",
    "                       9 8 8 8 8 8 8 8 9\""
   ]
  },
  {
   "cell_type": "code",
   "execution_count": 104,
   "metadata": {},
   "outputs": [],
   "source": [
    "elemLay =  \"9 2 3 4 5 6 7 8 9;\\\n",
    "10 11 12 13 14 15 16 17 18 19;\\\n",
    "20 21 22 23 24 25 26 27 28 29 30;\\\n",
    "31 32 33 34 35 36 37 38 39 40 41 42;\\\n",
    "43 44 45 46 47 48 49 50 51 52 53 54 55;\\\n",
    "56 57 58 59 60 61 62 63 64 65 66 67 68 69;\\\n",
    "70 71 72 73 74 75 76 77 78 79 80 81 82 83 84;\\\n",
    "85 86 87 88 89 90 91 92 93 94 95 96 97 98 99 100;\\\n",
    "9 102 103 104 105 106 107 108 109 110 111 112 113 114 115 116 9;\\\n",
    "118 119 120 121 122 123 124 125 126 127 128 129 130 131 132 133;\\\n",
    "134 135 136 137 138 139 140 141 142 143 144 145 146 147 148;\\\n",
    "149 150 151 152 153 154 155 156 157 158 159 160 161 162;\\\n",
    "163 164 165 166 167 168 169 170 171 172 173 174 175;\\\n",
    "176 177 178 179 180 181 182 183 184 185 186 187;\\\n",
    "188 189 190 191 192 193 194 195 196 197 198;\\\n",
    "199 200 201 202 203 204 205 206 207 208;\\\n",
    "9 210 211 212 213 214 215 216 9\""
   ]
  },
  {
   "cell_type": "code",
   "execution_count": 105,
   "metadata": {},
   "outputs": [],
   "source": [
    "elemLines = elemLay.split(\";\")\n",
    "ringLines = ringLay.split(\";\")"
   ]
  },
  {
   "cell_type": "code",
   "execution_count": 106,
   "metadata": {},
   "outputs": [],
   "source": [
    "newRingLay = \"\"\n",
    "ringBlockLay = \"\""
   ]
  },
  {
   "cell_type": "code",
   "execution_count": 107,
   "metadata": {},
   "outputs": [],
   "source": [
    "for i in range(0, len(elemLines)):\n",
    "    ringBlock = ringLines[i].split()\n",
    "    for bdx, block in enumerate(elemLines[i].split()):\n",
    "        newRingLay = newRingLay + \"elem: {}, ring: {} \".format(block, ringBlock[bdx])\n",
    "        ringBlockLay = ringBlockLay + \"{} \".format(int(ringBlock[bdx])*100)\n"
   ]
  },
  {
   "cell_type": "code",
   "execution_count": 108,
   "metadata": {},
   "outputs": [
    {
     "name": "stdout",
     "output_type": "stream",
     "text": [
      "elem: 9, ring: 9 elem: 2, ring: 8 elem: 3, ring: 8 elem: 4, ring: 8 elem: 5, ring: 8 elem: 6, ring: 8 elem: 7, ring: 8 elem: 8, ring: 8 elem: 9, ring: 9 elem: 10, ring: 8 elem: 11, ring: 7 elem: 12, ring: 7 elem: 13, ring: 7 elem: 14, ring: 7 elem: 15, ring: 7 elem: 16, ring: 7 elem: 17, ring: 7 elem: 18, ring: 7 elem: 19, ring: 8 elem: 20, ring: 8 elem: 21, ring: 7 elem: 22, ring: 6 elem: 23, ring: 6 elem: 24, ring: 6 elem: 25, ring: 6 elem: 26, ring: 6 elem: 27, ring: 6 elem: 28, ring: 6 elem: 29, ring: 7 elem: 30, ring: 8 elem: 31, ring: 8 elem: 32, ring: 7 elem: 33, ring: 6 elem: 34, ring: 5 elem: 35, ring: 5 elem: 36, ring: 5 elem: 37, ring: 5 elem: 38, ring: 5 elem: 39, ring: 5 elem: 40, ring: 6 elem: 41, ring: 7 elem: 42, ring: 8 elem: 43, ring: 8 elem: 44, ring: 7 elem: 45, ring: 6 elem: 46, ring: 5 elem: 47, ring: 4 elem: 48, ring: 4 elem: 49, ring: 4 elem: 50, ring: 4 elem: 51, ring: 4 elem: 52, ring: 5 elem: 53, ring: 6 elem: 54, ring: 7 elem: 55, ring: 8 elem: 56, ring: 8 elem: 57, ring: 7 elem: 58, ring: 6 elem: 59, ring: 5 elem: 60, ring: 4 elem: 61, ring: 3 elem: 62, ring: 3 elem: 63, ring: 3 elem: 64, ring: 3 elem: 65, ring: 4 elem: 66, ring: 5 elem: 67, ring: 6 elem: 68, ring: 7 elem: 69, ring: 8 elem: 70, ring: 8 elem: 71, ring: 7 elem: 72, ring: 6 elem: 73, ring: 5 elem: 74, ring: 4 elem: 75, ring: 3 elem: 76, ring: 2 elem: 77, ring: 2 elem: 78, ring: 2 elem: 79, ring: 3 elem: 80, ring: 4 elem: 81, ring: 5 elem: 82, ring: 6 elem: 83, ring: 7 elem: 84, ring: 8 elem: 85, ring: 8 elem: 86, ring: 7 elem: 87, ring: 6 elem: 88, ring: 5 elem: 89, ring: 4 elem: 90, ring: 3 elem: 91, ring: 2 elem: 92, ring: 1 elem: 93, ring: 1 elem: 94, ring: 2 elem: 95, ring: 3 elem: 96, ring: 4 elem: 97, ring: 5 elem: 98, ring: 6 elem: 99, ring: 7 elem: 100, ring: 8 elem: 9, ring: 9 elem: 102, ring: 7 elem: 103, ring: 6 elem: 104, ring: 5 elem: 105, ring: 4 elem: 106, ring: 3 elem: 107, ring: 2 elem: 108, ring: 1 elem: 109, ring: 1 elem: 110, ring: 1 elem: 111, ring: 2 elem: 112, ring: 3 elem: 113, ring: 4 elem: 114, ring: 5 elem: 115, ring: 6 elem: 116, ring: 7 elem: 9, ring: 9 elem: 118, ring: 8 elem: 119, ring: 7 elem: 120, ring: 6 elem: 121, ring: 5 elem: 122, ring: 4 elem: 123, ring: 3 elem: 124, ring: 2 elem: 125, ring: 1 elem: 126, ring: 1 elem: 127, ring: 2 elem: 128, ring: 3 elem: 129, ring: 4 elem: 130, ring: 5 elem: 131, ring: 6 elem: 132, ring: 7 elem: 133, ring: 8 elem: 134, ring: 8 elem: 135, ring: 7 elem: 136, ring: 6 elem: 137, ring: 5 elem: 138, ring: 4 elem: 139, ring: 3 elem: 140, ring: 2 elem: 141, ring: 2 elem: 142, ring: 2 elem: 143, ring: 3 elem: 144, ring: 4 elem: 145, ring: 5 elem: 146, ring: 6 elem: 147, ring: 7 elem: 148, ring: 8 elem: 149, ring: 8 elem: 150, ring: 7 elem: 151, ring: 6 elem: 152, ring: 5 elem: 153, ring: 4 elem: 154, ring: 3 elem: 155, ring: 3 elem: 156, ring: 3 elem: 157, ring: 3 elem: 158, ring: 4 elem: 159, ring: 5 elem: 160, ring: 6 elem: 161, ring: 7 elem: 162, ring: 8 elem: 163, ring: 8 elem: 164, ring: 7 elem: 165, ring: 6 elem: 166, ring: 5 elem: 167, ring: 4 elem: 168, ring: 4 elem: 169, ring: 4 elem: 170, ring: 4 elem: 171, ring: 4 elem: 172, ring: 5 elem: 173, ring: 6 elem: 174, ring: 7 elem: 175, ring: 8 elem: 176, ring: 8 elem: 177, ring: 7 elem: 178, ring: 6 elem: 179, ring: 5 elem: 180, ring: 5 elem: 181, ring: 5 elem: 182, ring: 5 elem: 183, ring: 5 elem: 184, ring: 5 elem: 185, ring: 6 elem: 186, ring: 7 elem: 187, ring: 8 elem: 188, ring: 8 elem: 189, ring: 7 elem: 190, ring: 6 elem: 191, ring: 6 elem: 192, ring: 6 elem: 193, ring: 6 elem: 194, ring: 6 elem: 195, ring: 6 elem: 196, ring: 6 elem: 197, ring: 7 elem: 198, ring: 8 elem: 199, ring: 8 elem: 200, ring: 7 elem: 201, ring: 7 elem: 202, ring: 7 elem: 203, ring: 7 elem: 204, ring: 7 elem: 205, ring: 7 elem: 206, ring: 7 elem: 207, ring: 7 elem: 208, ring: 8 elem: 9, ring: 9 elem: 210, ring: 8 elem: 211, ring: 8 elem: 212, ring: 8 elem: 213, ring: 8 elem: 214, ring: 8 elem: 215, ring: 8 elem: 216, ring: 8 elem: 9, ring: 9 \n"
     ]
    }
   ],
   "source": [
    "print(newRingLay)"
   ]
  },
  {
   "cell_type": "code",
   "execution_count": 109,
   "metadata": {},
   "outputs": [
    {
     "data": {
      "text/plain": [
       "' 800 800 800 800 800 800 800  800 700 700 700 700 700 700 700 700 800 800 700 600 600 600 600 600 600 600 700 800 800 700 600 500 500 500 500 500 500 600 700 800 800 700 600 500 400 400 400 400 400 500 600 700 800 800 700 600 500 400 300 300 300 300 400 500 600 700 800 800 700 600 500 400 300 200 200 200 300 400 500 600 700 800 800 700 600 500 400 300 200 100 100 200 300 400 500 600 700 800  700 600 500 400 300 200 100 100 100 200 300 400 500 600 700  800 700 600 500 400 300 200 100 100 200 300 400 500 600 700 800 800 700 600 500 400 300 200 200 200 300 400 500 600 700 800 800 700 600 500 400 300 300 300 300 400 500 600 700 800 800 700 600 500 400 400 400 400 400 500 600 700 800 800 700 600 500 500 500 500 500 500 600 700 800 800 700 600 600 600 600 600 600 600 700 800 800 700 700 700 700 700 700 700 700 800  800 800 800 800 800 800 800  '"
      ]
     },
     "execution_count": 109,
     "metadata": {},
     "output_type": "execute_result"
    }
   ],
   "source": [
    "ringBlockLay.replace(\"900\", \"\")"
   ]
  },
  {
   "cell_type": "markdown",
   "metadata": {},
   "source": []
  },
  {
   "cell_type": "markdown",
   "metadata": {},
   "source": [
    "#### Elem-based mesh with different xs resolutions i,e, ring, core, etc."
   ]
  },
  {
   "cell_type": "code",
   "execution_count": 110,
   "metadata": {},
   "outputs": [],
   "source": [
    "elem_ringxsGriffBlockMap = griffinFluxMapReader('/Users/isaacnaupaaguirre/Documents/GitHub/SNAP-REACTORS/snapReactors/reactor_models/AutomatedSerpentModels/GCU/c3_radial_sens_2d/elem_ringxs_flux_map.txt')\n",
    "elem_corexsGriffBlockMap = griffinFluxMapReader('/Users/isaacnaupaaguirre/Documents/GitHub/SNAP-REACTORS/snapReactors/reactor_models/AutomatedSerpentModels/GCU/c3_radial_sens_2d/elem_corexs_flux_map.txt')"
   ]
  },
  {
   "cell_type": "code",
   "execution_count": 111,
   "metadata": {},
   "outputs": [
    {
     "data": {
      "text/plain": [
       "{'2': {'volume': 1.815297,\n",
       "  'nufiss': 0.002533548,\n",
       "  'power': 3.37661e-14,\n",
       "  'absorption': 0.001501855,\n",
       "  'scalar': 0.03585763},\n",
       " '3': {'volume': 1.815297,\n",
       "  'nufiss': 0.002570239,\n",
       "  'power': 3.425234e-14,\n",
       "  'absorption': 0.001526575,\n",
       "  'scalar': 0.03741282},\n",
       " '4': {'volume': 1.815297,\n",
       "  'nufiss': 0.002610769,\n",
       "  'power': 3.479145e-14,\n",
       "  'absorption': 0.001551143,\n",
       "  'scalar': 0.03831794},\n",
       " '5': {'volume': 1.815297,\n",
       "  'nufiss': 0.002624264,\n",
       "  'power': 3.497099e-14,\n",
       "  'absorption': 0.001559394,\n",
       "  'scalar': 0.03863074},\n",
       " '6': {'volume': 1.815297,\n",
       "  'nufiss': 0.002610766,\n",
       "  'power': 3.479141e-14,\n",
       "  'absorption': 0.001551142,\n",
       "  'scalar': 0.03831793},\n",
       " '7': {'volume': 1.815297,\n",
       "  'nufiss': 0.002570229,\n",
       "  'power': 3.425221e-14,\n",
       "  'absorption': 0.001526569,\n",
       "  'scalar': 0.03741268},\n",
       " '8': {'volume': 1.815297,\n",
       "  'nufiss': 0.002533571,\n",
       "  'power': 3.376641e-14,\n",
       "  'absorption': 0.001501867,\n",
       "  'scalar': 0.03585728},\n",
       " '9': {'volume': 43.60424,\n",
       "  'nufiss': 0.0,\n",
       "  'power': 0.0,\n",
       "  'absorption': 1.826633e-07,\n",
       "  'scalar': 0.03470734},\n",
       " '10': {'volume': 1.815297,\n",
       "  'nufiss': 0.00253398,\n",
       "  'power': 3.377174e-14,\n",
       "  'absorption': 0.001502097,\n",
       "  'scalar': 0.03588344},\n",
       " '11': {'volume': 1.815297,\n",
       "  'nufiss': 0.002560675,\n",
       "  'power': 3.412119e-14,\n",
       "  'absorption': 0.001521888,\n",
       "  'scalar': 0.03870798},\n",
       " '12': {'volume': 1.815297,\n",
       "  'nufiss': 0.002629757,\n",
       "  'power': 3.503807e-14,\n",
       "  'absorption': 0.001567463,\n",
       "  'scalar': 0.04123734},\n",
       " '13': {'volume': 1.815297,\n",
       "  'nufiss': 0.002705683,\n",
       "  'power': 3.604827e-14,\n",
       "  'absorption': 0.001613076,\n",
       "  'scalar': 0.04281115},\n",
       " '14': {'volume': 1.815297,\n",
       "  'nufiss': 0.002744543,\n",
       "  'power': 3.656546e-14,\n",
       "  'absorption': 0.001636309,\n",
       "  'scalar': 0.04357706},\n",
       " '15': {'volume': 1.815297,\n",
       "  'nufiss': 0.00274454,\n",
       "  'power': 3.656541e-14,\n",
       "  'absorption': 0.001636307,\n",
       "  'scalar': 0.04357702},\n",
       " '16': {'volume': 1.815297,\n",
       "  'nufiss': 0.002705674,\n",
       "  'power': 3.604814e-14,\n",
       "  'absorption': 0.00161307,\n",
       "  'scalar': 0.042811},\n",
       " '17': {'volume': 1.815297,\n",
       "  'nufiss': 0.00262974,\n",
       "  'power': 3.503783e-14,\n",
       "  'absorption': 0.001567453,\n",
       "  'scalar': 0.0412373},\n",
       " '18': {'volume': 1.815297,\n",
       "  'nufiss': 0.002560635,\n",
       "  'power': 3.412065e-14,\n",
       "  'absorption': 0.001521866,\n",
       "  'scalar': 0.03870773},\n",
       " '19': {'volume': 1.815297,\n",
       "  'nufiss': 0.002533954,\n",
       "  'power': 3.377138e-14,\n",
       "  'absorption': 0.00150208,\n",
       "  'scalar': 0.03588297},\n",
       " '20': {'volume': 1.815297,\n",
       "  'nufiss': 0.002570861,\n",
       "  'power': 3.426048e-14,\n",
       "  'absorption': 0.00152696,\n",
       "  'scalar': 0.03745082},\n",
       " '21': {'volume': 1.815297,\n",
       "  'nufiss': 0.002629987,\n",
       "  'power': 3.504111e-14,\n",
       "  'absorption': 0.001567603,\n",
       "  'scalar': 0.04124559},\n",
       " '22': {'volume': 1.815297,\n",
       "  'nufiss': 0.002767819,\n",
       "  'power': 3.687452e-14,\n",
       "  'absorption': 0.001650486,\n",
       "  'scalar': 0.04421246},\n",
       " '23': {'volume': 1.815297,\n",
       "  'nufiss': 0.002877989,\n",
       "  'power': 3.834063e-14,\n",
       "  'absorption': 0.001716336,\n",
       "  'scalar': 0.04639623},\n",
       " '24': {'volume': 1.815297,\n",
       "  'nufiss': 0.002945608,\n",
       "  'power': 3.924062e-14,\n",
       "  'absorption': 0.001756717,\n",
       "  'scalar': 0.04771163},\n",
       " '25': {'volume': 1.815297,\n",
       "  'nufiss': 0.002968244,\n",
       "  'power': 3.954191e-14,\n",
       "  'absorption': 0.001770242,\n",
       "  'scalar': 0.04815172},\n",
       " '26': {'volume': 1.815297,\n",
       "  'nufiss': 0.002945601,\n",
       "  'power': 3.924052e-14,\n",
       "  'absorption': 0.001756713,\n",
       "  'scalar': 0.0477115},\n",
       " '27': {'volume': 1.815297,\n",
       "  'nufiss': 0.002877974,\n",
       "  'power': 3.834042e-14,\n",
       "  'absorption': 0.001716327,\n",
       "  'scalar': 0.04639599},\n",
       " '28': {'volume': 1.815297,\n",
       "  'nufiss': 0.002767794,\n",
       "  'power': 3.68742e-14,\n",
       "  'absorption': 0.001650472,\n",
       "  'scalar': 0.04421207},\n",
       " '29': {'volume': 1.815297,\n",
       "  'nufiss': 0.00262995,\n",
       "  'power': 3.504061e-14,\n",
       "  'absorption': 0.001567582,\n",
       "  'scalar': 0.04124521},\n",
       " '30': {'volume': 1.815297,\n",
       "  'nufiss': 0.0025708,\n",
       "  'power': 3.425967e-14,\n",
       "  'absorption': 0.001526926,\n",
       "  'scalar': 0.03745031},\n",
       " '31': {'volume': 1.815297,\n",
       "  'nufiss': 0.002611224,\n",
       "  'power': 3.479737e-14,\n",
       "  'absorption': 0.001551464,\n",
       "  'scalar': 0.0383565},\n",
       " '32': {'volume': 1.815297,\n",
       "  'nufiss': 0.00270606,\n",
       "  'power': 3.60533e-14,\n",
       "  'absorption': 0.001613304,\n",
       "  'scalar': 0.04281468},\n",
       " '33': {'volume': 1.815297,\n",
       "  'nufiss': 0.002878177,\n",
       "  'power': 3.834311e-14,\n",
       "  'absorption': 0.001716449,\n",
       "  'scalar': 0.0464022},\n",
       " '34': {'volume': 1.815297,\n",
       "  'nufiss': 0.003019064,\n",
       "  'power': 4.021813e-14,\n",
       "  'absorption': 0.001800698,\n",
       "  'scalar': 0.04915506},\n",
       " '35': {'volume': 1.815297,\n",
       "  'nufiss': 0.003116492,\n",
       "  'power': 4.151504e-14,\n",
       "  'absorption': 0.001858867,\n",
       "  'scalar': 0.05101912},\n",
       " '36': {'volume': 1.815297,\n",
       "  'nufiss': 0.003165961,\n",
       "  'power': 4.217362e-14,\n",
       "  'absorption': 0.001888442,\n",
       "  'scalar': 0.05195788},\n",
       " '37': {'volume': 1.815297,\n",
       "  'nufiss': 0.003165957,\n",
       "  'power': 4.217356e-14,\n",
       "  'absorption': 0.00188844,\n",
       "  'scalar': 0.05195782},\n",
       " '38': {'volume': 1.815297,\n",
       "  'nufiss': 0.003116479,\n",
       "  'power': 4.151487e-14,\n",
       "  'absorption': 0.00185886,\n",
       "  'scalar': 0.05101893},\n",
       " '39': {'volume': 1.815297,\n",
       "  'nufiss': 0.003019044,\n",
       "  'power': 4.021785e-14,\n",
       "  'absorption': 0.001800686,\n",
       "  'scalar': 0.04915473},\n",
       " '40': {'volume': 1.815297,\n",
       "  'nufiss': 0.002878148,\n",
       "  'power': 3.834272e-14,\n",
       "  'absorption': 0.001716432,\n",
       "  'scalar': 0.0464018},\n",
       " '41': {'volume': 1.815297,\n",
       "  'nufiss': 0.002706022,\n",
       "  'power': 3.605279e-14,\n",
       "  'absorption': 0.001613282,\n",
       "  'scalar': 0.04281413},\n",
       " '42': {'volume': 1.815297,\n",
       "  'nufiss': 0.002611172,\n",
       "  'power': 3.479668e-14,\n",
       "  'absorption': 0.001551435,\n",
       "  'scalar': 0.03835597},\n",
       " '43': {'volume': 1.815297,\n",
       "  'nufiss': 0.002624569,\n",
       "  'power': 3.497493e-14,\n",
       "  'absorption': 0.001559629,\n",
       "  'scalar': 0.03866328},\n",
       " '44': {'volume': 1.815297,\n",
       "  'nufiss': 0.00274502,\n",
       "  'power': 3.65718e-14,\n",
       "  'absorption': 0.001636599,\n",
       "  'scalar': 0.04358917},\n",
       " '45': {'volume': 1.815297,\n",
       "  'nufiss': 0.002945913,\n",
       "  'power': 3.924465e-14,\n",
       "  'absorption': 0.001756901,\n",
       "  'scalar': 0.04772134},\n",
       " '46': {'volume': 1.815297,\n",
       "  'nufiss': 0.003116585,\n",
       "  'power': 4.151631e-14,\n",
       "  'absorption': 0.001858924,\n",
       "  'scalar': 0.05101497},\n",
       " '47': {'volume': 1.815297,\n",
       "  'nufiss': 0.003245072,\n",
       "  'power': 4.322678e-14,\n",
       "  'absorption': 0.001935458,\n",
       "  'scalar': 0.05344017},\n",
       " '48': {'volume': 1.815297,\n",
       "  'nufiss': 0.003323529,\n",
       "  'power': 4.427133e-14,\n",
       "  'absorption': 0.001982386,\n",
       "  'scalar': 0.05491979},\n",
       " '49': {'volume': 1.815297,\n",
       "  'nufiss': 0.003350067,\n",
       "  'power': 4.462466e-14,\n",
       "  'absorption': 0.001998268,\n",
       "  'scalar': 0.05541823},\n",
       " '50': {'volume': 1.815297,\n",
       "  'nufiss': 0.00332352,\n",
       "  'power': 4.427121e-14,\n",
       "  'absorption': 0.001982381,\n",
       "  'scalar': 0.05491964},\n",
       " '51': {'volume': 1.815297,\n",
       "  'nufiss': 0.003245055,\n",
       "  'power': 4.322656e-14,\n",
       "  'absorption': 0.001935448,\n",
       "  'scalar': 0.0534399},\n",
       " '52': {'volume': 1.815297,\n",
       "  'nufiss': 0.00311656,\n",
       "  'power': 4.151598e-14,\n",
       "  'absorption': 0.001858909,\n",
       "  'scalar': 0.05101457},\n",
       " '53': {'volume': 1.815297,\n",
       "  'nufiss': 0.002945881,\n",
       "  'power': 3.924423e-14,\n",
       "  'absorption': 0.001756882,\n",
       "  'scalar': 0.04772085},\n",
       " '54': {'volume': 1.815297,\n",
       "  'nufiss': 0.002744983,\n",
       "  'power': 3.65713e-14,\n",
       "  'absorption': 0.001636577,\n",
       "  'scalar': 0.04358864},\n",
       " '55': {'volume': 1.815297,\n",
       "  'nufiss': 0.002624523,\n",
       "  'power': 3.497432e-14,\n",
       "  'absorption': 0.001559603,\n",
       "  'scalar': 0.03866276},\n",
       " '56': {'volume': 1.815297,\n",
       "  'nufiss': 0.002610872,\n",
       "  'power': 3.479267e-14,\n",
       "  'absorption': 0.001551265,\n",
       "  'scalar': 0.0383558},\n",
       " '57': {'volume': 1.815297,\n",
       "  'nufiss': 0.002744969,\n",
       "  'power': 3.657108e-14,\n",
       "  'absorption': 0.001636569,\n",
       "  'scalar': 0.04359362},\n",
       " '58': {'volume': 1.815297,\n",
       "  'nufiss': 0.002968497,\n",
       "  'power': 3.954534e-14,\n",
       "  'absorption': 0.001770395,\n",
       "  'scalar': 0.04814609},\n",
       " '59': {'volume': 1.815297,\n",
       "  'nufiss': 0.003166136,\n",
       "  'power': 4.217595e-14,\n",
       "  'absorption': 0.001888547,\n",
       "  'scalar': 0.05196074},\n",
       " '60': {'volume': 1.815297,\n",
       "  'nufiss': 0.003323607,\n",
       "  'power': 4.427237e-14,\n",
       "  'absorption': 0.001982433,\n",
       "  'scalar': 0.05492239},\n",
       " '61': {'volume': 1.815297,\n",
       "  'nufiss': 0.003426646,\n",
       "  'power': 4.564414e-14,\n",
       "  'absorption': 0.002044757,\n",
       "  'scalar': 0.05694127},\n",
       " '62': {'volume': 1.815297,\n",
       "  'nufiss': 0.003481866,\n",
       "  'power': 4.637939e-14,\n",
       "  'absorption': 0.002077831,\n",
       "  'scalar': 0.05796778},\n",
       " '63': {'volume': 1.815297,\n",
       "  'nufiss': 0.003481862,\n",
       "  'power': 4.637933e-14,\n",
       "  'absorption': 0.002077829,\n",
       "  'scalar': 0.05796771},\n",
       " '64': {'volume': 1.815297,\n",
       "  'nufiss': 0.003426633,\n",
       "  'power': 4.564396e-14,\n",
       "  'absorption': 0.002044749,\n",
       "  'scalar': 0.05694105},\n",
       " '65': {'volume': 1.815297,\n",
       "  'nufiss': 0.003323586,\n",
       "  'power': 4.427209e-14,\n",
       "  'absorption': 0.001982421,\n",
       "  'scalar': 0.05492205},\n",
       " '66': {'volume': 1.815297,\n",
       "  'nufiss': 0.003166108,\n",
       "  'power': 4.217558e-14,\n",
       "  'absorption': 0.001888531,\n",
       "  'scalar': 0.05196031},\n",
       " '67': {'volume': 1.815297,\n",
       "  'nufiss': 0.002968465,\n",
       "  'power': 3.95449e-14,\n",
       "  'absorption': 0.001770376,\n",
       "  'scalar': 0.04814557},\n",
       " '68': {'volume': 1.815297,\n",
       "  'nufiss': 0.002744933,\n",
       "  'power': 3.65706e-14,\n",
       "  'absorption': 0.001636548,\n",
       "  'scalar': 0.04359309},\n",
       " '69': {'volume': 1.815297,\n",
       "  'nufiss': 0.002610833,\n",
       "  'power': 3.479215e-14,\n",
       "  'absorption': 0.001551243,\n",
       "  'scalar': 0.03835534},\n",
       " '70': {'volume': 1.815297,\n",
       "  'nufiss': 0.002570222,\n",
       "  'power': 3.425196e-14,\n",
       "  'absorption': 0.001526602,\n",
       "  'scalar': 0.03744686},\n",
       " '71': {'volume': 1.815297,\n",
       "  'nufiss': 0.002705888,\n",
       "  'power': 3.605097e-14,\n",
       "  'absorption': 0.001613204,\n",
       "  'scalar': 0.04282056},\n",
       " '72': {'volume': 1.815297,\n",
       "  'nufiss': 0.002945782,\n",
       "  'power': 3.924298e-14,\n",
       "  'absorption': 0.001756823,\n",
       "  'scalar': 0.04770743},\n",
       " '73': {'volume': 1.815297,\n",
       "  'nufiss': 0.003166153,\n",
       "  'power': 4.217613e-14,\n",
       "  'absorption': 0.001888558,\n",
       "  'scalar': 0.05196864},\n",
       " '74': {'volume': 1.815297,\n",
       "  'nufiss': 0.003350155,\n",
       "  'power': 4.462585e-14,\n",
       "  'absorption': 0.001998321,\n",
       "  'scalar': 0.05541728},\n",
       " '75': {'volume': 1.815297,\n",
       "  'nufiss': 0.003481905,\n",
       "  'power': 4.637992e-14,\n",
       "  'absorption': 0.002077854,\n",
       "  'scalar': 0.05796788},\n",
       " '76': {'volume': 1.815297,\n",
       "  'nufiss': 0.003575092,\n",
       "  'power': 4.762092e-14,\n",
       "  'absorption': 0.002132784,\n",
       "  'scalar': 0.05952825},\n",
       " '77': {'volume': 1.815297,\n",
       "  'nufiss': 0.003603566,\n",
       "  'power': 4.800006e-14,\n",
       "  'absorption': 0.002149845,\n",
       "  'scalar': 0.06005401},\n",
       " '78': {'volume': 1.815297,\n",
       "  'nufiss': 0.003575084,\n",
       "  'power': 4.762081e-14,\n",
       "  'absorption': 0.002132779,\n",
       "  'scalar': 0.05952811},\n",
       " '79': {'volume': 1.815297,\n",
       "  'nufiss': 0.003481889,\n",
       "  'power': 4.63797e-14,\n",
       "  'absorption': 0.002077845,\n",
       "  'scalar': 0.05796761},\n",
       " '80': {'volume': 1.815297,\n",
       "  'nufiss': 0.003350132,\n",
       "  'power': 4.462554e-14,\n",
       "  'absorption': 0.001998307,\n",
       "  'scalar': 0.0554169},\n",
       " '81': {'volume': 1.815297,\n",
       "  'nufiss': 0.003166124,\n",
       "  'power': 4.217575e-14,\n",
       "  'absorption': 0.001888541,\n",
       "  'scalar': 0.05196819},\n",
       " '82': {'volume': 1.815297,\n",
       "  'nufiss': 0.00294575,\n",
       "  'power': 3.924255e-14,\n",
       "  'absorption': 0.001756804,\n",
       "  'scalar': 0.04770693},\n",
       " '83': {'volume': 1.815297,\n",
       "  'nufiss': 0.002705854,\n",
       "  'power': 3.605051e-14,\n",
       "  'absorption': 0.001613184,\n",
       "  'scalar': 0.04282003},\n",
       " '84': {'volume': 1.815297,\n",
       "  'nufiss': 0.002570188,\n",
       "  'power': 3.42515e-14,\n",
       "  'absorption': 0.001526581,\n",
       "  'scalar': 0.03744637},\n",
       " '85': {'volume': 1.815297,\n",
       "  'nufiss': 0.002533145,\n",
       "  'power': 3.376066e-14,\n",
       "  'absorption': 0.001501618,\n",
       "  'scalar': 0.03586769},\n",
       " '86': {'volume': 1.815297,\n",
       "  'nufiss': 0.002629597,\n",
       "  'power': 3.503594e-14,\n",
       "  'absorption': 0.001567374,\n",
       "  'scalar': 0.0412345},\n",
       " '87': {'volume': 1.815297,\n",
       "  'nufiss': 0.002878018,\n",
       "  'power': 3.834102e-14,\n",
       "  'absorption': 0.001716356,\n",
       "  'scalar': 0.046396},\n",
       " '88': {'volume': 1.815297,\n",
       "  'nufiss': 0.003116543,\n",
       "  'power': 4.151576e-14,\n",
       "  'absorption': 0.0018589,\n",
       "  'scalar': 0.0510139},\n",
       " '89': {'volume': 1.815297,\n",
       "  'nufiss': 0.003323596,\n",
       "  'power': 4.427223e-14,\n",
       "  'absorption': 0.001982427,\n",
       "  'scalar': 0.05491966},\n",
       " '90': {'volume': 1.815297,\n",
       "  'nufiss': 0.003481877,\n",
       "  'power': 4.63796e-14,\n",
       "  'absorption': 0.002077838,\n",
       "  'scalar': 0.05795929},\n",
       " '91': {'volume': 1.815297,\n",
       "  'nufiss': 0.003603598,\n",
       "  'power': 4.800047e-14,\n",
       "  'absorption': 0.002149865,\n",
       "  'scalar': 0.06005706},\n",
       " '92': {'volume': 1.815297,\n",
       "  'nufiss': 0.003653222,\n",
       "  'power': 4.866119e-14,\n",
       "  'absorption': 0.002179914,\n",
       "  'scalar': 0.06110555},\n",
       " '93': {'volume': 1.815297,\n",
       "  'nufiss': 0.003653218,\n",
       "  'power': 4.866113e-14,\n",
       "  'absorption': 0.002179911,\n",
       "  'scalar': 0.06110548},\n",
       " '94': {'volume': 1.815297,\n",
       "  'nufiss': 0.003603586,\n",
       "  'power': 4.800031e-14,\n",
       "  'absorption': 0.002149858,\n",
       "  'scalar': 0.06005686},\n",
       " '95': {'volume': 1.815297,\n",
       "  'nufiss': 0.003481858,\n",
       "  'power': 4.637934e-14,\n",
       "  'absorption': 0.002077826,\n",
       "  'scalar': 0.05795897},\n",
       " '96': {'volume': 1.815297,\n",
       "  'nufiss': 0.003323571,\n",
       "  'power': 4.42719e-14,\n",
       "  'absorption': 0.001982413,\n",
       "  'scalar': 0.05491925},\n",
       " '97': {'volume': 1.815297,\n",
       "  'nufiss': 0.003116515,\n",
       "  'power': 4.151538e-14,\n",
       "  'absorption': 0.001858883,\n",
       "  'scalar': 0.05101344},\n",
       " '98': {'volume': 1.815297,\n",
       "  'nufiss': 0.002877987,\n",
       "  'power': 3.834061e-14,\n",
       "  'absorption': 0.001716338,\n",
       "  'scalar': 0.0463955},\n",
       " '99': {'volume': 1.815297,\n",
       "  'nufiss': 0.002629566,\n",
       "  'power': 3.503553e-14,\n",
       "  'absorption': 0.001567356,\n",
       "  'scalar': 0.04123403},\n",
       " '100': {'volume': 1.815297,\n",
       "  'nufiss': 0.002533115,\n",
       "  'power': 3.376026e-14,\n",
       "  'absorption': 0.0015016,\n",
       "  'scalar': 0.03586715},\n",
       " '102': {'volume': 1.815297,\n",
       "  'nufiss': 0.002559948,\n",
       "  'power': 3.411152e-14,\n",
       "  'absorption': 0.001521472,\n",
       "  'scalar': 0.03869709},\n",
       " '103': {'volume': 1.815297,\n",
       "  'nufiss': 0.002767703,\n",
       "  'power': 3.68729e-14,\n",
       "  'absorption': 0.001650422,\n",
       "  'scalar': 0.04422577},\n",
       " '104': {'volume': 1.815297,\n",
       "  'nufiss': 0.003019013,\n",
       "  'power': 4.021747e-14,\n",
       "  'absorption': 0.001800669,\n",
       "  'scalar': 0.04914996},\n",
       " '105': {'volume': 1.815297,\n",
       "  'nufiss': 0.003245143,\n",
       "  'power': 4.322767e-14,\n",
       "  'absorption': 0.001935503,\n",
       "  'scalar': 0.05345302},\n",
       " '106': {'volume': 1.815297,\n",
       "  'nufiss': 0.003426687,\n",
       "  'power': 4.564467e-14,\n",
       "  'absorption': 0.002044782,\n",
       "  'scalar': 0.05694487},\n",
       " '107': {'volume': 1.815297,\n",
       "  'nufiss': 0.003575137,\n",
       "  'power': 4.762147e-14,\n",
       "  'absorption': 0.002132811,\n",
       "  'scalar': 0.05953508},\n",
       " '108': {'volume': 1.815297,\n",
       "  'nufiss': 0.003653249,\n",
       "  'power': 4.866152e-14,\n",
       "  'absorption': 0.002179931,\n",
       "  'scalar': 0.06111074},\n",
       " '109': {'volume': 1.815297,\n",
       "  'nufiss': 0.003681346,\n",
       "  'power': 4.903566e-14,\n",
       "  'absorption': 0.002196834,\n",
       "  'scalar': 0.06163537},\n",
       " '110': {'volume': 1.815297,\n",
       "  'nufiss': 0.003653242,\n",
       "  'power': 4.866142e-14,\n",
       "  'absorption': 0.002179926,\n",
       "  'scalar': 0.06111061},\n",
       " '111': {'volume': 1.815297,\n",
       "  'nufiss': 0.003575122,\n",
       "  'power': 4.762128e-14,\n",
       "  'absorption': 0.002132802,\n",
       "  'scalar': 0.05953483},\n",
       " '112': {'volume': 1.815297,\n",
       "  'nufiss': 0.003426667,\n",
       "  'power': 4.56444e-14,\n",
       "  'absorption': 0.00204477,\n",
       "  'scalar': 0.05694454},\n",
       " '113': {'volume': 1.815297,\n",
       "  'nufiss': 0.003245118,\n",
       "  'power': 4.322733e-14,\n",
       "  'absorption': 0.001935488,\n",
       "  'scalar': 0.05345261},\n",
       " '114': {'volume': 1.815297,\n",
       "  'nufiss': 0.003018985,\n",
       "  'power': 4.021711e-14,\n",
       "  'absorption': 0.001800653,\n",
       "  'scalar': 0.04914953},\n",
       " '115': {'volume': 1.815297,\n",
       "  'nufiss': 0.002767675,\n",
       "  'power': 3.687253e-14,\n",
       "  'absorption': 0.001650406,\n",
       "  'scalar': 0.04422529},\n",
       " '116': {'volume': 1.815297,\n",
       "  'nufiss': 0.00255992,\n",
       "  'power': 3.411114e-14,\n",
       "  'absorption': 0.001521455,\n",
       "  'scalar': 0.03869671},\n",
       " '118': {'volume': 1.815297,\n",
       "  'nufiss': 0.002533143,\n",
       "  'power': 3.376064e-14,\n",
       "  'absorption': 0.001501616,\n",
       "  'scalar': 0.03586755},\n",
       " '119': {'volume': 1.815297,\n",
       "  'nufiss': 0.002629595,\n",
       "  'power': 3.503593e-14,\n",
       "  'absorption': 0.001567373,\n",
       "  'scalar': 0.04123448},\n",
       " '120': {'volume': 1.815297,\n",
       "  'nufiss': 0.002878016,\n",
       "  'power': 3.8341e-14,\n",
       "  'absorption': 0.001716355,\n",
       "  'scalar': 0.04639599},\n",
       " '121': {'volume': 1.815297,\n",
       "  'nufiss': 0.003116542,\n",
       "  'power': 4.151575e-14,\n",
       "  'absorption': 0.001858899,\n",
       "  'scalar': 0.0510139},\n",
       " '122': {'volume': 1.815297,\n",
       "  'nufiss': 0.003323596,\n",
       "  'power': 4.427223e-14,\n",
       "  'absorption': 0.001982427,\n",
       "  'scalar': 0.05491966},\n",
       " '123': {'volume': 1.815297,\n",
       "  'nufiss': 0.003481877,\n",
       "  'power': 4.63796e-14,\n",
       "  'absorption': 0.002077838,\n",
       "  'scalar': 0.05795929},\n",
       " '124': {'volume': 1.815297,\n",
       "  'nufiss': 0.003603599,\n",
       "  'power': 4.800048e-14,\n",
       "  'absorption': 0.002149865,\n",
       "  'scalar': 0.06005708},\n",
       " '125': {'volume': 1.815297,\n",
       "  'nufiss': 0.003653223,\n",
       "  'power': 4.866121e-14,\n",
       "  'absorption': 0.002179915,\n",
       "  'scalar': 0.06110557},\n",
       " '126': {'volume': 1.815297,\n",
       "  'nufiss': 0.00365322,\n",
       "  'power': 4.866116e-14,\n",
       "  'absorption': 0.002179913,\n",
       "  'scalar': 0.06110551},\n",
       " '127': {'volume': 1.815297,\n",
       "  'nufiss': 0.003603589,\n",
       "  'power': 4.800034e-14,\n",
       "  'absorption': 0.002149859,\n",
       "  'scalar': 0.0600569},\n",
       " '128': {'volume': 1.815297,\n",
       "  'nufiss': 0.003481861,\n",
       "  'power': 4.637938e-14,\n",
       "  'absorption': 0.002077828,\n",
       "  'scalar': 0.05795902},\n",
       " '129': {'volume': 1.815297,\n",
       "  'nufiss': 0.003323575,\n",
       "  'power': 4.427195e-14,\n",
       "  'absorption': 0.001982415,\n",
       "  'scalar': 0.05491931},\n",
       " '130': {'volume': 1.815297,\n",
       "  'nufiss': 0.003116518,\n",
       "  'power': 4.151543e-14,\n",
       "  'absorption': 0.001858885,\n",
       "  'scalar': 0.05101349},\n",
       " '131': {'volume': 1.815297,\n",
       "  'nufiss': 0.002877992,\n",
       "  'power': 3.834068e-14,\n",
       "  'absorption': 0.001716341,\n",
       "  'scalar': 0.04639559},\n",
       " '132': {'volume': 1.815297,\n",
       "  'nufiss': 0.002629573,\n",
       "  'power': 3.503563e-14,\n",
       "  'absorption': 0.00156736,\n",
       "  'scalar': 0.04123414},\n",
       " '133': {'volume': 1.815297,\n",
       "  'nufiss': 0.002533127,\n",
       "  'power': 3.376042e-14,\n",
       "  'absorption': 0.001501607,\n",
       "  'scalar': 0.03586738},\n",
       " '134': {'volume': 1.815297,\n",
       "  'nufiss': 0.002570223,\n",
       "  'power': 3.425198e-14,\n",
       "  'absorption': 0.001526602,\n",
       "  'scalar': 0.03744685},\n",
       " '135': {'volume': 1.815297,\n",
       "  'nufiss': 0.002705884,\n",
       "  'power': 3.605092e-14,\n",
       "  'absorption': 0.001613202,\n",
       "  'scalar': 0.04282053},\n",
       " '136': {'volume': 1.815297,\n",
       "  'nufiss': 0.002945779,\n",
       "  'power': 3.924294e-14,\n",
       "  'absorption': 0.001756822,\n",
       "  'scalar': 0.04770741},\n",
       " '137': {'volume': 1.815297,\n",
       "  'nufiss': 0.003166151,\n",
       "  'power': 4.217611e-14,\n",
       "  'absorption': 0.001888557,\n",
       "  'scalar': 0.05196863},\n",
       " '138': {'volume': 1.815297,\n",
       "  'nufiss': 0.003350155,\n",
       "  'power': 4.462585e-14,\n",
       "  'absorption': 0.00199832,\n",
       "  'scalar': 0.05541728},\n",
       " '139': {'volume': 1.815297,\n",
       "  'nufiss': 0.003481906,\n",
       "  'power': 4.637993e-14,\n",
       "  'absorption': 0.002077855,\n",
       "  'scalar': 0.0579679},\n",
       " '140': {'volume': 1.815297,\n",
       "  'nufiss': 0.003575094,\n",
       "  'power': 4.762095e-14,\n",
       "  'absorption': 0.002132785,\n",
       "  'scalar': 0.05952829},\n",
       " '141': {'volume': 1.815297,\n",
       "  'nufiss': 0.00360357,\n",
       "  'power': 4.80001e-14,\n",
       "  'absorption': 0.002149847,\n",
       "  'scalar': 0.06005407},\n",
       " '142': {'volume': 1.815297,\n",
       "  'nufiss': 0.003575088,\n",
       "  'power': 4.762087e-14,\n",
       "  'absorption': 0.002132782,\n",
       "  'scalar': 0.05952818},\n",
       " '143': {'volume': 1.815297,\n",
       "  'nufiss': 0.003481894,\n",
       "  'power': 4.637976e-14,\n",
       "  'absorption': 0.002077848,\n",
       "  'scalar': 0.0579677},\n",
       " '144': {'volume': 1.815297,\n",
       "  'nufiss': 0.003350138,\n",
       "  'power': 4.462562e-14,\n",
       "  'absorption': 0.00199831,\n",
       "  'scalar': 0.055417},\n",
       " '145': {'volume': 1.815297,\n",
       "  'nufiss': 0.003166131,\n",
       "  'power': 4.217583e-14,\n",
       "  'absorption': 0.001888545,\n",
       "  'scalar': 0.05196829},\n",
       " '146': {'volume': 1.815297,\n",
       "  'nufiss': 0.002945758,\n",
       "  'power': 3.924265e-14,\n",
       "  'absorption': 0.001756809,\n",
       "  'scalar': 0.04770707},\n",
       " '147': {'volume': 1.815297,\n",
       "  'nufiss': 0.002705865,\n",
       "  'power': 3.605066e-14,\n",
       "  'absorption': 0.001613191,\n",
       "  'scalar': 0.04282018},\n",
       " '148': {'volume': 1.815297,\n",
       "  'nufiss': 0.002570211,\n",
       "  'power': 3.425181e-14,\n",
       "  'absorption': 0.001526595,\n",
       "  'scalar': 0.03744656},\n",
       " '149': {'volume': 1.815297,\n",
       "  'nufiss': 0.002610863,\n",
       "  'power': 3.479255e-14,\n",
       "  'absorption': 0.00155126,\n",
       "  'scalar': 0.03835572},\n",
       " '150': {'volume': 1.815297,\n",
       "  'nufiss': 0.002744963,\n",
       "  'power': 3.657101e-14,\n",
       "  'absorption': 0.001636566,\n",
       "  'scalar': 0.0435936},\n",
       " '151': {'volume': 1.815297,\n",
       "  'nufiss': 0.002968494,\n",
       "  'power': 3.954529e-14,\n",
       "  'absorption': 0.001770393,\n",
       "  'scalar': 0.04814605},\n",
       " '152': {'volume': 1.815297,\n",
       "  'nufiss': 0.003166134,\n",
       "  'power': 4.217593e-14,\n",
       "  'absorption': 0.001888547,\n",
       "  'scalar': 0.05196074},\n",
       " '153': {'volume': 1.815297,\n",
       "  'nufiss': 0.003323607,\n",
       "  'power': 4.427237e-14,\n",
       "  'absorption': 0.001982433,\n",
       "  'scalar': 0.05492241},\n",
       " '154': {'volume': 1.815297,\n",
       "  'nufiss': 0.003426648,\n",
       "  'power': 4.564416e-14,\n",
       "  'absorption': 0.002044758,\n",
       "  'scalar': 0.05694131},\n",
       " '155': {'volume': 1.815297,\n",
       "  'nufiss': 0.00348187,\n",
       "  'power': 4.637944e-14,\n",
       "  'absorption': 0.002077834,\n",
       "  'scalar': 0.05796786},\n",
       " '156': {'volume': 1.815297,\n",
       "  'nufiss': 0.003481867,\n",
       "  'power': 4.637941e-14,\n",
       "  'absorption': 0.002077832,\n",
       "  'scalar': 0.05796781},\n",
       " '157': {'volume': 1.815297,\n",
       "  'nufiss': 0.00342664,\n",
       "  'power': 4.564405e-14,\n",
       "  'absorption': 0.002044753,\n",
       "  'scalar': 0.05694118},\n",
       " '158': {'volume': 1.815297,\n",
       "  'nufiss': 0.003323594,\n",
       "  'power': 4.427219e-14,\n",
       "  'absorption': 0.001982426,\n",
       "  'scalar': 0.05492218},\n",
       " '159': {'volume': 1.815297,\n",
       "  'nufiss': 0.003166117,\n",
       "  'power': 4.21757e-14,\n",
       "  'absorption': 0.001888536,\n",
       "  'scalar': 0.05196046},\n",
       " '160': {'volume': 1.815297,\n",
       "  'nufiss': 0.002968474,\n",
       "  'power': 3.954503e-14,\n",
       "  'absorption': 0.001770381,\n",
       "  'scalar': 0.04814572},\n",
       " '161': {'volume': 1.815297,\n",
       "  'nufiss': 0.002744944,\n",
       "  'power': 3.657075e-14,\n",
       "  'absorption': 0.001636554,\n",
       "  'scalar': 0.04359325},\n",
       " '162': {'volume': 1.815297,\n",
       "  'nufiss': 0.002610857,\n",
       "  'power': 3.479246e-14,\n",
       "  'absorption': 0.001551256,\n",
       "  'scalar': 0.0383555},\n",
       " '163': {'volume': 1.815297,\n",
       "  'nufiss': 0.002624559,\n",
       "  'power': 3.49748e-14,\n",
       "  'absorption': 0.001559624,\n",
       "  'scalar': 0.03866316},\n",
       " '164': {'volume': 1.815297,\n",
       "  'nufiss': 0.002745015,\n",
       "  'power': 3.657172e-14,\n",
       "  'absorption': 0.001636596,\n",
       "  'scalar': 0.04358917},\n",
       " '165': {'volume': 1.815297,\n",
       "  'nufiss': 0.00294591,\n",
       "  'power': 3.92446e-14,\n",
       "  'absorption': 0.001756899,\n",
       "  'scalar': 0.04772131},\n",
       " '166': {'volume': 1.815297,\n",
       "  'nufiss': 0.003116584,\n",
       "  'power': 4.15163e-14,\n",
       "  'absorption': 0.001858923,\n",
       "  'scalar': 0.05101496},\n",
       " '167': {'volume': 1.815297,\n",
       "  'nufiss': 0.003245074,\n",
       "  'power': 4.322681e-14,\n",
       "  'absorption': 0.001935459,\n",
       "  'scalar': 0.05344021},\n",
       " '168': {'volume': 1.815297,\n",
       "  'nufiss': 0.003323533,\n",
       "  'power': 4.427138e-14,\n",
       "  'absorption': 0.001982389,\n",
       "  'scalar': 0.05491986},\n",
       " '169': {'volume': 1.815297,\n",
       "  'nufiss': 0.003350073,\n",
       "  'power': 4.462475e-14,\n",
       "  'absorption': 0.001998271,\n",
       "  'scalar': 0.05541834},\n",
       " '170': {'volume': 1.815297,\n",
       "  'nufiss': 0.003323528,\n",
       "  'power': 4.427131e-14,\n",
       "  'absorption': 0.001982386,\n",
       "  'scalar': 0.05491978},\n",
       " '171': {'volume': 1.815297,\n",
       "  'nufiss': 0.003245064,\n",
       "  'power': 4.322668e-14,\n",
       "  'absorption': 0.001935454,\n",
       "  'scalar': 0.05344005},\n",
       " '172': {'volume': 1.815297,\n",
       "  'nufiss': 0.00311657,\n",
       "  'power': 4.151612e-14,\n",
       "  'absorption': 0.001858915,\n",
       "  'scalar': 0.05101475},\n",
       " '173': {'volume': 1.815297,\n",
       "  'nufiss': 0.002945893,\n",
       "  'power': 3.924438e-14,\n",
       "  'absorption': 0.001756889,\n",
       "  'scalar': 0.04772104},\n",
       " '174': {'volume': 1.815297,\n",
       "  'nufiss': 0.002744995,\n",
       "  'power': 3.657146e-14,\n",
       "  'absorption': 0.001636584,\n",
       "  'scalar': 0.04358881},\n",
       " '175': {'volume': 1.815297,\n",
       "  'nufiss': 0.002624541,\n",
       "  'power': 3.497456e-14,\n",
       "  'absorption': 0.001559613,\n",
       "  'scalar': 0.03866297},\n",
       " '176': {'volume': 1.815297,\n",
       "  'nufiss': 0.002611213,\n",
       "  'power': 3.479723e-14,\n",
       "  'absorption': 0.001551458,\n",
       "  'scalar': 0.03835636},\n",
       " '177': {'volume': 1.815297,\n",
       "  'nufiss': 0.002706052,\n",
       "  'power': 3.60532e-14,\n",
       "  'absorption': 0.0016133,\n",
       "  'scalar': 0.04281463},\n",
       " '178': {'volume': 1.815297,\n",
       "  'nufiss': 0.002878174,\n",
       "  'power': 3.834307e-14,\n",
       "  'absorption': 0.001716448,\n",
       "  'scalar': 0.04640222},\n",
       " '179': {'volume': 1.815297,\n",
       "  'nufiss': 0.003019065,\n",
       "  'power': 4.021814e-14,\n",
       "  'absorption': 0.001800699,\n",
       "  'scalar': 0.04915508},\n",
       " '180': {'volume': 1.815297,\n",
       "  'nufiss': 0.003116496,\n",
       "  'power': 4.151509e-14,\n",
       "  'absorption': 0.00185887,\n",
       "  'scalar': 0.0510192},\n",
       " '181': {'volume': 1.815297,\n",
       "  'nufiss': 0.003165968,\n",
       "  'power': 4.217371e-14,\n",
       "  'absorption': 0.001888446,\n",
       "  'scalar': 0.051958},\n",
       " '182': {'volume': 1.815297,\n",
       "  'nufiss': 0.003165965,\n",
       "  'power': 4.217368e-14,\n",
       "  'absorption': 0.001888445,\n",
       "  'scalar': 0.05195796},\n",
       " '183': {'volume': 1.815297,\n",
       "  'nufiss': 0.003116489,\n",
       "  'power': 4.151501e-14,\n",
       "  'absorption': 0.001858866,\n",
       "  'scalar': 0.0510191},\n",
       " '184': {'volume': 1.815297,\n",
       "  'nufiss': 0.003019055,\n",
       "  'power': 4.021801e-14,\n",
       "  'absorption': 0.001800693,\n",
       "  'scalar': 0.04915491},\n",
       " '185': {'volume': 1.815297,\n",
       "  'nufiss': 0.002878161,\n",
       "  'power': 3.834289e-14,\n",
       "  'absorption': 0.00171644,\n",
       "  'scalar': 0.04640199},\n",
       " '186': {'volume': 1.815297,\n",
       "  'nufiss': 0.002706035,\n",
       "  'power': 3.605296e-14,\n",
       "  'absorption': 0.001613289,\n",
       "  'scalar': 0.04281435},\n",
       " '187': {'volume': 1.815297,\n",
       "  'nufiss': 0.002611183,\n",
       "  'power': 3.479683e-14,\n",
       "  'absorption': 0.001551441,\n",
       "  'scalar': 0.03835616},\n",
       " '188': {'volume': 1.815297,\n",
       "  'nufiss': 0.002570834,\n",
       "  'power': 3.426012e-14,\n",
       "  'absorption': 0.001526945,\n",
       "  'scalar': 0.03745065},\n",
       " '189': {'volume': 1.815297,\n",
       "  'nufiss': 0.002629977,\n",
       "  'power': 3.504097e-14,\n",
       "  'absorption': 0.001567597,\n",
       "  'scalar': 0.04124567},\n",
       " '190': {'volume': 1.815297,\n",
       "  'nufiss': 0.002767816,\n",
       "  'power': 3.687449e-14,\n",
       "  'absorption': 0.001650485,\n",
       "  'scalar': 0.04421239},\n",
       " '191': {'volume': 1.815297,\n",
       "  'nufiss': 0.002877993,\n",
       "  'power': 3.834068e-14,\n",
       "  'absorption': 0.001716338,\n",
       "  'scalar': 0.04639631},\n",
       " '192': {'volume': 1.815297,\n",
       "  'nufiss': 0.002945616,\n",
       "  'power': 3.924071e-14,\n",
       "  'absorption': 0.001756721,\n",
       "  'scalar': 0.04771174},\n",
       " '193': {'volume': 1.815297,\n",
       "  'nufiss': 0.002968254,\n",
       "  'power': 3.954203e-14,\n",
       "  'absorption': 0.001770248,\n",
       "  'scalar': 0.04815187},\n",
       " '194': {'volume': 1.815297,\n",
       "  'nufiss': 0.002945612,\n",
       "  'power': 3.924066e-14,\n",
       "  'absorption': 0.001756719,\n",
       "  'scalar': 0.04771167},\n",
       " '195': {'volume': 1.815297,\n",
       "  'nufiss': 0.002877986,\n",
       "  'power': 3.834059e-14,\n",
       "  'absorption': 0.001716334,\n",
       "  'scalar': 0.0463962},\n",
       " '196': {'volume': 1.815297,\n",
       "  'nufiss': 0.002767808,\n",
       "  'power': 3.687438e-14,\n",
       "  'absorption': 0.00165048,\n",
       "  'scalar': 0.04421227},\n",
       " '197': {'volume': 1.815297,\n",
       "  'nufiss': 0.002629965,\n",
       "  'power': 3.504081e-14,\n",
       "  'absorption': 0.00156759,\n",
       "  'scalar': 0.04124545},\n",
       " '198': {'volume': 1.815297,\n",
       "  'nufiss': 0.002570811,\n",
       "  'power': 3.425981e-14,\n",
       "  'absorption': 0.001526932,\n",
       "  'scalar': 0.03745044},\n",
       " '199': {'volume': 1.815297,\n",
       "  'nufiss': 0.002533982,\n",
       "  'power': 3.377176e-14,\n",
       "  'absorption': 0.001502096,\n",
       "  'scalar': 0.0358832},\n",
       " '200': {'volume': 1.815297,\n",
       "  'nufiss': 0.002560652,\n",
       "  'power': 3.412088e-14,\n",
       "  'absorption': 0.001521876,\n",
       "  'scalar': 0.03870804},\n",
       " '201': {'volume': 1.815297,\n",
       "  'nufiss': 0.002629759,\n",
       "  'power': 3.503809e-14,\n",
       "  'absorption': 0.001567464,\n",
       "  'scalar': 0.04123766},\n",
       " '202': {'volume': 1.815297,\n",
       "  'nufiss': 0.002705691,\n",
       "  'power': 3.604836e-14,\n",
       "  'absorption': 0.00161308,\n",
       "  'scalar': 0.04281124},\n",
       " '203': {'volume': 1.815297,\n",
       "  'nufiss': 0.002744554,\n",
       "  'power': 3.65656e-14,\n",
       "  'absorption': 0.001636316,\n",
       "  'scalar': 0.04357725},\n",
       " '204': {'volume': 1.815297,\n",
       "  'nufiss': 0.002744553,\n",
       "  'power': 3.656559e-14,\n",
       "  'absorption': 0.001636315,\n",
       "  'scalar': 0.04357721},\n",
       " '205': {'volume': 1.815297,\n",
       "  'nufiss': 0.002705687,\n",
       "  'power': 3.604831e-14,\n",
       "  'absorption': 0.001613078,\n",
       "  'scalar': 0.04281116},\n",
       " '206': {'volume': 1.815297,\n",
       "  'nufiss': 0.002629752,\n",
       "  'power': 3.503799e-14,\n",
       "  'absorption': 0.00156746,\n",
       "  'scalar': 0.04123745},\n",
       " '207': {'volume': 1.815297,\n",
       "  'nufiss': 0.002560658,\n",
       "  'power': 3.412096e-14,\n",
       "  'absorption': 0.001521879,\n",
       "  'scalar': 0.03870781},\n",
       " '208': {'volume': 1.815297,\n",
       "  'nufiss': 0.002533975,\n",
       "  'power': 3.377166e-14,\n",
       "  'absorption': 0.001502092,\n",
       "  'scalar': 0.03588311},\n",
       " '210': {'volume': 1.815297,\n",
       "  'nufiss': 0.00253358,\n",
       "  'power': 3.376653e-14,\n",
       "  'absorption': 0.001501872,\n",
       "  'scalar': 0.03585749},\n",
       " '211': {'volume': 1.815297,\n",
       "  'nufiss': 0.002570247,\n",
       "  'power': 3.425246e-14,\n",
       "  'absorption': 0.00152658,\n",
       "  'scalar': 0.03741296},\n",
       " '212': {'volume': 1.815297,\n",
       "  'nufiss': 0.002610792,\n",
       "  'power': 3.479175e-14,\n",
       "  'absorption': 0.001551156,\n",
       "  'scalar': 0.03831815},\n",
       " '213': {'volume': 1.815297,\n",
       "  'nufiss': 0.002624291,\n",
       "  'power': 3.497133e-14,\n",
       "  'absorption': 0.001559409,\n",
       "  'scalar': 0.03863088},\n",
       " '214': {'volume': 1.815297,\n",
       "  'nufiss': 0.002610785,\n",
       "  'power': 3.479166e-14,\n",
       "  'absorption': 0.001551152,\n",
       "  'scalar': 0.03831799},\n",
       " '215': {'volume': 1.815297,\n",
       "  'nufiss': 0.002570249,\n",
       "  'power': 3.425248e-14,\n",
       "  'absorption': 0.00152658,\n",
       "  'scalar': 0.03741283},\n",
       " '216': {'volume': 1.815297,\n",
       "  'nufiss': 0.002533576,\n",
       "  'power': 3.376647e-14,\n",
       "  'absorption': 0.00150187,\n",
       "  'scalar': 0.03585749},\n",
       " '21700': {'volume': 614.507005,\n",
       "  'nufiss': 0.0,\n",
       "  'power': 0.0,\n",
       "  'absorption': 1.64132e-05,\n",
       "  'scalar': 0.01824303},\n",
       " '21800': {'volume': 9.606182,\n",
       "  'nufiss': 0.0,\n",
       "  'power': 0.0,\n",
       "  'absorption': 0.0005350505,\n",
       "  'scalar': 0.0336948},\n",
       " '21900': {'volume': 6.892924,\n",
       "  'nufiss': 0.0,\n",
       "  'power': 0.0,\n",
       "  'absorption': 0.0001528986,\n",
       "  'scalar': 0.03454008}}"
      ]
     },
     "execution_count": 111,
     "metadata": {},
     "output_type": "execute_result"
    }
   ],
   "source": [
    "elem_ringxsGriffBlockMap"
   ]
  },
  {
   "cell_type": "code",
   "execution_count": 112,
   "metadata": {},
   "outputs": [],
   "source": [
    "elem_ringxsPointData = pd.read_csv('snapReactors/reactor_models/AutomatedSerpentModels/GCU/c3_radial_sens_2d/s82d_ac_c3_gcu_elemres_ringxs_cellPointdata.csv')\n",
    "elem_corexsPointData = pd.read_csv('snapReactors/reactor_models/AutomatedSerpentModels/GCU/c3_radial_sens_2d/s82d_ac_c3_gcu_elemres_corexs_cellPointdata.csv')"
   ]
  },
  {
   "cell_type": "code",
   "execution_count": 113,
   "metadata": {},
   "outputs": [],
   "source": [
    "elemBlocks = list(elem_ringxsGriffBlockMap.keys())"
   ]
  },
  {
   "cell_type": "code",
   "execution_count": 114,
   "metadata": {},
   "outputs": [],
   "source": [
    "griffElem_corexsNuFiss = getUniValsList(elem_corexsGriffBlockMap, 'nufiss')\n",
    "griffElem_ringxsNuFiss = getUniValsList(elem_ringxsGriffBlockMap, 'nufiss')"
   ]
  },
  {
   "cell_type": "code",
   "execution_count": 119,
   "metadata": {},
   "outputs": [
    {
     "name": "stdout",
     "output_type": "stream",
     "text": [
      "[0.002530187, 0.002566465, 0.002606953, 0.002620434, 0.00260695, 0.002566455, 0.002530212, 0.0, 0.002530621, 0.002558866, 0.002627983, 0.002703906, 0.002742801, 0.002742798, 0.002703896, 0.002627966, 0.002558825, 0.002530596, 0.002567086, 0.002628212, 0.002767164, 0.002877442, 0.002945228, 0.002967932, 0.00294522, 0.002877426, 0.00276714, 0.002628175, 0.002567026, 0.002607405, 0.002704279, 0.002877629, 0.003019295, 0.003117053, 0.003166753, 0.003166748, 0.00311704, 0.003019274, 0.0028776, 0.002704242, 0.002607354, 0.002620736, 0.002743277, 0.002945531, 0.003117145, 0.003245106, 0.00332406, 0.003350754, 0.003324051, 0.003245089, 0.003117121, 0.0029455, 0.002743239, 0.002620691, 0.002607053, 0.002743225, 0.002968183, 0.003166927, 0.003324138, 0.003433, 0.003488727, 0.003488723, 0.003432987, 0.003324117, 0.003166899, 0.002968151, 0.002743189, 0.002607014, 0.002566447, 0.002704108, 0.0029454, 0.003166944, 0.003350842, 0.003488766, 0.003574264, 0.003603244, 0.003574255, 0.00348875, 0.003350819, 0.003166916, 0.002945368, 0.002704074, 0.002566413, 0.002529787, 0.002627822, 0.00287747, 0.003117104, 0.003324127, 0.003488738, 0.003603277, 0.003661994, 0.003661989, 0.003603265, 0.003488719, 0.003324103, 0.003117075, 0.002877439, 0.002627791, 0.002529757, 0.002558139, 0.002767049, 0.003019243, 0.003245177, 0.003433041, 0.003574308, 0.003662021, 0.003691739, 0.003662013, 0.003574294, 0.003433021, 0.003245153, 0.003019216, 0.002767021, 0.002558111, 0.002529785, 0.00262782, 0.002877468, 0.003117103, 0.003324127, 0.003488738, 0.003603277, 0.003661995, 0.003661991, 0.003603267, 0.003488722, 0.003324106, 0.003117079, 0.002877444, 0.002627798, 0.002529769, 0.002566449, 0.002704105, 0.002945398, 0.003166942, 0.003350842, 0.003488767, 0.003574266, 0.003603247, 0.003574259, 0.003488755, 0.003350825, 0.003166922, 0.002945376, 0.002704085, 0.002566436, 0.002607043, 0.002743219, 0.00296818, 0.003166925, 0.003324138, 0.003433002, 0.003488731, 0.003488728, 0.003432994, 0.003324125, 0.003166908, 0.002968161, 0.0027432, 0.002607037, 0.002620726, 0.002743271, 0.002945528, 0.003117144, 0.003245107, 0.003324064, 0.00335076, 0.003324059, 0.003245098, 0.003117131, 0.002945511, 0.002743251, 0.002620709, 0.002607394, 0.002704272, 0.002877626, 0.003019295, 0.003117057, 0.003166759, 0.003166757, 0.00311705, 0.003019285, 0.002877613, 0.002704255, 0.002607364, 0.002567059, 0.002628202, 0.002767161, 0.002877445, 0.002945234, 0.002967941, 0.002945231, 0.002877439, 0.002767153, 0.00262819, 0.002567036, 0.002530624, 0.002558842, 0.002627985, 0.002703913, 0.002742812, 0.00274281, 0.002703909, 0.002627978, 0.002558848, 0.002530617, 0.002530221, 0.002566473, 0.002606975, 0.00262046, 0.002606969, 0.002566475, 0.002530216, 0.0, 0.0, 0.0]\n"
     ]
    }
   ],
   "source": [
    "print(griffElem_corexsNuFiss)"
   ]
  },
  {
   "cell_type": "code",
   "execution_count": 121,
   "metadata": {},
   "outputs": [],
   "source": [
    "elemNuFissBlock = []\n",
    "\n",
    "for block in elemNuFissBlockMap:\n",
    "    elemNuFissBlock.append(elemNuFissBlockMap[block].tallies/elemGriffBlockMap[block]['volume'])"
   ]
  },
  {
   "cell_type": "code",
   "execution_count": 116,
   "metadata": {},
   "outputs": [],
   "source": [
    "elem_corexsNuFissRateRelError = calcPercentRelativeError(normZeroToOne(elemNuFissBlock), normZeroToOne(griffElem_corexsNuFiss))\n",
    "elem_corexsNuFissRateRelErrorMap = dict(zip(elemBlocks, elem_corexsNuFissRateRelError))\n",
    "\n",
    "elem_ringxsNuFissRateRelError = calcPercentRelativeError(normZeroToOne(elemNuFissBlock), normZeroToOne(griffElem_ringxsNuFiss))\n",
    "elem_ringxsNuFissRateRelErrorMap = dict(zip(elemBlocks, elem_ringxsNuFissRateRelError))"
   ]
  },
  {
   "cell_type": "code",
   "execution_count": 122,
   "metadata": {},
   "outputs": [
    {
     "name": "stdout",
     "output_type": "stream",
     "text": [
      "[1.0718296872940272, 0.03231324149794833, 0.5626051722779662, 0.778546219117852, 0.6461289509691868, 0.17699020098750964, 1.2009117788855763, 0, 1.065332055463947, 1.0594487210972958, 0.30441363316908765, 0.20034519868360973, 0.32518677527582684, 0.04399603174501699, 0.23370063202827046, 0.26451662261725334, 1.0748398063793236, 1.1186326900688877, 0.0741961531251333, 0.2810055661737194, 0.06427829572920268, 0.057391464084258645, 0.012317551003073144, 0.07038308222522283, 0.002699667980929655, 0.24559975868743358, 0.1767638997410831, 0.3836580952146133, 0.03722482587287791, 0.4777430645291703, 0.01580492358407356, 0.0627108366874783, 0.10006957210270209, 0.07313869162108781, 0.02641358736648728, 0.06998291288533072, 0.07254013526749856, 0.05756190988033011, 0.10744943705906315, 0.2519761502510249, 0.5912035793755377, 0.8754889987158868, 0.3450816695136016, 0.13382874299713063, 0.052904494738642505, 0.00868452676172768, 0.16210586478140948, 0.007623837096440433, 0.06826255919398563, 0.0159926972196443, 0.04851204726272181, 0.05700276194404975, 0.2870065282784794, 0.8256060816775111, 0.47072898768892607, 0.2048901021877321, 0.12415830094601026, 0.0949157069736934, 0.01116513109529127, 0.08483374078125246, 0.05874840954704171, 0.08888586916874941, 0.16602640894629178, 0.027844958005239673, 0.02146872187289857, 0.06711153161902314, 0.2742215781974581, 0.45285177270563953, 0.12822917038989043, 0.11343976917639825, 0.07718758503511916, 0.039461443933647915, 0.07897951143389748, 0.10846771597055604, 0.03807554892477904, 0.15420043074887022, 0.13661209822672987, 0.08859673073080102, 0.1412068737408346, 0.1647344140713918, 0.12291280304304342, 0.20175441454742127, 0.10412124487009798, 1.0300743514376483, 0.3397321710476228, 0.02868086340681369, 0.046296596578206665, 0.026653936353550862, 0.007869966132564136, 0.061408522139908446, 0.06607265655840287, 0.06823863925757638, 0.01815446863213429, 0.02619012519603052, 0.07055892866029935, 0.07438858489257977, 0.016632419465812915, 0.35390846253463837, 1.091913756935734, 0.9635988440935828, 0.22673306407307808, 0.04788906535222294, 0.0021525873859142637, 0.02607293599060633, 0.004006959375563336, 0.07481936249511731, 0, 0.06663074944745095, 0.011057373143096598, 0.09589443011620823, 0.038503326843579926, 0.13836120355438347, 0.15627519762755265, 1.2374557278244267, 1.1058649909507015, 0.14995223635873026, 0.027966827643315484, 0.18902697063449161, 0.05650246919665986, 0.05115831543083409, 0.13527113018415532, 0.0064893290087309815, 0.11396142581868131, 0.09595371326795266, 0.13004558019157755, 0.17611112257610564, 0.08757101195364521, 0.11862890161271412, 0.33573960708942996, 1.0126515935559521, 0.1844488887279518, 0.12025683077310191, 0.16099193040846413, 0.19879984978094212, 0.08913871496813038, 0.07778143688280156, 0.17091051044224595, 0.05071707439075429, 0.0009003294939735601, 0.051971797726402265, 0.03518296549610969, 0.05310856806712974, 0.15813088893546406, 0.00800419495488218, 0.03467867418053873, 0.5617015431271398, 0.4556922066662277, 0.12081916043350584, 0.037357196876223644, 0.04548044986201946, 0.0024103576018248032, 0.10543592211483628, 0.03934056254874651, 0.11504015573661736, 0.04265073136359975, 0.018189973631995024, 0.10627662473806826, 0.3536510902535695, 0.5551265260110619, 0.7292590866300454, 0.34113634590306774, 0.16426013356169505, 0.02860912244663948, 0.09511011890340208, 0.12849064256780862, 0.062204411001342295, 0.10697555001086662, 0.05052919910213907, 0.05464862558431509, 0.24596463653573464, 0.1286952683979204, 0.7211826469500469, 0.5336881813129232, 0.10846313103912193, 0.11031803367788026, 0.0005073398401021476, 0.11770653842300706, 0.04074633090275821, 0.01916705393269451, 0.12108120741041974, 0.00802177676400052, 0.02606325402468607, 0.06500813995076585, 0.4538953737858656, 0.12041494221024386, 0.3240415216099367, 0.09165381326436849, 0.007998292594286053, 0.03167795651602936, 0.06764205829445227, 0.14398165484557643, 0.05100856056066626, 0.16573329543581036, 0.39054188599027473, 0.004426973774577013, 1.198313726913374, 1.0683586940881236, 0.30540421623397956, 0.1338475875896244, 0.42585526311053895, 0.4295148032355131, 0.062436909676804216, 0.22327246555486022, 1.136675819112425, 1.044543450059359, 1.147009219471297, 0.0076200479779806145, 0.5496730873677625, 0.7784532463751476, 0.6819363445731567, 0.012155773311318284, 1.0532413442375088, 0, 0, 0]\n"
     ]
    }
   ],
   "source": [
    "print(elem_corexsNuFissRateRelError)"
   ]
  },
  {
   "cell_type": "code",
   "execution_count": 124,
   "metadata": {},
   "outputs": [],
   "source": [
    "elem_corexsParams = ['nuFissRate', 'nuFissRateRelError']\n",
    "elem_corexsVals = [griffElem_corexsNuFiss, elem_corexsNuFissRateRelError]\n",
    "elem_corexsPath = '/Users/isaacnaupaaguirre/Documents/GitHub/SNAP-REACTORS/snapReactors/reactor_models/AutomatedSerpentModels/GCU/c3_radial_sens_2d/s82d_ac_c3_gcu_elemres_corexs_cellPointdataAppend.csv'\n",
    "\n",
    "elem_ringxsParams = ['nuFissRate', 'nuFissRateRelError']\n",
    "elem_ringxsVals = [griffElem_ringxsNuFiss, elem_ringxsNuFissRateRelError]\n",
    "elem_ringxsPath = '/Users/isaacnaupaaguirre/Documents/GitHub/SNAP-REACTORS/snapReactors/reactor_models/AutomatedSerpentModels/GCU/c3_radial_sens_2d/s82d_ac_c3_gcu_elemres_ringxs_cellPointdataAppend.csv'\n",
    "\n",
    "createAppendCSV(elem_corexsPointData, elemBlocks, elem_corexsParams, elem_corexsVals, elem_corexsPath, useBlockId=True)\n",
    "createAppendCSV(elem_ringxsPointData, elemBlocks, elem_ringxsParams, elem_ringxsVals, elem_ringxsPath, useBlockId=True);"
   ]
  }
 ],
 "metadata": {
  "kernelspec": {
   "display_name": "base",
   "language": "python",
   "name": "python3"
  },
  "language_info": {
   "codemirror_mode": {
    "name": "ipython",
    "version": 3
   },
   "file_extension": ".py",
   "mimetype": "text/x-python",
   "name": "python",
   "nbconvert_exporter": "python",
   "pygments_lexer": "ipython3",
   "version": "3.9.13"
  },
  "orig_nbformat": 4
 },
 "nbformat": 4,
 "nbformat_minor": 2
}
