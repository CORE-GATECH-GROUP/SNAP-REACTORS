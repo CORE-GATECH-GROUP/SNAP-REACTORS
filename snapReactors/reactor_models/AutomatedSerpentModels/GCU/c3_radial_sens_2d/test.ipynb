{
 "cells": [
  {
   "cell_type": "code",
   "execution_count": 6,
   "metadata": {},
   "outputs": [],
   "source": [
    "import numpy as np\n",
    "from matplotlib import pyplot as plt"
   ]
  },
  {
   "cell_type": "code",
   "execution_count": 33,
   "metadata": {},
   "outputs": [],
   "source": [
    "apothem = 1\n",
    "point = 30\n",
    "flat = 60\n",
    "vertex = apothem/(np.sqrt(3)/2)\n",
    "isPoint = True\n",
    "\n",
    "angle = flat*np.pi/180\n",
    "z1, w1 = vertex, 0\n",
    "z2, w2 = vertex*np.cos(angle) , vertex*np.sin(angle)\n",
    "z3, w3 = -vertex*np.cos(angle) , vertex*np.sin(angle)\n",
    "z4, w4 =  -1*vertex, 0\n",
    "z5, w5 = -vertex*np.cos(angle) , -vertex*np.sin(angle)\n",
    "z6, w6 = vertex*np.cos(angle) , -vertex*np.sin(angle)\n",
    "\n",
    "angle = point*np.pi/180\n",
    "x1, y1 = vertex*np.cos(angle) , vertex*np.sin(angle)\n",
    "x2, y2 = 0, vertex\n",
    "x3, y3 = -1*x1, y1\n",
    "x4, y4 = x3, -1*y3\n",
    "x5, y5 = 0, -1*vertex\n",
    "x6, y6 = x1, -1*y1"
   ]
  },
  {
   "cell_type": "code",
   "execution_count": 34,
   "metadata": {},
   "outputs": [
    {
     "data": {
      "text/plain": [
       "[<matplotlib.lines.Line2D at 0x7ff72c6f1940>]"
      ]
     },
     "execution_count": 34,
     "metadata": {},
     "output_type": "execute_result"
    },
    {
     "data": {
      "image/png": "[encoded data removed]",
      "text/plain": [
       "<Figure size 640x480 with 1 Axes>"
      ]
     },
     "metadata": {},
     "output_type": "display_data"
    }
   ],
   "source": [
    "plt.plot(x1, y1, marker = \"o\")\n",
    "plt.plot(x2, y2, marker = \"o\")\n",
    "plt.plot(x3, y3, marker = \"o\")\n",
    "plt.plot(x4, y4, marker = \"o\")\n",
    "plt.plot(x5, y5, marker = \"o\")\n",
    "plt.plot(x6, y6, marker = \"o\")\n",
    "plt.plot(z1, w1, marker = \"o\")\n",
    "plt.plot(z2, w2, marker = \"o\")\n",
    "plt.plot(z3, w3, marker = \"o\")\n",
    "plt.plot(z4, w4, marker = \"o\")\n",
    "plt.plot(z5, w5, marker = \"o\")\n",
    "plt.plot(z6, w6, marker = \"o\")"
   ]
  },
  {
   "cell_type": "code",
   "execution_count": null,
   "metadata": {},
   "outputs": [],
   "source": []
  },
  {
   "cell_type": "code",
   "execution_count": null,
   "metadata": {},
   "outputs": [],
   "source": []
  }
 ],
 "metadata": {
  "kernelspec": {
   "display_name": "base",
   "language": "python",
   "name": "python3"
  },
  "language_info": {
   "codemirror_mode": {
    "name": "ipython",
    "version": 3
   },
   "file_extension": ".py",
   "mimetype": "text/x-python",
   "name": "python",
   "nbconvert_exporter": "python",
   "pygments_lexer": "ipython3",
   "version": "3.9.13"
  }
 },
 "nbformat": 4,
 "nbformat_minor": 2
}
