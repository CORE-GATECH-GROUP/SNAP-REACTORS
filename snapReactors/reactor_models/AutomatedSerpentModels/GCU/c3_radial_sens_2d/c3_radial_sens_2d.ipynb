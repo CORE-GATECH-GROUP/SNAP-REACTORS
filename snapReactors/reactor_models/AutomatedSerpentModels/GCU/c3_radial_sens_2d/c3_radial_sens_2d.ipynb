{
 "cells": [
  {
   "cell_type": "code",
   "execution_count": 2,
   "metadata": {},
   "outputs": [],
   "source": [
    "import numpy as np\n",
    "import serpentTools as st\n",
    "from utilitities import*\n",
    "from numpy.linalg import norm\n",
    "import matplotlib.image as mpimg"
   ]
  },
  {
   "cell_type": "code",
   "execution_count": 3,
   "metadata": {},
   "outputs": [
    {
     "name": "stderr",
     "output_type": "stream",
     "text": [
      "SERPENT Serpent 2.2.1 found in /Users/isaacnaupaaguirre/Downloads/s82d_ac_c3_gcu_coreres.main_res.m, but version 2.1.31 is defined in settings\n",
      "  Attemping to read anyway. Please report strange behaviors/failures to developers.\n",
      "SERPENT Serpent 2.2.1 found in /Users/isaacnaupaaguirre/Downloads/s82d_ac_c3_gcu_ringres.main_res.m, but version 2.1.31 is defined in settings\n",
      "  Attemping to read anyway. Please report strange behaviors/failures to developers.\n",
      "SERPENT Serpent 2.2.1 found in /Users/isaacnaupaaguirre/Downloads/s82d_ac_c3_gcu_elemres.main_res.m, but version 2.1.31 is defined in settings\n",
      "  Attemping to read anyway. Please report strange behaviors/failures to developers.\n"
     ]
    }
   ],
   "source": [
    "coreresFile = '/Users/isaacnaupaaguirre/Downloads/s82d_ac_c3_gcu_coreres.main_res.m'\n",
    "coreres = st.read(coreresFile)\n",
    "\n",
    "ringresFile = '/Users/isaacnaupaaguirre/Downloads/s82d_ac_c3_gcu_ringres.main_res.m'\n",
    "ringres = st.read(ringresFile)\n",
    "\n",
    "elemresFile = '/Users/isaacnaupaaguirre/Downloads/s82d_ac_c3_gcu_elemres.main_res.m'\n",
    "elemres = st.read(elemresFile)"
   ]
  },
  {
   "cell_type": "code",
   "execution_count": 4,
   "metadata": {},
   "outputs": [
    {
     "name": "stderr",
     "output_type": "stream",
     "text": [
      "SERPENT Serpent 2.1.32 found in /Users/isaacnaupaaguirre/Downloads/s82d_c3_18G_default70_1.main_res.m, but version 2.1.31 is defined in settings\n",
      "  Attemping to read anyway. Please report strange behaviors/failures to developers.\n"
     ]
    }
   ],
   "source": [
    "ref2DFile = '/Users/isaacnaupaaguirre/Downloads/s82d_c3_18G_default70_1.main_res.m'\n",
    "ref2Dres = st.read(ref2DFile)"
   ]
  },
  {
   "cell_type": "markdown",
   "metadata": {},
   "source": [
    "### System Analysis"
   ]
  },
  {
   "cell_type": "code",
   "execution_count": 5,
   "metadata": {},
   "outputs": [],
   "source": [
    "coreUni = coreres.universes['100', 0, 0, 0]\n",
    "rootUni = coreres.universes['0', 0, 0, 0]"
   ]
  },
  {
   "cell_type": "code",
   "execution_count": 6,
   "metadata": {},
   "outputs": [],
   "source": [
    "# rootUni.infExp.keys()"
   ]
  },
  {
   "cell_type": "code",
   "execution_count": 7,
   "metadata": {},
   "outputs": [],
   "source": [
    "# ax = rootUni.plot('infTot', labels=['infAbs - system'])\n",
    "# ax.grid()\n",
    "# coreUni.plot('infTot', ax=ax, labels = ['infAbs - core'], legend='right')"
   ]
  },
  {
   "cell_type": "code",
   "execution_count": 8,
   "metadata": {},
   "outputs": [],
   "source": [
    "def condense(universe, key, useInvFlux = False):\n",
    "    cond = None\n",
    "    if useInvFlux:\n",
    "        invFlux = np.zeros(len(universe.infExp[key]))\n",
    "        for i in range(0, len(invFlux)):\n",
    "            invFlux[i] = 1/universe.infExp[key][i]\n",
    "        cond = np.sum(np.multiply(universe.infExp[key], invFlux)/np.sum(invFlux))\n",
    "    else:\n",
    "        cond = np.sum(np.multiply(universe.infExp[key], universe.infExp['infFlx']))/np.sum(universe.infExp['infFlx'])\n",
    "    return cond"
   ]
  },
  {
   "cell_type": "code",
   "execution_count": 9,
   "metadata": {},
   "outputs": [
    {
     "name": "stdout",
     "output_type": "stream",
     "text": [
      "fluxweighted infTranspxs : 0.487\n",
      "invfluxweighted infTranspxs : 0.358\n",
      "fluxweighted infDiff : 0.684\n",
      "invfluxweighted infDiff : 0.932\n",
      "fluxweighted infDiffLen : 4.287\n",
      "invfluxweighted infDiffLen : 5.002\n"
     ]
    }
   ],
   "source": [
    "fluxweight_coreTranspxs = condense(coreUni, 'infTranspxs')\n",
    "invfluxweight_coreTranspxs = condense(coreUni, 'infTranspxs', useInvFlux=True)\n",
    "\n",
    "fluxweight_coreDiff = 1/(3*fluxweight_coreTranspxs)\n",
    "invfluxweight_coreDiff = 1/(3*invfluxweight_coreTranspxs)\n",
    "\n",
    "print(\"fluxweighted infTranspxs : {:.3f}\".format(fluxweight_coreTranspxs))\n",
    "print(\"invfluxweighted infTranspxs : {:.3f}\".format(invfluxweight_coreTranspxs))\n",
    "\n",
    "print(\"fluxweighted infDiff : {:.3f}\".format(fluxweight_coreDiff))\n",
    "print(\"invfluxweighted infDiff : {:.3f}\".format(invfluxweight_coreDiff))\n",
    "\n",
    "coreAbs = condense(coreUni, 'infAbs')\n",
    "\n",
    "fluxweight_coreDiffLen = np.sqrt(fluxweight_coreDiff/coreAbs)\n",
    "invfluxweight_coreDiffLen = np.sqrt(invfluxweight_coreDiff/coreAbs)\n",
    "\n",
    "print(\"fluxweighted infDiffLen : {:.3f}\".format(fluxweight_coreDiffLen))\n",
    "print(\"invfluxweighted infDiffLen : {:.3f}\".format(invfluxweight_coreDiffLen))  "
   ]
  },
  {
   "cell_type": "markdown",
   "metadata": {},
   "source": [
    "### Radial GCU Resolution Study 2D"
   ]
  },
  {
   "cell_type": "markdown",
   "metadata": {},
   "source": [
    "####  Make Sure Cases are unbiased torwards statistics on few-group data"
   ]
  },
  {
   "cell_type": "code",
   "execution_count": 10,
   "metadata": {},
   "outputs": [
    {
     "name": "stdout",
     "output_type": "stream",
     "text": [
      "0.00327\n"
     ]
    }
   ],
   "source": [
    "maxs = []\n",
    "max = None\n",
    "for uni in coreres.universes:\n",
    "    maxs.append(np.max(coreres.universes[uni].infUnc['infTot']))\n",
    "print(np.max(maxs))"
   ]
  },
  {
   "cell_type": "code",
   "execution_count": 11,
   "metadata": {},
   "outputs": [
    {
     "name": "stdout",
     "output_type": "stream",
     "text": [
      "0.00685\n"
     ]
    }
   ],
   "source": [
    "maxs = []\n",
    "max = None\n",
    "for uni in ringres.universes:\n",
    "    maxs.append(np.max(ringres.universes[uni].infUnc['infTot']))\n",
    "print(np.max(maxs))"
   ]
  },
  {
   "cell_type": "code",
   "execution_count": 12,
   "metadata": {},
   "outputs": [
    {
     "name": "stdout",
     "output_type": "stream",
     "text": [
      "0.00895\n"
     ]
    }
   ],
   "source": [
    "maxs = []\n",
    "max = None\n",
    "for uni in elemres.universes:\n",
    "    maxs.append(np.max(elemres.universes[uni].infUnc['infTot']))\n",
    "print(np.max(maxs))"
   ]
  },
  {
   "cell_type": "markdown",
   "metadata": {},
   "source": [
    "#### Keff Comparison"
   ]
  },
  {
   "cell_type": "code",
   "execution_count": 13,
   "metadata": {},
   "outputs": [
    {
     "name": "stdout",
     "output_type": "stream",
     "text": [
      "Reference Serpent Keff: 1.142, pcm: 4.6\n"
     ]
    }
   ],
   "source": [
    "reffKeff = elemres.resdata['absKeff']\n",
    "print(\"Reference Serpent Keff: {:.5}, pcm: {}\".format(reffKeff[0],reffKeff[1]*1e5))"
   ]
  },
  {
   "cell_type": "code",
   "execution_count": 14,
   "metadata": {},
   "outputs": [],
   "source": [
    "ringResDF = postProcess('/Users/isaacnaupaaguirre/Documents/GitHub/SNAP-REACTORS/snapReactors/reactor_models/AutomatedSerpentModels/GCU/c3_radial_sens_2d/s82d_ac_c3_gcu_ringres_out.csv', isSteady=True)\n",
    "coreResDF = postProcess('/Users/isaacnaupaaguirre/Documents/GitHub/SNAP-REACTORS/snapReactors/reactor_models/AutomatedSerpentModels/GCU/c3_radial_sens_2d/s82d_ac_c3_gcu_coreres_out.csv', isSteady=True)\n",
    "elemResDF = postProcess('/Users/isaacnaupaaguirre/Documents/GitHub/SNAP-REACTORS/snapReactors/reactor_models/AutomatedSerpentModels/GCU/c3_radial_sens_2d/s82d_ac_c3_gcu_elemres_out.csv', isSteady=True)"
   ]
  },
  {
   "cell_type": "code",
   "execution_count": 15,
   "metadata": {},
   "outputs": [],
   "source": [
    "def kToPCM(k):\n",
    "    return 1e5*((k-1)/k)"
   ]
  },
  {
   "cell_type": "code",
   "execution_count": 16,
   "metadata": {},
   "outputs": [
    {
     "name": "stdout",
     "output_type": "stream",
     "text": [
      "core resolution keff: 1.14162, pcmDiff: -25.8\n",
      "ring resolution keff: 1.14170, pcmDiff: -20.1\n",
      "elem resolution keff: 1.14175, pcmDiff: -15.8\n"
     ]
    }
   ],
   "source": [
    "griff_ckeff = coreResDF['eigenvalue'][1]\n",
    "griff_rkeff = ringResDF['eigenvalue'][1]\n",
    "griff_ekeff = elemResDF['eigenvalue'][1]\n",
    "\n",
    "print(\"core resolution keff: {:.5f}, pcmDiff: {:.1f}\".format(griff_ckeff, kToPCM(griff_ckeff) - kToPCM(reffKeff[0])))\n",
    "print(\"ring resolution keff: {:.5f}, pcmDiff: {:.1f}\".format(griff_rkeff, kToPCM(griff_rkeff) - kToPCM(reffKeff[0])))\n",
    "print(\"elem resolution keff: {:.5f}, pcmDiff: {:.1f}\".format(griff_ekeff, kToPCM(griff_ekeff) - kToPCM(reffKeff[0])))"
   ]
  },
  {
   "cell_type": "markdown",
   "metadata": {},
   "source": [
    "1. PCM difference decreases with increase in spatial resolution as espected"
   ]
  },
  {
   "cell_type": "markdown",
   "metadata": {},
   "source": [
    "#### Verification of Few Group Spectrum"
   ]
  },
  {
   "cell_type": "code",
   "execution_count": 17,
   "metadata": {},
   "outputs": [],
   "source": [
    "fgs_hr18 = [5.0000E-09, 2.5000E-08, 1.0000E-07, 4.0000E-07, 9.9600E-07, 3.0000E-06,\n",
    "9.8770E-06, 2.7700E-05, 1.0000E-04, 5.5000E-04, 3.0000E-03, 1.5030E-02,\n",
    "1.0000E-01, 4.0000E-01, 8.2100E-01, 1.3530E+00, 3.0000E+00, 6.0655E+00,\n",
    "2.0000E+01]"
   ]
  },
  {
   "cell_type": "code",
   "execution_count": 18,
   "metadata": {},
   "outputs": [],
   "source": [
    "refFGSFile = '/Users/isaacnaupaaguirre/Documents/GitHub/SNAP-REACTORS/snapReactors/reactor_models/AutomatedSerpentModels/GCU/c3_radial_sens_2d/s82d_ac_c3_gcu_coreres.main_det0.m'\n",
    "refFGSDet = st.read(refFGSFile)\n",
    "refFGS = refFGSDet['fgs_spec']"
   ]
  },
  {
   "cell_type": "code",
   "execution_count": 19,
   "metadata": {},
   "outputs": [],
   "source": [
    "def normZeroToOne(arr):\n",
    "    normArr = np.zeros(len(arr))\n",
    "    min = np.min(arr)\n",
    "    max = np.max(arr)\n",
    "    for i in range(0, len(arr)):\n",
    "        normArr[i] = (arr[i] - min)/(max - min)\n",
    "    return normArr"
   ]
  },
  {
   "cell_type": "code",
   "execution_count": 20,
   "metadata": {},
   "outputs": [
    {
     "data": {
      "text/plain": [
       "<AxesSubplot:xlabel='Energy [MeV]', ylabel='Tally data normalized per unit lethargy $\\\\pm3\\\\sigma$'>"
      ]
     },
     "execution_count": 20,
     "metadata": {},
     "output_type": "execute_result"
    },
    {
     "data": {
      "image/png": "[encoded data removed]",
      "text/plain": [
       "<Figure size 640x480 with 1 Axes>"
      ]
     },
     "metadata": {},
     "output_type": "display_data"
    }
   ],
   "source": [
    "refFGS.spectrumPlot()"
   ]
  },
  {
   "cell_type": "code",
   "execution_count": 21,
   "metadata": {},
   "outputs": [],
   "source": [
    "normRefFGS = normZeroToOne(refFGS.tallies)"
   ]
  },
  {
   "cell_type": "code",
   "execution_count": 22,
   "metadata": {},
   "outputs": [
    {
     "data": {
      "text/plain": [
       "<matplotlib.patches.StepPatch at 0x7fbfbc3b73d0>"
      ]
     },
     "execution_count": 22,
     "metadata": {},
     "output_type": "execute_result"
    },
    {
     "data": {
      "image/png": "[encoded data removed]",
      "text/plain": [
       "<Figure size 640x480 with 1 Axes>"
      ]
     },
     "metadata": {},
     "output_type": "display_data"
    }
   ],
   "source": [
    "plt.stairs(normRefFGS)"
   ]
  },
  {
   "cell_type": "code",
   "execution_count": 23,
   "metadata": {},
   "outputs": [],
   "source": [
    "#collectFGS\n",
    "nFewGroups = 18\n",
    "griff_coreResFGS = []\n",
    "griff_ringResFGS = []\n",
    "griff_elemResFGS = []\n",
    "for i in range(nFewGroups-1, -1, -1):\n",
    "    griff_coreResFGS.append(coreResDF['Flux{}'.format(i+1)][1])\n",
    "    griff_ringResFGS.append(ringResDF['Flux{}'.format(i+1)][1])\n",
    "    griff_elemResFGS.append(elemResDF['Flux{}'.format(i+1)][1])\n",
    "\n",
    "normGriff_ringResFGS = normZeroToOne(griff_ringResFGS)\n",
    "normGriff_coreResFGS = normZeroToOne(griff_coreResFGS)\n",
    "normGriff_elemResFGS = normZeroToOne(griff_elemResFGS)"
   ]
  },
  {
   "cell_type": "code",
   "execution_count": 58,
   "metadata": {},
   "outputs": [
    {
     "name": "stdout",
     "output_type": "stream",
     "text": [
      "[ 0  1  2  3  4  5  6  7  8  9 10 11 12 13 14 15 16 17 18]\n"
     ]
    }
   ],
   "source": [
    "groupBins = np.linspace(0, 18, 19).astype(\"int\")\n",
    "print(groupBins)"
   ]
  },
  {
   "cell_type": "code",
   "execution_count": 66,
   "metadata": {},
   "outputs": [
    {
     "data": {
      "image/png": "[encoded data removed]",
      "text/plain": [
       "<Figure size 640x480 with 1 Axes>"
      ]
     },
     "metadata": {},
     "output_type": "display_data"
    }
   ],
   "source": [
    "plt.stairs(normGriff_coreResFGS, groupBins, label = \"Griffin_Core\", linewidth = 1, alpha = 1, linestyle = \"-.\")\n",
    "plt.stairs(normGriff_ringResFGS, groupBins, label = \"Griffin_Ring\", linewidth = 1, alpha = 1, linestyle = \":\")\n",
    "plt.stairs(normGriff_elemResFGS, groupBins, label = \"Griffin_Elem\", linewidth = 1, alpha = 1, linestyle = \"--\")\n",
    "plt.stairs(normRefFGS, groupBins, label = \"Serpent\", color = \"black\", linewidth = 1, alpha = 0.5)\n",
    "plt.xticks(groupBins)\n",
    "plt.xlabel(\"Few-group Energy Bins\")\n",
    "plt.ylabel(\"Normalized Few-Group Spectrum\")\n",
    "plt.legend(loc='upper left')\n",
    "plt.tight_layout()\n",
    "plt.grid()"
   ]
  },
  {
   "cell_type": "code",
   "execution_count": 24,
   "metadata": {},
   "outputs": [],
   "source": [
    "def calcL2NormDiffPerc(ref,  comp):\n",
    "    diff = np.subtract(ref, comp)\n",
    "    diffNorm  = norm(diff)\n",
    "    base = norm(ref)\n",
    "    return (diffNorm/base)*100\n",
    "\n",
    "def calcPercentRelativeError(ref, comp):\n",
    "    relErr = []\n",
    "    diff = np.abs(np.subtract(ref, comp))\n",
    "\n",
    "    for i in range(0, len(diff)):\n",
    "        if diff[i] != 0:\n",
    "            #relErr.append(2*(diff[i]/(np.abs(ref[i])+np.abs(comp[i]))))\n",
    "            relErr.append(100*diff[i]/ref[i])\n",
    "        else:\n",
    "            relErr.append(0)\n",
    "    return relErr"
   ]
  },
  {
   "cell_type": "code",
   "execution_count": 25,
   "metadata": {},
   "outputs": [],
   "source": [
    "coreL2NormDiffFGS = calcL2NormDiffPerc(normRefFGS, normGriff_coreResFGS)\n",
    "ringL2NormDiffFGS = calcL2NormDiffPerc(normRefFGS, normGriff_ringResFGS)\n",
    "elemL2NormDiffFGS = calcL2NormDiffPerc(normRefFGS, normGriff_elemResFGS)"
   ]
  },
  {
   "cell_type": "code",
   "execution_count": 26,
   "metadata": {},
   "outputs": [
    {
     "name": "stdout",
     "output_type": "stream",
     "text": [
      "core resolution FGS l2normDiff (%): 0.624\n",
      "ring resolution FGS l2normDiff (%): 0.607\n",
      "elem resolution FGS l2normDiff (%): 0.609\n"
     ]
    }
   ],
   "source": [
    "print(\"core resolution FGS l2normDiff (%): {:.3f}\".format(coreL2NormDiffFGS))\n",
    "print(\"ring resolution FGS l2normDiff (%): {:.3f}\".format(ringL2NormDiffFGS))\n",
    "print(\"elem resolution FGS l2normDiff (%): {:.3f}\".format(elemL2NormDiffFGS))"
   ]
  },
  {
   "cell_type": "code",
   "execution_count": 68,
   "metadata": {},
   "outputs": [],
   "source": [
    "def createDetectors(unis):\n",
    "    detStr = \"\"\n",
    "    for i in range(0, len(unis)):\n",
    "        detStr = detStr + 'det nuFissRate{} dr -7 void du {}\\n'.format(unis[i], unis[i])\n",
    "        detStr = detStr + 'det capRate{} dr -2 void du {}\\n'.format(unis[i], unis[i])\n",
    "\n",
    "    return detStr"
   ]
  },
  {
   "cell_type": "code",
   "execution_count": 71,
   "metadata": {},
   "outputs": [
    {
     "name": "stdout",
     "output_type": "stream",
     "text": [
      "[101 102 103 104 105 106 107 108 109 110 111 112 113 114 115 116 117 118\n",
      " 119 120]\n"
     ]
    }
   ],
   "source": [
    "uni20L = np.linspace(101, 120, 20).astype(\"int\")\n",
    "print(uni20L)"
   ]
  },
  {
   "cell_type": "code",
   "execution_count": 74,
   "metadata": {},
   "outputs": [
    {
     "name": "stdout",
     "output_type": "stream",
     "text": [
      "det nuFissRate101 dr -7 void du 101\n",
      "det capRate101 dr -2 void du 101\n",
      "det nuFissRate102 dr -7 void du 102\n",
      "det capRate102 dr -2 void du 102\n",
      "det nuFissRate103 dr -7 void du 103\n",
      "det capRate103 dr -2 void du 103\n",
      "det nuFissRate104 dr -7 void du 104\n",
      "det capRate104 dr -2 void du 104\n",
      "det nuFissRate105 dr -7 void du 105\n",
      "det capRate105 dr -2 void du 105\n",
      "det nuFissRate106 dr -7 void du 106\n",
      "det capRate106 dr -2 void du 106\n",
      "det nuFissRate107 dr -7 void du 107\n",
      "det capRate107 dr -2 void du 107\n",
      "det nuFissRate108 dr -7 void du 108\n",
      "det capRate108 dr -2 void du 108\n",
      "det nuFissRate109 dr -7 void du 109\n",
      "det capRate109 dr -2 void du 109\n",
      "det nuFissRate110 dr -7 void du 110\n",
      "det capRate110 dr -2 void du 110\n",
      "det nuFissRate111 dr -7 void du 111\n",
      "det capRate111 dr -2 void du 111\n",
      "det nuFissRate112 dr -7 void du 112\n",
      "det capRate112 dr -2 void du 112\n",
      "det nuFissRate113 dr -7 void du 113\n",
      "det capRate113 dr -2 void du 113\n",
      "det nuFissRate114 dr -7 void du 114\n",
      "det capRate114 dr -2 void du 114\n",
      "det nuFissRate115 dr -7 void du 115\n",
      "det capRate115 dr -2 void du 115\n",
      "det nuFissRate116 dr -7 void du 116\n",
      "det capRate116 dr -2 void du 116\n",
      "det nuFissRate117 dr -7 void du 117\n",
      "det capRate117 dr -2 void du 117\n",
      "det nuFissRate118 dr -7 void du 118\n",
      "det capRate118 dr -2 void du 118\n",
      "det nuFissRate119 dr -7 void du 119\n",
      "det capRate119 dr -2 void du 119\n",
      "det nuFissRate120 dr -7 void du 120\n",
      "det capRate120 dr -2 void du 120\n",
      "\n"
     ]
    }
   ],
   "source": [
    "print(createDetectors(uni20L))"
   ]
  },
  {
   "cell_type": "markdown",
   "metadata": {},
   "source": [
    "#### Flux Map Comparison"
   ]
  },
  {
   "cell_type": "code",
   "execution_count": 28,
   "metadata": {},
   "outputs": [],
   "source": [
    "coreRefMapFile = '/Users/isaacnaupaaguirre/Documents/GitHub/SNAP-REACTORS/snapReactors/reactor_models/AutomatedSerpentModels/GCU/c3_radial_sens_2d/s82d_ac_c3_gcu_coreres.main_detMap.m'\n",
    "coreRefMapDet = st.read(coreRefMapFile, reader='det')\n",
    "\n",
    "ringRefMapFile = '/Users/isaacnaupaaguirre/Documents/GitHub/SNAP-REACTORS/snapReactors/reactor_models/AutomatedSerpentModels/GCU/c3_radial_sens_2d/s82d_ac_c3_gcu_ringres.main_det0.m'\n",
    "ringRefMapDet = st.read(ringRefMapFile, reader='det')\n",
    "\n",
    "elemRefMapFile = '/Users/isaacnaupaaguirre/Documents/GitHub/SNAP-REACTORS/snapReactors/reactor_models/AutomatedSerpentModels/GCU/c3_radial_sens_2d/s82d_ac_c3_gcu_elemres.main_det0.m'\n",
    "elemRefMapDet = st.read(elemRefMapFile, reader='det')"
   ]
  },
  {
   "cell_type": "code",
   "execution_count": 29,
   "metadata": {},
   "outputs": [],
   "source": [
    "def griffinFluxMapReader(path):\n",
    "    keys = ['volume', 'nufiss', 'power', 'absorption', 'scalar']\n",
    "    block = []\n",
    "    vol = []\n",
    "    nufiss = []\n",
    "    pow = []\n",
    "    abs = []\n",
    "    scalar = []\n",
    "    with open(path, \"r\") as f:\n",
    "        lines = f.readlines()\n",
    "        f.close()\n",
    "\n",
    "    bidx = None\n",
    "    eidx = None\n",
    "    hasBegun = False\n",
    "    for ldx, line in enumerate(lines):\n",
    "        if \"Block average\" in line:\n",
    "            bidx = ldx+2\n",
    "            hasBegun = True \n",
    "        if (line == \"\\n\") & hasBegun:\n",
    "            eidx = ldx\n",
    "            break\n",
    "    \n",
    "    data = lines[bidx:eidx]\n",
    "\n",
    "    dicts = []\n",
    "\n",
    "    for i in range(0, len(data)):\n",
    "        vals  = data[i].split()\n",
    "        block.append(vals[0])\n",
    "        vol.append(float(vals[1]))\n",
    "        nufiss.append(float(vals[2]))\n",
    "        pow.append(float(vals[3]))\n",
    "        abs.append(float(vals[4]))\n",
    "        scalar.append(float(vals[5]))\n",
    "\n",
    "        dset = [vol[i], nufiss[i], pow[i], abs[i], scalar[i]]\n",
    "        dicts.append(dict(zip(keys, dset)))\n",
    "\n",
    "\n",
    "    map = dict(zip(block, dicts))\n",
    "    return map"
   ]
  },
  {
   "cell_type": "code",
   "execution_count": 30,
   "metadata": {},
   "outputs": [],
   "source": [
    "coreGriffBlockMap = griffinFluxMapReader('/Users/isaacnaupaaguirre/Documents/GitHub/SNAP-REACTORS/snapReactors/reactor_models/AutomatedSerpentModels/GCU/c3_radial_sens_2d/core_flux_map.txt')\n",
    "ringGriffBlockMap = griffinFluxMapReader('/Users/isaacnaupaaguirre/Documents/GitHub/SNAP-REACTORS/snapReactors/reactor_models/AutomatedSerpentModels/GCU/c3_radial_sens_2d/ring_flux_map.txt')\n",
    "elemGriffBlockMap = griffinFluxMapReader('/Users/isaacnaupaaguirre/Documents/GitHub/SNAP-REACTORS/snapReactors/reactor_models/AutomatedSerpentModels/GCU/c3_radial_sens_2d/elem_flux_map.txt')"
   ]
  },
  {
   "cell_type": "code",
   "execution_count": 31,
   "metadata": {},
   "outputs": [],
   "source": [
    "def getBlock2UniMap(df, blockMap):\n",
    "    uniMap = {}\n",
    "    blocks = list(df['Block Name'])\n",
    "    unis = list(df['material_id'])\n",
    "\n",
    "    bkeyu = {}\n",
    "\n",
    "    for bdx, block in enumerate(blocks):\n",
    "        bkeyu[block.replace(\"block_\", \"\")] = str(int(unis[bdx]))\n",
    "\n",
    "    for block in blockMap:\n",
    "        uniMap[bkeyu[block]] = blockMap[block]\n",
    "    \n",
    "    return uniMap"
   ]
  },
  {
   "cell_type": "code",
   "execution_count": 32,
   "metadata": {},
   "outputs": [],
   "source": [
    "def getUni2BlockMap(df, uniMap):\n",
    "    blockMap = {}\n",
    "\n",
    "    blocks = list(df['Block Name'])\n",
    "    unis = list(df['material_id'])\n",
    "\n",
    "    ukeyb = {}\n",
    "\n",
    "    for bdx, block in enumerate(blocks):\n",
    "        ukeyb[str(int(unis[bdx]))] = block.replace(\"block_\", \"\")\n",
    "\n",
    "    for uni in uniMap:\n",
    "        # uniMap[bkeyu[block]] = blockMap[block]\n",
    "\n",
    "        blockMap[ukeyb[uni]] = uniMap[str(uni)]\n",
    "    return blockMap"
   ]
  },
  {
   "cell_type": "code",
   "execution_count": 33,
   "metadata": {},
   "outputs": [],
   "source": [
    "corePointData = pd.read_csv('snapReactors/reactor_models/AutomatedSerpentModels/GCU/c3_radial_sens_2d/s82d_ac_c3_gcu_coreres_cellPointdata.csv')\n",
    "ringPointData = pd.read_csv('snapReactors/reactor_models/AutomatedSerpentModels/GCU/c3_radial_sens_2d/s82d_ac_c3_gcu_ringres_cellPointdata.csv')\n",
    "elemPointData = pd.read_csv('snapReactors/reactor_models/AutomatedSerpentModels/GCU/c3_radial_sens_2d/s82d_ac_c3_gcu_elemres_cellPointdata.csv')"
   ]
  },
  {
   "cell_type": "code",
   "execution_count": 34,
   "metadata": {},
   "outputs": [],
   "source": [
    "coreGriffMap = getBlock2UniMap(corePointData, coreGriffBlockMap)\n",
    "ringGriffMap = getBlock2UniMap(ringPointData, ringGriffBlockMap)\n",
    "elemGriffMap = getBlock2UniMap(elemPointData, elemGriffBlockMap)"
   ]
  },
  {
   "cell_type": "code",
   "execution_count": 35,
   "metadata": {},
   "outputs": [],
   "source": [
    "# print(coreGriffMap)\n",
    "# print(ringGriffMap)\n",
    "# print(elemGriffMap)"
   ]
  },
  {
   "cell_type": "code",
   "execution_count": 36,
   "metadata": {},
   "outputs": [],
   "source": [
    "coreUnis = list(coreGriffMap.keys())\n",
    "ringUnis = list(ringGriffMap.keys())\n",
    "elemUnis = list(elemGriffMap.keys())\n",
    "\n",
    "# print(createDetectors(coreUnis))\n",
    "# print(createDetectors(ringUnis))\n",
    "# print(createDetectors(elemUnis))"
   ]
  },
  {
   "cell_type": "code",
   "execution_count": 37,
   "metadata": {},
   "outputs": [],
   "source": [
    "def getUniValsList(map, attr):\n",
    "    vals = []\n",
    "    for uni in map:\n",
    "        vals.append(map[uni][attr])\n",
    "    return vals"
   ]
  },
  {
   "cell_type": "code",
   "execution_count": 38,
   "metadata": {},
   "outputs": [],
   "source": [
    "coreNuFissMap = {}\n",
    "coreCapMap = {}\n",
    "\n",
    "coreNuFiss = []\n",
    "coreCap = []\n",
    "\n",
    "ringNuFissMap = {}\n",
    "ringCapMap = {}\n",
    "\n",
    "ringNuFiss = []\n",
    "ringCap = []\n",
    "\n",
    "elemNuFissMap = {}\n",
    "elemCapMap = {}\n",
    "\n",
    "elemNuFiss = []\n",
    "elemCap = []\n",
    "\n",
    "for uni in coreUnis:\n",
    "    coreNuFissMap[uni] = coreRefMapDet[\"nuFissRate{}\".format(uni)]\n",
    "    coreCapMap[uni] = coreRefMapDet[\"capRate{}\".format(uni)]\n",
    "\n",
    "for uni in ringUnis:\n",
    "    ringNuFissMap[uni] = ringRefMapDet[\"nuFissRate{}\".format(uni)]\n",
    "    ringCapMap[uni] = ringRefMapDet[\"capRate{}\".format(uni)]\n",
    "\n",
    "for uni in elemUnis:\n",
    "    elemNuFissMap[uni] = elemRefMapDet[\"nuFissRate{}\".format(uni)]\n",
    "    elemCapMap[uni] = elemRefMapDet[\"capRate{}\".format(uni)]"
   ]
  },
  {
   "cell_type": "code",
   "execution_count": 39,
   "metadata": {},
   "outputs": [],
   "source": [
    "for uni in coreNuFissMap:\n",
    "    coreNuFiss.append(coreNuFissMap[uni].tallies/coreGriffMap[uni]['volume'])\n",
    "    coreCap.append(coreCapMap[uni].tallies/coreGriffMap[uni]['volume'])\n",
    "\n",
    "for uni in ringNuFissMap:\n",
    "    ringNuFiss.append(ringNuFissMap[uni].tallies/ringGriffMap[uni]['volume'])\n",
    "    ringCap.append(ringCapMap[uni].tallies/ringGriffMap[uni]['volume'])\n",
    "\n",
    "for uni in elemNuFissMap:\n",
    "    elemNuFiss.append(elemNuFissMap[uni].tallies/elemGriffMap[uni]['volume'])\n",
    "    elemCap.append(elemCapMap[uni].tallies/elemGriffMap[uni]['volume'])"
   ]
  },
  {
   "cell_type": "code",
   "execution_count": 40,
   "metadata": {},
   "outputs": [],
   "source": [
    "elemNuFissBlockMap = getUni2BlockMap(elemPointData, elemNuFissMap)"
   ]
  },
  {
   "cell_type": "code",
   "execution_count": 41,
   "metadata": {},
   "outputs": [],
   "source": [
    "griffCoreNuFiss = getUniValsList(coreGriffMap, 'nufiss')\n",
    "griffRingNuFiss = getUniValsList(ringGriffMap, 'nufiss')\n",
    "griffElemNuFiss = getUniValsList(elemGriffMap, 'nufiss')"
   ]
  },
  {
   "cell_type": "code",
   "execution_count": 67,
   "metadata": {},
   "outputs": [
    {
     "ename": "NameError",
     "evalue": "name 'griffRingNuFiss' is not defined",
     "output_type": "error",
     "traceback": [
      "\u001b[0;31m---------------------------------------------------------------------------\u001b[0m",
      "\u001b[0;31mNameError\u001b[0m                                 Traceback (most recent call last)",
      "\u001b[0;32m/var/folders/k4/72jl4d_n4yb0qb06hc1sq4vr0000gn/T/ipykernel_16031/3564829946.py\u001b[0m in \u001b[0;36m<module>\u001b[0;34m\u001b[0m\n\u001b[0;32m----> 1\u001b[0;31m \u001b[0mplt\u001b[0m\u001b[0;34m.\u001b[0m\u001b[0mplot\u001b[0m\u001b[0;34m(\u001b[0m\u001b[0mnormZeroToOne\u001b[0m\u001b[0;34m(\u001b[0m\u001b[0mgriffRingNuFiss\u001b[0m\u001b[0;34m)\u001b[0m\u001b[0;34m,\u001b[0m \u001b[0mlabel\u001b[0m \u001b[0;34m=\u001b[0m \u001b[0;34m\"griffin fissNeutProductionRate\"\u001b[0m\u001b[0;34m,\u001b[0m \u001b[0mmarker\u001b[0m \u001b[0;34m=\u001b[0m \u001b[0;34m\"o\"\u001b[0m\u001b[0;34m)\u001b[0m\u001b[0;34m\u001b[0m\u001b[0;34m\u001b[0m\u001b[0m\n\u001b[0m\u001b[1;32m      2\u001b[0m \u001b[0mplt\u001b[0m\u001b[0;34m.\u001b[0m\u001b[0mplot\u001b[0m\u001b[0;34m(\u001b[0m\u001b[0mnormZeroToOne\u001b[0m\u001b[0;34m(\u001b[0m\u001b[0mringNuFiss\u001b[0m\u001b[0;34m)\u001b[0m\u001b[0;34m,\u001b[0m \u001b[0mlabel\u001b[0m \u001b[0;34m=\u001b[0m \u001b[0;34m\"serpent fissNeutProductionRate\"\u001b[0m\u001b[0;34m)\u001b[0m\u001b[0;34m\u001b[0m\u001b[0;34m\u001b[0m\u001b[0m\n\u001b[1;32m      3\u001b[0m \u001b[0mplt\u001b[0m\u001b[0;34m.\u001b[0m\u001b[0mylabel\u001b[0m\u001b[0;34m(\u001b[0m\u001b[0;34m\"Normalized Radial NuFissRate\"\u001b[0m\u001b[0;34m)\u001b[0m\u001b[0;34m\u001b[0m\u001b[0;34m\u001b[0m\u001b[0m\n\u001b[1;32m      4\u001b[0m \u001b[0mplt\u001b[0m\u001b[0;34m.\u001b[0m\u001b[0mxlabel\u001b[0m\u001b[0;34m(\u001b[0m\u001b[0;34m\"Radial Bin\"\u001b[0m\u001b[0;34m)\u001b[0m\u001b[0;34m\u001b[0m\u001b[0;34m\u001b[0m\u001b[0m\n\u001b[1;32m      5\u001b[0m \u001b[0mplt\u001b[0m\u001b[0;34m.\u001b[0m\u001b[0mlegend\u001b[0m\u001b[0;34m(\u001b[0m\u001b[0;34m)\u001b[0m\u001b[0;34m\u001b[0m\u001b[0;34m\u001b[0m\u001b[0m\n",
      "\u001b[0;31mNameError\u001b[0m: name 'griffRingNuFiss' is not defined"
     ]
    }
   ],
   "source": [
    "plt.plot(normZeroToOne(griffRingNuFiss), label = \"griffin fissNeutProductionRate\", marker = \"o\")\n",
    "plt.plot(normZeroToOne(ringNuFiss), label = \"serpent fissNeutProductionRate\")\n",
    "plt.ylabel(\"Normalized Radial NuFissRate\")\n",
    "plt.xlabel(\"Radial Bin\")\n",
    "plt.legend()\n",
    "plt.grid()"
   ]
  },
  {
   "cell_type": "code",
   "execution_count": 43,
   "metadata": {},
   "outputs": [
    {
     "data": {
      "image/png": "[encoded data removed]",
      "text/plain": [
       "<Figure size 640x480 with 1 Axes>"
      ]
     },
     "metadata": {},
     "output_type": "display_data"
    }
   ],
   "source": [
    "plt.plot(normZeroToOne(griffRingNuFiss[0:8]), label = \"griffin nuSigF\", marker = \"o\")\n",
    "plt.plot(normZeroToOne(ringNuFiss[0:8]), label = \"serpent nuSigF\")\n",
    "plt.ylabel(\"Normalized Radial NuFissRate\")\n",
    "plt.xlabel(\"Radial Bin\")\n",
    "plt.legend()\n",
    "plt.grid()"
   ]
  },
  {
   "cell_type": "code",
   "execution_count": 44,
   "metadata": {},
   "outputs": [
    {
     "name": "stdout",
     "output_type": "stream",
     "text": [
      "ring resolution NuFissRate l2normDiff (%): 0.112\n"
     ]
    }
   ],
   "source": [
    "ringL2NormDiffNuFiss = calcL2NormDiffPerc(normZeroToOne(ringNuFiss), normZeroToOne(griffRingNuFiss))\n",
    "print(\"ring resolution NuFissRate l2normDiff (%): {:.3f}\".format(ringL2NormDiffNuFiss))"
   ]
  },
  {
   "cell_type": "code",
   "execution_count": 45,
   "metadata": {},
   "outputs": [],
   "source": [
    "coreNuFissRateRelError = calcPercentRelativeError(normZeroToOne(coreNuFiss), normZeroToOne(griffCoreNuFiss))\n",
    "coreNuFissRateRelErrorMap = dict(zip(coreUnis, coreNuFissRateRelError))\n",
    "\n",
    "ringNuFissRateRelError = calcPercentRelativeError(normZeroToOne(ringNuFiss), normZeroToOne(griffRingNuFiss))\n",
    "ringNuFissRateRelErrorMap = dict(zip(ringUnis, ringNuFissRateRelError))\n",
    "\n",
    "elemNuFissRateRelError = calcPercentRelativeError(normZeroToOne(elemNuFiss), normZeroToOne(griffElemNuFiss))\n",
    "elemNuFissRateRelErrorMap = dict(zip(elemUnis, elemNuFissRateRelError))"
   ]
  },
  {
   "cell_type": "code",
   "execution_count": 46,
   "metadata": {},
   "outputs": [
    {
     "data": {
      "image/png": "[encoded data removed]",
      "text/plain": [
       "<Figure size 640x480 with 1 Axes>"
      ]
     },
     "metadata": {},
     "output_type": "display_data"
    }
   ],
   "source": [
    "plt.stairs(ringNuFissRateRelError , label = \"nuSigF\", alpha = 1)\n",
    "plt.ylabel(\"Normalized Radial NuFissRate Relative Difference %\")\n",
    "plt.xlabel(\"Radial Bin\")\n",
    "plt.legend()\n",
    "plt.grid(alpha = 0.5)"
   ]
  },
  {
   "cell_type": "code",
   "execution_count": 47,
   "metadata": {},
   "outputs": [],
   "source": [
    "def createAppendCSV(cellData, keys, params, vals, exportPath, useBlockId = False):\n",
    "    xyz = ['x', 'y', 'z']\n",
    "\n",
    "    for param in params:\n",
    "        xyz.append(param)\n",
    "\n",
    "    appendDF = pd.DataFrame(columns=xyz)\n",
    "\n",
    "    map = {}\n",
    "\n",
    "    for key in keys:\n",
    "        for pdx, param in enumerate(params):\n",
    "            map[key] = {}\n",
    "            \n",
    "    for kdx, key in enumerate(keys):\n",
    "        for pdx, param in enumerate(params):\n",
    "            map[key][param] = vals[pdx][kdx]\n",
    "\n",
    "    \n",
    "    if not useBlockId:\n",
    "        pointKeys = np.array(list(cellData['material_id'])).astype('int')\n",
    "    else:\n",
    "        pointKeys = []\n",
    "        blocks = list(cellData['Block Name'])\n",
    "        for i in range(0, len(blocks)):\n",
    "            pointKeys.append(int(blocks[i].replace(\"block_\", \"\")))\n",
    "\n",
    "    appendDF['x'] = list(cellData['Points_0'])\n",
    "    appendDF['y'] = list(cellData['Points_1'])\n",
    "    appendDF['z'] = list(cellData['Points_2'])\n",
    "\n",
    "    for param in params:\n",
    "        pointData = []\n",
    "        for i in range(0, len(pointKeys)):\n",
    "            pointData.append(map[str(pointKeys[i])][param])\n",
    "        \n",
    "        appendDF[param] = pointData\n",
    "\n",
    "    appendDF.to_csv(exportPath, index=False)\n",
    "    \n",
    "    return appendDF"
   ]
  },
  {
   "cell_type": "code",
   "execution_count": 48,
   "metadata": {},
   "outputs": [],
   "source": [
    "coreParams = ['nuFissRate', 'nuFissRateRelError']\n",
    "coreVals = [getUniValsList(coreGriffMap, 'nufiss'), coreNuFissRateRelError]\n",
    "corePath = '/Users/isaacnaupaaguirre/Documents/GitHub/SNAP-REACTORS/snapReactors/reactor_models/AutomatedSerpentModels/GCU/c3_radial_sens_2d/s82d_ac_c3_gcu_coreres_cellPointdataAppend.csv'\n",
    "\n",
    "ringParams = ['nuFissRate', 'nuFissRateRelError']\n",
    "ringVals = [getUniValsList(ringGriffMap, 'nufiss'), ringNuFissRateRelError]\n",
    "ringPath = '/Users/isaacnaupaaguirre/Documents/GitHub/SNAP-REACTORS/snapReactors/reactor_models/AutomatedSerpentModels/GCU/c3_radial_sens_2d/s82d_ac_c3_gcu_ringres_cellPointdataAppend.csv'\n",
    "\n",
    "elemParams = ['nuFissRate', 'nuFissRateRelError']\n",
    "elemVals = [getUniValsList(elemGriffMap, 'nufiss'), elemNuFissRateRelError]\n",
    "elemPath = '/Users/isaacnaupaaguirre/Documents/GitHub/SNAP-REACTORS/snapReactors/reactor_models/AutomatedSerpentModels/GCU/c3_radial_sens_2d/s82d_ac_c3_gcu_elemres_cellPointdataAppend.csv'\n",
    "\n",
    "createAppendCSV(corePointData, coreUnis, coreParams, coreVals, corePath)\n",
    "createAppendCSV(ringPointData, ringUnis, ringParams, ringVals, ringPath)\n",
    "createAppendCSV(elemPointData, elemUnis, elemParams, elemVals, elemPath);"
   ]
  },
  {
   "cell_type": "markdown",
   "metadata": {},
   "source": [
    "#### Element Based Flux Map\n",
    "![alt text](elem_flux.png \"Title\")"
   ]
  },
  {
   "cell_type": "markdown",
   "metadata": {},
   "source": [
    "#### Element Based - Elem XS Flux Rel Error Map\n",
    "![alt text](elem_flux_relerr.png \"Title\")"
   ]
  },
  {
   "cell_type": "markdown",
   "metadata": {},
   "source": [
    "#### Element Based - Ring XS Flux Rel Error Map\n",
    "![alt text](elem_ringxs_flux_relerr.png \"Title\")"
   ]
  },
  {
   "cell_type": "markdown",
   "metadata": {},
   "source": [
    "#### Element Based - Core XS Flux Rel Error Map\n",
    "![alt text](elem_corexs_flux_relerr.png \"Title\")"
   ]
  }
 ],
 "metadata": {
  "kernelspec": {
   "display_name": "base",
   "language": "python",
   "name": "python3"
  },
  "language_info": {
   "codemirror_mode": {
    "name": "ipython",
    "version": 3
   },
   "file_extension": ".py",
   "mimetype": "text/x-python",
   "name": "python",
   "nbconvert_exporter": "python",
   "pygments_lexer": "ipython3",
   "version": "3.9.13"
  },
  "orig_nbformat": 4
 },
 "nbformat": 4,
 "nbformat_minor": 2
}
