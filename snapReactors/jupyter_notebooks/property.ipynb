{
 "cells": [
  {
   "cell_type": "markdown",
   "metadata": {},
   "source": [
    "# snapReactors"
   ]
  },
  {
   "cell_type": "markdown",
   "metadata": {},
   "source": [
    "Copyright (c) Dan Kotlyar and CoRE group"
   ]
  },
  {
   "cell_type": "markdown",
   "metadata": {},
   "source": [
    "# Property Container"
   ]
  },
  {
   "cell_type": "markdown",
   "metadata": {},
   "source": [
    "* This container stores all relevant info required for a specific \n",
    "property and provides methods to evaluate propertys based on specfic \n",
    "dependencies such as temperature, pressure, etc.\n",
    "* The container also organizes propertys based on their type, providing subclasses such\n",
    "as Constant, Table, and Correlation. "
   ]
  },
  {
   "cell_type": "markdown",
   "metadata": {},
   "source": [
    "### Code: "
   ]
  },
  {
   "cell_type": "markdown",
   "metadata": {},
   "source": [
    "```python\n",
    "    >>> p2 = Table('h', 'THPHYS', np.array([1, 2, 3, 4]), 'W/K*m^2', \n",
    "    >>>     np.array([100, 200, 300, 400]), 'K', \n",
    "    >>>     unc = np.array([.01, .01, .01, .01]))\n",
    "    >>>\n",
    "    >>> p2.evaluate(300) #300K \n",
    "```"
   ]
  },
  {
   "cell_type": "markdown",
   "metadata": {},
   "source": [
    "### Notes:"
   ]
  },
  {
   "cell_type": "markdown",
   "metadata": {},
   "source": [
    "* This snippet shows the use of the tabulated property container ``Property.Table``.\n",
    "* Property values can be given in tabulated fashion with up to two dependencies.\n",
    "* The ``Property.evaluate(dependecys)`` method can be used to evaluate the method\n",
    "for different dependency values."
   ]
  },
  {
   "cell_type": "code",
   "execution_count": 1,
   "metadata": {},
   "outputs": [],
   "source": [
    "import numpy as np\n",
    "import sympy as sp\n",
    "from snapReactors.containers.property import Property, Constant, Table, Correlation"
   ]
  },
  {
   "cell_type": "markdown",
   "metadata": {},
   "source": [
    "#### Defining a constant property\n",
    "1. Give name of property, must be in ``ALLOWED_PROPERTIES``\n",
    "2. Give type of property, must be in ``Enum.PTYPE``\n",
    "3. Give value of property\n",
    "4. Give units of property\n",
    "5. value uncertainty, ref, and description are left as optional parameters"
   ]
  },
  {
   "cell_type": "code",
   "execution_count": 2,
   "metadata": {},
   "outputs": [
    {
     "name": "stdout",
     "output_type": "stream",
     "text": [
      "{'id': 'cv', 'ptype': <PTYPE.THPHYS: 1>, 'dtype': <DTYPE.NUMBER: 1>, 'vtype': <VTYPE.CONSTANT: 1>, 'value': array([1]), 'valueUnit': 'kg', 'unc': None, 'dependents': None, 'dependentsUnit': None, 'description': None, 'ref': None}\n"
     ]
    }
   ],
   "source": [
    "p1 = Constant(id='cv', ptype='THPHYS', value=1, unit='kg', unc=None, ref=None, description=None)\n",
    "print(p1)"
   ]
  },
  {
   "cell_type": "markdown",
   "metadata": {},
   "source": [
    "#### Defining a tabulated property\n",
    "1. Give name of property, must be in ``ALLOWED_PROPERTIES``\n",
    "2. Give type of property, must be in ``Enum.PTYPES``\n",
    "3. Give values of property\n",
    "4. Give units of property\n",
    "5. Give values of 1st dependency \n",
    "6. Give units of 1st dependency \n",
    "7. 2nd dependency values, 2nd dependency units, value uncertainty, reference, and description are left as optional parameters"
   ]
  },
  {
   "cell_type": "code",
   "execution_count": 3,
   "metadata": {},
   "outputs": [
    {
     "name": "stdout",
     "output_type": "stream",
     "text": [
      "{'id': 'h', 'ptype': <PTYPE.THPHYS: 1>, 'dtype': <DTYPE.NDARRAY: 2>, 'vtype': <VTYPE.TABLE: 2>, 'value': array([1, 2, 3, 4]), 'valueUnit': 'W/K*m^2', 'unc': array([0.01, 0.01, 0.01, 0.01]), 'dependents': array([100, 200, 300, 400]), 'dependentsUnit': 'K', 'description': None, 'ref': None, 'dependency1': array([100, 200, 300, 400]), 'dependency2': None, 'dependencyUnit1': 'K', 'dependencyUnit2': None}\n"
     ]
    }
   ],
   "source": [
    "p2 = Table('h', 'THPHYS', np.array([1, 2, 3, 4]), 'W/K*m^2', np.array([100, 200, 300, 400]), 'K',  unc = np.array([.01, .01, .01, .01]), dependency2=None, dependencyUnit2=None, ref=None, description=None)\n",
    "print(p2)"
   ]
  },
  {
   "cell_type": "markdown",
   "metadata": {},
   "source": [
    "#### Defining a correlation based property\n",
    "1. Give name of property, must be in ``ALLOWED_PROPERTIES``\n",
    "2. Give type of property, must be in ``Enum.PTYPES``\n",
    "3. Give sympy expression for correlation\n",
    "4. Give sympy symbols for expression\n",
    "4. Give units of property\n",
    "5. Give dependency range, bounds for the correlation\n",
    "6. Give units of dependency \n",
    "7. value uncertainty, reference, and description are left as optional parameters"
   ]
  },
  {
   "cell_type": "code",
   "execution_count": 4,
   "metadata": {},
   "outputs": [
    {
     "name": "stdout",
     "output_type": "stream",
     "text": [
      "{'id': 'h', 'ptype': <PTYPE.THPHYS: 1>, 'dtype': <DTYPE.NDARRAY: 2>, 'vtype': <VTYPE.CORRELATION: 3>, 'value': array([ 90000.5       ,  93711.45376926,  97497.37630154, 101358.26759683,\n",
      "       105294.12765514, 109304.95647647, 113390.75406081, 117551.52040816,\n",
      "       121787.25551853, 126097.95939192, 130483.63202832, 134944.27342774,\n",
      "       139479.88359017, 144090.46251562, 148776.01020408, 153536.52665556,\n",
      "       158372.01187005, 163282.46584756, 168267.88858809, 173328.28009163,\n",
      "       178463.64035818, 183673.96938776, 188959.26718034, 194319.53373594,\n",
      "       199754.76905456, 205264.97313619, 210850.14598084, 216510.2875885 ,\n",
      "       222245.39795918, 228055.47709288, 233940.52498959, 239900.54164931,\n",
      "       245935.52707205, 252045.48125781, 258230.40420658, 264490.29591837,\n",
      "       270825.15639317, 277234.98563099, 283719.78363182, 290279.55039567,\n",
      "       296914.28592253, 303623.99021241, 310408.66326531, 317268.30508122,\n",
      "       324202.91566014, 331212.49500208, 338297.04310704, 345456.55997501,\n",
      "       352691.045606  , 360000.5       ]), 'valueUnit': 'W/K*m^2', 'unc': None, 'dependents': array([300.        , 306.12244898, 312.24489796, 318.36734694,\n",
      "       324.48979592, 330.6122449 , 336.73469388, 342.85714286,\n",
      "       348.97959184, 355.10204082, 361.2244898 , 367.34693878,\n",
      "       373.46938776, 379.59183673, 385.71428571, 391.83673469,\n",
      "       397.95918367, 404.08163265, 410.20408163, 416.32653061,\n",
      "       422.44897959, 428.57142857, 434.69387755, 440.81632653,\n",
      "       446.93877551, 453.06122449, 459.18367347, 465.30612245,\n",
      "       471.42857143, 477.55102041, 483.67346939, 489.79591837,\n",
      "       495.91836735, 502.04081633, 508.16326531, 514.28571429,\n",
      "       520.40816327, 526.53061224, 532.65306122, 538.7755102 ,\n",
      "       544.89795918, 551.02040816, 557.14285714, 563.26530612,\n",
      "       569.3877551 , 575.51020408, 581.63265306, 587.75510204,\n",
      "       593.87755102, 600.        ]), 'dependentsUnit': 'K', 'description': None, 'ref': None, 'expr': T**2 + 0.5, 'syms': T, 'dependencyRange': array([300, 600])}\n"
     ]
    }
   ],
   "source": [
    "T = sp.symbols('T')\n",
    "corr1 = T**2 + 1/2\n",
    "\n",
    "p3 = Correlation('h', 'THPHYS', corr1, T, 'W/K*m^2', np.array([300, 600]), 'K', unc=None, ref=None, description=None)\n",
    "print(p3)"
   ]
  },
  {
   "cell_type": "markdown",
   "metadata": {},
   "source": [
    "### Evaluating Propertys at specified dependencys\n",
    "1. The ``Property.evaluate(dependencys)`` method is used to evaluate propertys at specfied dependencys\n",
    "2. The evaluate method distinguish between propertys based on their type\n",
    "3. The value returned by the method will be different evaluated differently for each type."
   ]
  },
  {
   "cell_type": "markdown",
   "metadata": {},
   "source": [
    "#### Evaluating Constants at specified dependencys\n",
    "1. Constant will remain constant regardless of dependencies"
   ]
  },
  {
   "cell_type": "code",
   "execution_count": 5,
   "metadata": {},
   "outputs": [
    {
     "name": "stdout",
     "output_type": "stream",
     "text": [
      "1.0 1.0\n"
     ]
    }
   ],
   "source": [
    "v1p1 = p1.evaluate(300, 1500)\n",
    "v2p1 = p1.evaluate(400, 1500)\n",
    "\n",
    "print(v1p1, v2p1)\n",
    "\n",
    "\n"
   ]
  },
  {
   "cell_type": "markdown",
   "metadata": {},
   "source": [
    "#### Evaluating Correlation propertys at specified dependencys\n",
    "1. Correlations only support 1 dependency for now and will output the evualted value at the given dependency"
   ]
  },
  {
   "cell_type": "code",
   "execution_count": 6,
   "metadata": {},
   "outputs": [
    {
     "name": "stdout",
     "output_type": "stream",
     "text": [
      "90000.5 160000.5\n"
     ]
    }
   ],
   "source": [
    "v1p3 = p3.evaluate(dependency1=300)\n",
    "v2p3 = p3.evaluate(dependency1=400)\n",
    "\n",
    "print(v1p3, v2p3)"
   ]
  },
  {
   "cell_type": "markdown",
   "metadata": {},
   "source": [
    "#### Evaluating Tabulated propertys at specified dependencys\n",
    "1. Tabulated propertys only support 2 dependencys for now and will output the evualted value at the given dependencys based off a linear interpolation method\n"
   ]
  },
  {
   "cell_type": "code",
   "execution_count": 7,
   "metadata": {},
   "outputs": [
    {
     "name": "stdout",
     "output_type": "stream",
     "text": [
      "None None\n"
     ]
    }
   ],
   "source": [
    "v1p2 = p2.evaluate(dependency1=300, dependency2=800)\n",
    "v2p2 = p2.evaluate(dependency1=400, dependency2=1500)\n",
    "\n",
    "print(v1p2, v2p2)"
   ]
  }
 ],
 "metadata": {
  "interpreter": {
   "hash": "5f292722d6d50c2426abae6fd15a85386b49c5393ec98f1c35f79e4e4dd7448b"
  },
  "kernelspec": {
   "display_name": "Python 3.7.4 64-bit ('base': conda)",
   "name": "python3"
  },
  "language_info": {
   "codemirror_mode": {
    "name": "ipython",
    "version": 3
   },
   "file_extension": ".py",
   "mimetype": "text/x-python",
   "name": "python",
   "nbconvert_exporter": "python",
   "pygments_lexer": "ipython3",
   "version": "3.7.4"
  },
  "orig_nbformat": 4
 },
 "nbformat": 4,
 "nbformat_minor": 2
}
