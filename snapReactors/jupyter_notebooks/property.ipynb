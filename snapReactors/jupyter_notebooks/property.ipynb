{
 "cells": [
  {
   "cell_type": "markdown",
   "metadata": {},
   "source": [
    "# snapReactors"
   ]
  },
  {
   "cell_type": "markdown",
   "metadata": {},
   "source": [
    "Copyright (c) Dan Kotlyar and CoRE group"
   ]
  },
  {
   "cell_type": "markdown",
   "metadata": {},
   "source": [
    "# Property Container"
   ]
  },
  {
   "cell_type": "markdown",
   "metadata": {},
   "source": [
    "* This container stores all relevant info required for a specific \n",
    "property and provides methods to evaluate propertys based on specfic \n",
    "dependencies such as temperature, pressure, etc.\n",
    "* The container also organizes propertys based on their type, providing subclasses such\n",
    "as Constant, Table, and Correlation. "
   ]
  },
  {
   "cell_type": "markdown",
   "metadata": {},
   "source": [
    "### Code: "
   ]
  },
  {
   "cell_type": "markdown",
   "metadata": {},
   "source": [
    "```python\n",
    "    >>> p2 = Table('h', 'THPHYS', np.array([1, 2, 3, 4]), 'W/K*m^2', \n",
    "    >>>     np.array([100, 200, 300, 400]), 'K', \n",
    "    >>>     unc = np.array([.01, .01, .01, .01]))\n",
    "    >>>\n",
    "    >>> p2.evaluate(300) #300K \n",
    "```"
   ]
  },
  {
   "cell_type": "markdown",
   "metadata": {},
   "source": [
    "### Notes:"
   ]
  },
  {
   "cell_type": "markdown",
   "metadata": {},
   "source": [
    "* This snippet shows the use of the tabulated property container ``Property.Table``.\n",
    "* Property values can be given in tabulated fashion with up to two dependencies.\n",
    "* The ``Property.evaluate(dependecys)`` method can be used to evaluate the method\n",
    "for different dependency values."
   ]
  },
  {
   "cell_type": "code",
   "execution_count": 1,
   "metadata": {},
   "outputs": [],
   "source": [
    "import numpy as np\n",
    "import sympy as sp\n",
    "from snapReactors.containers.property import Property, Constant, Table, Correlation"
   ]
  },
  {
   "cell_type": "markdown",
   "metadata": {},
   "source": [
    "#### Defining a constant property\n",
    "1. Give name of property, must be in ``ALLOWED_PROPERTIES``\n",
    "2. Give type of property, must be in ``Enum.PTYPE``\n",
    "3. Give value of property\n",
    "4. Give units of property\n",
    "5. value uncertainty, ref, and description are left as optional parameters"
   ]
  },
  {
   "cell_type": "code",
   "execution_count": 2,
   "metadata": {},
   "outputs": [
    {
     "name": "stdout",
     "output_type": "stream",
     "text": [
      "{'id': 'cv', 'ptype': <PTYPE.THPHYS: 1>, 'dtype': <DTYPE.NUMBER: 1>, 'vtype': <VTYPE.CONSTANT: 1>, 'value': array([1]), 'valueUnit': 'kg', 'unc': None, 'dependents': None, 'dependentsUnit': None, 'description': None, 'ref': None}\n"
     ]
    }
   ],
   "source": [
    "p1 = Constant(id='cv', ptype='THPHYS', value=1, unit='kg', unc=None, ref=None, description=None)\n",
    "print(p1)"
   ]
  },
  {
   "cell_type": "markdown",
   "metadata": {},
   "source": [
    "#### Defining a tabulated property\n",
    "1. Give name of property, must be in ``ALLOWED_PROPERTIES``\n",
    "2. Give type of property, must be in ``Enum.PTYPES``\n",
    "3. Give values of property\n",
    "4. Give units of property\n",
    "5. Give values of 1st dependency \n",
    "6. Give units of 1st dependency \n",
    "7. 2nd dependency values, 2nd dependency units, value uncertainty, reference, and description are left as optional parameters"
   ]
  },
  {
   "cell_type": "code",
   "execution_count": 3,
   "metadata": {},
   "outputs": [
    {
     "name": "stdout",
     "output_type": "stream",
     "text": [
      "{'id': 'h', 'ptype': <PTYPE.THPHYS: 1>, 'dtype': <DTYPE.NDARRAY: 2>, 'vtype': <VTYPE.TABLE: 2>, 'value': array([1, 2, 3, 4]), 'valueUnit': 'W/K*m^2', 'unc': array([0.01, 0.01, 0.01, 0.01]), 'dependents': array([100, 200, 300, 400]), 'dependentsUnit': 'K', 'description': None, 'ref': None, 'dependency1': array([100, 200, 300, 400]), 'dependency2': None, 'dependencyUnit1': 'K', 'dependencyUnit2': None}\n"
     ]
    }
   ],
   "source": [
    "p2 = Table('h', 'THPHYS', np.array([1, 2, 3, 4]), 'W/K*m^2', np.array([100, 200, 300, 400]), 'K',  unc = np.array([.01, .01, .01, .01]), dependency2=None, dependencyUnit2=None, ref=None, description=None)\n",
    "print(p2)"
   ]
  },
  {
   "cell_type": "markdown",
   "metadata": {},
   "source": [
    "#### Defining a correlation based property\n",
    "1. Give name of property, must be in ``ALLOWED_PROPERTIES``\n",
    "2. Give type of property, must be in ``Enum.PTYPES``\n",
    "3. Give string expression for correlation, follows python syntax\n",
    "4. Give string of symbols for expression, symbols delineated by commas\n",
    "4. Give units of property\n",
    "5. Give dependency range, bounds for the correlation\n",
    "6. Give units of dependency \n",
    "7. value uncertainty, reference, and description are left as optional parameters"
   ]
  },
  {
   "cell_type": "code",
   "execution_count": 4,
   "metadata": {},
   "outputs": [
    {
     "name": "stdout",
     "output_type": "stream",
     "text": [
      "{'id': 'h', 'ptype': <PTYPE.THPHYS: 1>, 'dtype': <DTYPE.NDARRAY: 2>, 'vtype': <VTYPE.CORRELATION: 3>, 'value': array([ 90010.5       ,  93721.6578509 ,  97507.78446481, 101368.87984173,\n",
      "       105304.94398167, 109315.97688463, 113401.9785506 , 117562.94897959,\n",
      "       121798.8881716 , 126109.79612661, 130495.67284465, 134956.5183257 ,\n",
      "       139492.33256976, 144103.11557684, 148788.86734694, 153549.58788005,\n",
      "       158385.27717618, 163295.93523532, 168281.56205748, 173342.15764265,\n",
      "       178477.72199084, 183688.25510204, 188973.75697626, 194334.22761349,\n",
      "       199769.66701374, 205280.07517701, 210865.45210329, 216525.79779259,\n",
      "       222261.1122449 , 228071.39546022, 233956.64743857, 239916.86817993,\n",
      "       245952.0576843 , 252062.21595169, 258247.34298209, 264507.43877551,\n",
      "       270842.50333195, 277252.5366514 , 283737.53873386, 290297.50957934,\n",
      "       296932.44918784, 303642.35755935, 310427.23469388, 317287.08059142,\n",
      "       324221.89525198, 331231.67867555, 338316.43086214, 345476.15181175,\n",
      "       352710.84152436, 360020.5       ]), 'valueUnit': 'W/K*m^2', 'unc': None, 'dependents': array([[300.        , 306.12244898, 312.24489796, 318.36734694,\n",
      "        324.48979592, 330.6122449 , 336.73469388, 342.85714286,\n",
      "        348.97959184, 355.10204082, 361.2244898 , 367.34693878,\n",
      "        373.46938776, 379.59183673, 385.71428571, 391.83673469,\n",
      "        397.95918367, 404.08163265, 410.20408163, 416.32653061,\n",
      "        422.44897959, 428.57142857, 434.69387755, 440.81632653,\n",
      "        446.93877551, 453.06122449, 459.18367347, 465.30612245,\n",
      "        471.42857143, 477.55102041, 483.67346939, 489.79591837,\n",
      "        495.91836735, 502.04081633, 508.16326531, 514.28571429,\n",
      "        520.40816327, 526.53061224, 532.65306122, 538.7755102 ,\n",
      "        544.89795918, 551.02040816, 557.14285714, 563.26530612,\n",
      "        569.3877551 , 575.51020408, 581.63265306, 587.75510204,\n",
      "        593.87755102, 600.        ],\n",
      "       [ 10.        ,  10.20408163,  10.40816327,  10.6122449 ,\n",
      "         10.81632653,  11.02040816,  11.2244898 ,  11.42857143,\n",
      "         11.63265306,  11.83673469,  12.04081633,  12.24489796,\n",
      "         12.44897959,  12.65306122,  12.85714286,  13.06122449,\n",
      "         13.26530612,  13.46938776,  13.67346939,  13.87755102,\n",
      "         14.08163265,  14.28571429,  14.48979592,  14.69387755,\n",
      "         14.89795918,  15.10204082,  15.30612245,  15.51020408,\n",
      "         15.71428571,  15.91836735,  16.12244898,  16.32653061,\n",
      "         16.53061224,  16.73469388,  16.93877551,  17.14285714,\n",
      "         17.34693878,  17.55102041,  17.75510204,  17.95918367,\n",
      "         18.16326531,  18.36734694,  18.57142857,  18.7755102 ,\n",
      "         18.97959184,  19.18367347,  19.3877551 ,  19.59183673,\n",
      "         19.79591837,  20.        ]]), 'dependentsUnit': 'K, Pa', 'description': None, 'ref': None, 'expr': 'T**2 + P + 1/2', 'syms': 'T, P', 'dependencyRange1': array([300, 600]), 'dependencyUnit1': 'K', 'dependencyRange2': array([10, 20]), 'dependencyUnit2': 'Pa'}\n"
     ]
    }
   ],
   "source": [
    "corr1 = \"T**2 + P + 1/2\"\n",
    "syms1 = \"T, P\"\n",
    "\n",
    "p3 = Correlation('h', 'THPHYS', corr1, syms1, 'W/K*m^2', np.array([300, 600]), 'K', np.array([10, 20]), 'Pa', unc=None, ref=None, description=None)\n",
    "print(p3)"
   ]
  },
  {
   "cell_type": "markdown",
   "metadata": {},
   "source": [
    "### Evaluating Propertys at specified dependencys\n",
    "1. The ``Property.evaluate(dependencys)`` method is used to evaluate propertys at specfied dependencys\n",
    "2. The evaluate method distinguish between propertys based on their type\n",
    "3. The value returned by the method will be different evaluated differently for each type."
   ]
  },
  {
   "cell_type": "markdown",
   "metadata": {},
   "source": [
    "#### Evaluating Constants at specified dependencys\n",
    "1. Constant will remain constant regardless of dependencies"
   ]
  },
  {
   "cell_type": "code",
   "execution_count": 5,
   "metadata": {},
   "outputs": [
    {
     "name": "stdout",
     "output_type": "stream",
     "text": [
      "[1] [1]\n"
     ]
    }
   ],
   "source": [
    "v1p1 = p1.evaluate(300, 1500)\n",
    "v2p1 = p1.evaluate(400, 1500)\n",
    "\n",
    "print(v1p1, v2p1)\n"
   ]
  },
  {
   "cell_type": "markdown",
   "metadata": {},
   "source": [
    "#### Evaluating Correlation propertys at specified dependencys\n",
    "1. Correlations only support 2 dependency and will output the evualted value at the given dependency/s"
   ]
  },
  {
   "cell_type": "code",
   "execution_count": 6,
   "metadata": {},
   "outputs": [
    {
     "name": "stdout",
     "output_type": "stream",
     "text": [
      "90015.5000000000 160015.500000000\n"
     ]
    }
   ],
   "source": [
    "v1p3 = p3.evaluate(dependency1=300, dependency2=15)\n",
    "v2p3 = p3.evaluate(dependency1=400, dependency2=15)\n",
    "\n",
    "print(v1p3, v2p3)"
   ]
  },
  {
   "cell_type": "markdown",
   "metadata": {},
   "source": [
    "#### Evaluating Tabulated propertys at specified dependencys\n",
    "1. Tabulated propertys only support 2 dependencys for now and will output the evaluated value at the given dependencys based off a linear interpolation method\n"
   ]
  },
  {
   "cell_type": "code",
   "execution_count": 13,
   "metadata": {},
   "outputs": [
    {
     "name": "stdout",
     "output_type": "stream",
     "text": [
      "2.57 1.43\n"
     ]
    }
   ],
   "source": [
    "v1p2 = p2.evaluate(dependency1=257)\n",
    "v2p2 = p2.evaluate(dependency1=143)\n",
    "\n",
    "print(v1p2, v2p2)"
   ]
  }
 ],
 "metadata": {
  "interpreter": {
   "hash": "5f292722d6d50c2426abae6fd15a85386b49c5393ec98f1c35f79e4e4dd7448b"
  },
  "kernelspec": {
   "display_name": "Python 3.7.4 64-bit ('base': conda)",
   "name": "python3"
  },
  "language_info": {
   "codemirror_mode": {
    "name": "ipython",
    "version": 3
   },
   "file_extension": ".py",
   "mimetype": "text/x-python",
   "name": "python",
   "nbconvert_exporter": "python",
   "pygments_lexer": "ipython3",
   "version": "3.7.4"
  },
  "orig_nbformat": 4
 },
 "nbformat": 4,
 "nbformat_minor": 2
}
