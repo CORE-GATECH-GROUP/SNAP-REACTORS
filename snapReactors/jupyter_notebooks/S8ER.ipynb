{
 "cells": [
  {
   "cell_type": "markdown",
   "metadata": {},
   "source": [
    "# snapReactors"
   ]
  },
  {
   "cell_type": "markdown",
   "metadata": {},
   "source": [
    "Copyright (c) Dan Kotlyar and CoRE group"
   ]
  },
  {
   "cell_type": "markdown",
   "metadata": {},
   "source": [
    "### Feeding in material Components for SNAP 8 Experimental Reactor"
   ]
  },
  {
   "cell_type": "markdown",
   "metadata": {},
   "source": [
    "* The material compositions for the SNAP 8 Experimental Reactor will be fed in through the input file workflow"
   ]
  },
  {
   "cell_type": "markdown",
   "metadata": {},
   "source": [
    "## Code "
   ]
  },
  {
   "cell_type": "code",
   "execution_count": 1,
   "metadata": {},
   "outputs": [],
   "source": [
    "from snapReactors.library.database import Database\n",
    "from snapReactors.containers.component import Component\n",
    "from snapReactors.containers.materials import Material\n",
    "from IPython.display import Image\n",
    "from snapReactors.containers.reactorstate import ReactorState\n",
    "from snapReactors.containers.reactor import Reactor"
   ]
  },
  {
   "cell_type": "markdown",
   "metadata": {},
   "source": [
    "## Defining a the database"
   ]
  },
  {
   "cell_type": "code",
   "execution_count": 2,
   "metadata": {},
   "outputs": [],
   "source": [
    "filePath = 'SNAP_Database.hdf5'\n",
    "version = 'v0.1.0'\n",
    "date = '2022-02-21 13:10:05'\n",
    "db = Database(filePath=filePath, version=version, date=date)"
   ]
  },
  {
   "cell_type": "markdown",
   "metadata": {},
   "source": [
    "### Reading in materials "
   ]
  },
  {
   "cell_type": "code",
   "execution_count": 3,
   "metadata": {},
   "outputs": [
    {
     "name": "stdout",
     "output_type": "stream",
     "text": [
      "{'316SS': <snapReactors.containers.materials.Material object at 0x0000020FB76747C8>, 'hasteC': <snapReactors.containers.materials.Material object at 0x0000020FB7674BC8>, 'hasteN': <snapReactors.containers.materials.Material object at 0x0000020FB767E3C8>, 'AI8763D': <snapReactors.containers.materials.Material object at 0x0000020FB767E248>, 'BeO': <snapReactors.containers.materials.Material object at 0x0000020FB767E308>, 'Be': <snapReactors.containers.materials.Material object at 0x0000020FB767E508>, 'NaK': <snapReactors.containers.materials.Material object at 0x0000020FB767E708>, 'Sm2O3': <snapReactors.containers.materials.Material object at 0x0000020FB767ED88>, 'UZrH': <snapReactors.containers.materials.Material object at 0x0000020FB767ECC8>}\n"
     ]
    },
    {
     "name": "stderr",
     "output_type": "stream",
     "text": [
      "C:\\Users\\user\\Anaconda3\\lib\\site-packages\\snapreactors-0.0.1-py3.7.egg\\snapReactors\\containers\\property.py:781: InputFileSyntaxWarning: uncertainty not given for sigma table property @ line: 9\n",
      "  InputFileSyntaxWarning)\n",
      "C:\\Users\\user\\Anaconda3\\lib\\site-packages\\snapreactors-0.0.1-py3.7.egg\\snapReactors\\containers\\property.py:781: InputFileSyntaxWarning: uncertainty not given for alpha table property @ line: 1\n",
      "  InputFileSyntaxWarning)\n",
      "C:\\Users\\user\\Anaconda3\\lib\\site-packages\\snapreactors-0.0.1-py3.7.egg\\snapReactors\\containers\\property.py:677: InputFileSyntaxWarning: uncertainty not given for E const property @ line: 10\n",
      "  InputFileSyntaxWarning)\n",
      "C:\\Users\\user\\Anaconda3\\lib\\site-packages\\snapreactors-0.0.1-py3.7.egg\\snapReactors\\containers\\property.py:677: InputFileSyntaxWarning: uncertainty not given for sigma const property @ line: 1\n",
      "  InputFileSyntaxWarning)\n",
      "C:\\Users\\user\\Anaconda3\\lib\\site-packages\\snapreactors-0.0.1-py3.7.egg\\snapReactors\\containers\\property.py:677: InputFileSyntaxWarning: uncertainty not given for r const property @ line: 8\n",
      "  InputFileSyntaxWarning)\n",
      "C:\\Users\\user\\Anaconda3\\lib\\site-packages\\snapreactors-0.0.1-py3.7.egg\\snapReactors\\containers\\property.py:677: InputFileSyntaxWarning: uncertainty not given for r const property @ line: 10\n",
      "  InputFileSyntaxWarning)\n",
      "C:\\Users\\user\\Anaconda3\\lib\\site-packages\\snapreactors-0.0.1-py3.7.egg\\snapReactors\\containers\\property.py:677: InputFileSyntaxWarning: uncertainty not given for r const property @ line: 9\n",
      "  InputFileSyntaxWarning)\n",
      "C:\\Users\\user\\Anaconda3\\lib\\site-packages\\snapreactors-0.0.1-py3.7.egg\\snapReactors\\containers\\property.py:781: InputFileSyntaxWarning: uncertainty not given for r table property @ line: 1\n",
      "  InputFileSyntaxWarning)\n",
      "C:\\Users\\user\\Anaconda3\\lib\\site-packages\\snapreactors-0.0.1-py3.7.egg\\snapReactors\\containers\\property.py:781: InputFileSyntaxWarning: uncertainty not given for my table property @ line: 10\n",
      "  InputFileSyntaxWarning)\n",
      "C:\\Users\\user\\Anaconda3\\lib\\site-packages\\snapreactors-0.0.1-py3.7.egg\\snapReactors\\containers\\property.py:677: InputFileSyntaxWarning: uncertainty not given for r const property @ line: 1\n",
      "  InputFileSyntaxWarning)\n",
      "C:\\Users\\user\\Anaconda3\\lib\\site-packages\\snapreactors-0.0.1-py3.7.egg\\snapReactors\\containers\\property.py:677: InputFileSyntaxWarning: uncertainty not given for nu const property @ line: 8\n",
      "  InputFileSyntaxWarning)\n"
     ]
    }
   ],
   "source": [
    "mats = Material.readData(\"SNAP8_data.txt\")"
   ]
  },
  {
   "cell_type": "markdown",
   "metadata": {},
   "source": [
    "### Creating the components"
   ]
  },
  {
   "cell_type": "code",
   "execution_count": 4,
   "metadata": {},
   "outputs": [],
   "source": [
    "vessel = Component('Reactor Vessel', _materials = [mats[0]])\n",
    "upperPlate = Component('Upper Grid Plate', _materials = [mats[0]])\n",
    "lowerPlate = Component('Lower Grid Plate', _materials = [mats[1]])\n",
    "fuelRod = Component('Fuel Rod', _materials = [mats[1], mats[2], mats[3],mats[8]])\n",
    "poisonRod = Component('Burnable Poison Fuel Rod', _materials = [mats[1], mats[2], mats[3], mats[7], mats[8]])\n",
    "internalReflect = Component('Internal Reflector', _materials = [mats[2], mats[4]])\n",
    "controlDrum = Component('Reflector Control Drum', _materials = [mats[2], mats[5]])\n",
    "coolant = Component('Molten Salt Coolant', _materials = [mats[6]])"
   ]
  },
  {
   "cell_type": "markdown",
   "metadata": {},
   "source": [
    "### Initializing Reactor States and Reactor Containers"
   ]
  },
  {
   "cell_type": "code",
   "execution_count": 5,
   "metadata": {},
   "outputs": [],
   "source": [
    "coldCore = ReactorState('Cold Power', reference='AI-AEC-13070', description = 'Cold Power startup conditions',\n",
    "_components=[vessel, upperPlate, lowerPlate, fuelRod, poisonRod, internalReflect, controlDrum, coolant])\n",
    "SNAP8 = Reactor(id='SNAP8ER', ltype = 'HEX', rodNum = 211, guideNum=0, instrumNum=0, thermalPower=0.6,\n",
    "electricPower=0, coolant='NaK 78 Eutectic', moderator = 'Self-Moderated Fuel',\n",
    "description = '600 kWt SNAP8 Experimental Reactor, note that no electric output is listed for this reactor',\n",
    "_reactorstates=coldCore)"
   ]
  },
  {
   "cell_type": "code",
   "execution_count": 6,
   "metadata": {},
   "outputs": [
    {
     "name": "stdout",
     "output_type": "stream",
     "text": [
      "***----------------------------------------------------------***\n",
      "\t\t\t\t\t\tDatabase Map\n",
      "***----------------------------------------------------------***\n",
      "Reactors:\n",
      "SNAP8ER\n",
      "\tStates:\n",
      "\tCold Power\n",
      "\t\tComponents:\n",
      "\t\tReactor Vessel\n",
      "\t\t\tMaterials:\n",
      "\t\t\t316SS\n",
      "\t\t\t\tProperties:\n",
      "\t\t\t\tr\n",
      "\t\t\t\tsigma\n",
      "\t\tUpper Grid Plate\n",
      "\t\t\tMaterials:\n",
      "\t\t\t316SS\n",
      "\t\t\t\tProperties:\n",
      "\t\t\t\tr\n",
      "\t\t\t\tsigma\n",
      "\t\tLower Grid Plate\n",
      "\t\t\tMaterials:\n",
      "\t\t\thasteC\n",
      "\t\t\t\tProperties:\n",
      "\t\t\t\talpha\n",
      "\t\t\t\tE\n",
      "\t\tFuel Rod\n",
      "\t\t\tMaterials:\n",
      "\t\t\thasteC\n",
      "\t\t\t\tProperties:\n",
      "\t\t\t\talpha\n",
      "\t\t\t\tE\n",
      "\t\t\thasteN\n",
      "\t\t\t\tProperties:\n",
      "\t\t\t\tsigma\n",
      "\t\t\t\tr\n",
      "\t\t\tAI8763D\n",
      "\t\t\t\tProperties:\n",
      "\t\t\t\talpha\n",
      "\t\t\t\tr\n",
      "\t\t\tUZrH\n",
      "\t\t\t\tProperties:\n",
      "\t\t\t\tr\n",
      "\t\tBurnable Poison Fuel Rod\n",
      "\t\t\tMaterials:\n",
      "\t\t\thasteC\n",
      "\t\t\t\tProperties:\n",
      "\t\t\t\talpha\n",
      "\t\t\t\tE\n",
      "\t\t\thasteN\n",
      "\t\t\t\tProperties:\n",
      "\t\t\t\tsigma\n",
      "\t\t\t\tr\n",
      "\t\t\tAI8763D\n",
      "\t\t\t\tProperties:\n",
      "\t\t\t\talpha\n",
      "\t\t\t\tr\n",
      "\t\t\tSm2O3\n",
      "\t\t\t\tProperties:\n",
      "\t\t\t\tr\n",
      "\t\t\t\tnu\n",
      "\t\t\tUZrH\n",
      "\t\t\t\tProperties:\n",
      "\t\t\t\tr\n",
      "\t\tInternal Reflector\n",
      "\t\t\tMaterials:\n",
      "\t\t\thasteN\n",
      "\t\t\t\tProperties:\n",
      "\t\t\t\tsigma\n",
      "\t\t\t\tr\n",
      "\t\t\tBeO\n",
      "\t\t\t\tProperties:\n",
      "\t\t\t\tr\n",
      "\t\tReflector Control Drum\n",
      "\t\t\tMaterials:\n",
      "\t\t\thasteN\n",
      "\t\t\t\tProperties:\n",
      "\t\t\t\tsigma\n",
      "\t\t\t\tr\n",
      "\t\t\tBe\n",
      "\t\t\t\tProperties:\n",
      "\t\t\t\tnu\n",
      "\t\t\t\tr\n",
      "\t\tMolten Salt Coolant\n",
      "\t\t\tMaterials:\n",
      "\t\t\tNaK\n",
      "\t\t\t\tProperties:\n",
      "\t\t\t\tr\n",
      "\t\t\t\tmy\n",
      "\n"
     ]
    }
   ],
   "source": [
    "db.addReactors([SNAP8])\n",
    "print(db.map())"
   ]
  },
  {
   "cell_type": "code",
   "execution_count": 8,
   "metadata": {},
   "outputs": [
    {
     "name": "stdout",
     "output_type": "stream",
     "text": [
      "***----------------------------------------------------------***\n",
      "\t\t\t\t\t\tDatabase Info\n",
      "***----------------------------------------------------------***\n",
      "Database Filepath: SNAP_Database.hdf5\n",
      "Database Version: v0.1.0\n",
      "Database Most Recent Modification Date/Time: 2022-02-21 13:10:05\n",
      "\n",
      "***----------------------------------------------------------***\n",
      "\t\t\t\t\t\tDatabase Map\n",
      "***----------------------------------------------------------***\n",
      "Reactors:\n",
      "SNAP8ER\n",
      "\tStates:\n",
      "\tCold Power\n",
      "\t\tComponents:\n",
      "\t\tReactor Vessel\n",
      "\t\t\tMaterials:\n",
      "\t\t\t316SS\n",
      "\t\t\t\tProperties:\n",
      "\t\t\t\tr\n",
      "\t\t\t\tsigma\n",
      "\t\tUpper Grid Plate\n",
      "\t\t\tMaterials:\n",
      "\t\t\t316SS\n",
      "\t\t\t\tProperties:\n",
      "\t\t\t\tr\n",
      "\t\t\t\tsigma\n",
      "\t\tLower Grid Plate\n",
      "\t\t\tMaterials:\n",
      "\t\t\thasteC\n",
      "\t\t\t\tProperties:\n",
      "\t\t\t\talpha\n",
      "\t\t\t\tE\n",
      "\t\tFuel Rod\n",
      "\t\t\tMaterials:\n",
      "\t\t\thasteC\n",
      "\t\t\t\tProperties:\n",
      "\t\t\t\talpha\n",
      "\t\t\t\tE\n",
      "\t\t\thasteN\n",
      "\t\t\t\tProperties:\n",
      "\t\t\t\tsigma\n",
      "\t\t\t\tr\n",
      "\t\t\tAI8763D\n",
      "\t\t\t\tProperties:\n",
      "\t\t\t\talpha\n",
      "\t\t\t\tr\n",
      "\t\t\tUZrH\n",
      "\t\t\t\tProperties:\n",
      "\t\t\t\tr\n",
      "\t\tBurnable Poison Fuel Rod\n",
      "\t\t\tMaterials:\n",
      "\t\t\thasteC\n",
      "\t\t\t\tProperties:\n",
      "\t\t\t\talpha\n",
      "\t\t\t\tE\n",
      "\t\t\thasteN\n",
      "\t\t\t\tProperties:\n",
      "\t\t\t\tsigma\n",
      "\t\t\t\tr\n",
      "\t\t\tAI8763D\n",
      "\t\t\t\tProperties:\n",
      "\t\t\t\talpha\n",
      "\t\t\t\tr\n",
      "\t\t\tSm2O3\n",
      "\t\t\t\tProperties:\n",
      "\t\t\t\tr\n",
      "\t\t\t\tnu\n",
      "\t\t\tUZrH\n",
      "\t\t\t\tProperties:\n",
      "\t\t\t\tr\n",
      "\t\tInternal Reflector\n",
      "\t\t\tMaterials:\n",
      "\t\t\thasteN\n",
      "\t\t\t\tProperties:\n",
      "\t\t\t\tsigma\n",
      "\t\t\t\tr\n",
      "\t\t\tBeO\n",
      "\t\t\t\tProperties:\n",
      "\t\t\t\tr\n",
      "\t\tReflector Control Drum\n",
      "\t\t\tMaterials:\n",
      "\t\t\thasteN\n",
      "\t\t\t\tProperties:\n",
      "\t\t\t\tsigma\n",
      "\t\t\t\tr\n",
      "\t\t\tBe\n",
      "\t\t\t\tProperties:\n",
      "\t\t\t\tnu\n",
      "\t\t\t\tr\n",
      "\t\tMolten Salt Coolant\n",
      "\t\t\tMaterials:\n",
      "\t\t\tNaK\n",
      "\t\t\t\tProperties:\n",
      "\t\t\t\tr\n",
      "\t\t\t\tmy\n",
      "\n"
     ]
    }
   ],
   "source": [
    "print(db._databaseStatus())"
   ]
  }
 ],
 "metadata": {
  "kernelspec": {
   "display_name": "Python 3 (ipykernel)",
   "language": "python",
   "name": "python3"
  },
  "language_info": {
   "codemirror_mode": {
    "name": "ipython",
    "version": 3
   },
   "file_extension": ".py",
   "mimetype": "text/x-python",
   "name": "python",
   "nbconvert_exporter": "python",
   "pygments_lexer": "ipython3",
   "version": "3.7.4"
  }
 },
 "nbformat": 4,
 "nbformat_minor": 2
}
