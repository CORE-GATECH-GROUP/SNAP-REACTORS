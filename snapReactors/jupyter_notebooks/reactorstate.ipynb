{
 "cells": [
  {
   "cell_type": "markdown",
   "metadata": {},
   "source": [
    "# snapReactors"
   ]
  },
  {
   "cell_type": "markdown",
   "metadata": {},
   "source": [
    "Copyright (c) Dan Kotlyar and CoRE group"
   ]
  },
  {
   "cell_type": "markdown",
   "metadata": {},
   "source": [
    "# ReactorState Container"
   ]
  },
  {
   "cell_type": "markdown",
   "metadata": {},
   "source": [
    "* This container is made to store component container data to be evaluated at a specific temperature and pressure."
   ]
  },
  {
   "cell_type": "markdown",
   "metadata": {},
   "source": [
    "## Code "
   ]
  },
  {
   "cell_type": "code",
   "execution_count": 5,
   "metadata": {},
   "outputs": [],
   "source": [
    "from snapReactors.containers.reactorstate import ReactorState\n",
    "from snapReactors.containers.component import Component\n",
    "from snapReactors.containers.materials import Material"
   ]
  },
  {
   "cell_type": "markdown",
   "metadata": {},
   "source": [
    "## Defining a new reactor state"
   ]
  },
  {
   "cell_type": "markdown",
   "metadata": {},
   "source": [
    "1. Provide the name of the reactor state \n",
    "3. Reference, description and component inputs are left as optional"
   ]
  },
  {
   "cell_type": "code",
   "execution_count": 6,
   "metadata": {},
   "outputs": [
    {
     "name": "stdout",
     "output_type": "stream",
     "text": [
      "<snapReactors.containers.reactorstate.ReactorState object at 0x000001B9A8061FD0>\n"
     ]
    }
   ],
   "source": [
    "reference = 'NA-SR-XXXX'\n",
    "description = 'Operating temperature and pressure are at cold start conditions'\n",
    "c1 = Component('c1')\n",
    "rs1 = ReactorState('Cold Power', reference=reference, description=description, _components=c1)\n",
    "print(rs1)"
   ]
  },
  {
   "cell_type": "markdown",
   "metadata": {},
   "source": [
    "### Updating components to reactor state"
   ]
  },
  {
   "cell_type": "markdown",
   "metadata": {},
   "source": [
    "1. A list of components or single component may be added with the ``addComponents`` function."
   ]
  },
  {
   "cell_type": "code",
   "execution_count": 7,
   "metadata": {},
   "outputs": [
    {
     "name": "stdout",
     "output_type": "stream",
     "text": [
      "[<snapReactors.containers.component.Component object at 0x000001B9A951EA90>, <snapReactors.containers.component.Component object at 0x000001B9AB620A00>, <snapReactors.containers.component.Component object at 0x000001B9AB620D60>, <snapReactors.containers.component.Component object at 0x000001B9AB620EB0>]\n"
     ]
    }
   ],
   "source": [
    "c2 = Component('c2')\n",
    "rs1.addComponents(c2)\n",
    "\n",
    "c3 = Component('c3')\n",
    "c4 = Component('c4')\n",
    "rs1.addComponents([c3,c4])\n",
    "print(rs1._components)"
   ]
  }
 ],
 "metadata": {
  "kernelspec": {
   "display_name": "Python 3 (ipykernel)",
   "language": "python",
   "name": "python3"
  },
  "language_info": {
   "codemirror_mode": {
    "name": "ipython",
    "version": 3
   },
   "file_extension": ".py",
   "mimetype": "text/x-python",
   "name": "python",
   "nbconvert_exporter": "python",
   "pygments_lexer": "ipython3",
   "version": "3.8.8"
  }
 },
 "nbformat": 4,
 "nbformat_minor": 2
}
