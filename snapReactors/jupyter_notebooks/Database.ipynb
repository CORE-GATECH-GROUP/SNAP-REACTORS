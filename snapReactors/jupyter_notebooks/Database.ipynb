{
 "cells": [
  {
   "cell_type": "markdown",
   "metadata": {},
   "source": [
    "# snapReactors"
   ]
  },
  {
   "cell_type": "markdown",
   "metadata": {},
   "source": [
    "Copyright (c) Dan Kotlyar and CoRE group"
   ]
  },
  {
   "cell_type": "markdown",
   "metadata": {},
   "source": [
    "# Database Container"
   ]
  },
  {
   "cell_type": "markdown",
   "metadata": {},
   "source": [
    "* This container allows for container data to be written to and loaded from an hdf5 database. \n",
    "* Markdown files automatically updated as modifications are made with a description of what modifications were made."
   ]
  },
  {
   "cell_type": "markdown",
   "metadata": {},
   "source": [
    "## Code "
   ]
  },
  {
   "cell_type": "code",
   "execution_count": 1,
   "metadata": {},
   "outputs": [],
   "source": [
    "from snapReactors.functions.database import Database\n",
    "from snapReactors.containers.component import Component\n",
    "from snapReactors.containers.materials import Material\n",
    "from snapReactors.containers.reactor import Reactor\n",
    "from snapReactors.containers.reactorstate import ReactorState\n",
    "from IPython.display import Image"
   ]
  },
  {
   "cell_type": "markdown",
   "metadata": {},
   "source": [
    "## Defining a new database"
   ]
  },
  {
   "cell_type": "markdown",
   "metadata": {},
   "source": [
    "1. Give name of the filepath as a string. Note that the end of the filepath must be the name of the database with the extension .hdf5\\\n",
    "2. Provide the version name of the database that follows the convention __vmajor.minor.fix\n",
    "    * v1.1.0\n",
    "3. Provide the date that the database was created."
   ]
  },
  {
   "cell_type": "code",
   "execution_count": 2,
   "metadata": {},
   "outputs": [],
   "source": [
    "filePath = '/home/garcsamu/Serpent/SNAP-REACTORS/snapReactors/databases/example.hdf5'\n",
    "version = 'v1.1.0'\n",
    "date = '2024-06-06 15:28:13'\n",
    "ex1 = Database(filePath=filePath, version=version, date=date)"
   ]
  },
  {
   "cell_type": "markdown",
   "metadata": {},
   "source": [
    "### Adding data to new database"
   ]
  },
  {
   "cell_type": "markdown",
   "metadata": {},
   "source": [
    "Note that the database above has created the hdf5 file ``example.hdf5`` but is still empty. To fill the database with data the following steps are taken:\n",
    "\n",
    "    1. Add a Component object to the database variable `ex1`\n",
    "    2. Use the `_write()` function to write data in ex1 variable to `example..hdf5` database."
   ]
  },
  {
   "cell_type": "code",
   "execution_count": 5,
   "metadata": {},
   "outputs": [
    {
     "name": "stdout",
     "output_type": "stream",
     "text": [
      "Error creating dataset for attribute 'componentsDict': Object dtype dtype('O') has no native HDF5 equivalent\n",
      "Error creating dataset for attribute 'materialsDict': Object dtype dtype('O') has no native HDF5 equivalent\n",
      "Error creating dataset for attribute 'dimensionsDict': Object dtype dtype('O') has no native HDF5 equivalent\n",
      "Error creating dataset for attribute 'dependencyDict': Object dtype dtype('O') has no native HDF5 equivalent\n",
      "Error creating dataset for attribute 'dependencyDict': Object dtype dtype('O') has no native HDF5 equivalent\n",
      "Error creating dataset for attribute 'dependencyDict': Object dtype dtype('O') has no native HDF5 equivalent\n",
      "Error creating dataset for attribute 'dependencyDict': Object dtype dtype('O') has no native HDF5 equivalent\n",
      "Error creating dataset for attribute 'dependencyDict': Object dtype dtype('O') has no native HDF5 equivalent\n",
      "Error creating dataset for attribute 'materialsDict': Object dtype dtype('O') has no native HDF5 equivalent\n",
      "Error creating dataset for attribute 'dimensionsDict': Object dtype dtype('O') has no native HDF5 equivalent\n",
      "Error creating dataset for attribute 'dependencyDict': Object dtype dtype('O') has no native HDF5 equivalent\n",
      "Error creating dataset for attribute 'materialsDict': Object dtype dtype('O') has no native HDF5 equivalent\n",
      "Error creating dataset for attribute 'dimensionsDict': Object dtype dtype('O') has no native HDF5 equivalent\n",
      "Error creating dataset for attribute 'dependencyDict': Object dtype dtype('O') has no native HDF5 equivalent\n",
      "Error creating dataset for attribute 'materialsDict': Object dtype dtype('O') has no native HDF5 equivalent\n",
      "Error creating dataset for attribute 'dimensionsDict': Object dtype dtype('O') has no native HDF5 equivalent\n",
      "Error creating dataset for attribute 'dependencyDict': Object dtype dtype('O') has no native HDF5 equivalent\n",
      "Error creating dataset for attribute 'materialsDict': Object dtype dtype('O') has no native HDF5 equivalent\n",
      "Error creating dataset for attribute 'dimensionsDict': Object dtype dtype('O') has no native HDF5 equivalent\n",
      "Error creating dataset for attribute 'dependencyDict': Object dtype dtype('O') has no native HDF5 equivalent\n",
      "Error creating dataset for attribute 'materialsDict': Object dtype dtype('O') has no native HDF5 equivalent\n",
      "Error creating dataset for attribute 'dimensionsDict': Object dtype dtype('O') has no native HDF5 equivalent\n",
      "Error creating dataset for attribute 'dependencyDict': Object dtype dtype('O') has no native HDF5 equivalent\n",
      "Error creating dataset for attribute 'materialsDict': Object dtype dtype('O') has no native HDF5 equivalent\n",
      "Error creating dataset for attribute 'dimensionsDict': Object dtype dtype('O') has no native HDF5 equivalent\n",
      "Error creating dataset for attribute 'dependencyDict': Object dtype dtype('O') has no native HDF5 equivalent\n"
     ]
    },
    {
     "ename": "ValueError",
     "evalue": "Unable to synchronously create group (name already exists)",
     "output_type": "error",
     "traceback": [
      "\u001b[0;31m---------------------------------------------------------------------------\u001b[0m",
      "\u001b[0;31mValueError\u001b[0m                                Traceback (most recent call last)",
      "Cell \u001b[0;32mIn[5], line 8\u001b[0m\n\u001b[1;32m      6\u001b[0m c1\u001b[38;5;241m.\u001b[39maddReactorStates(state)\n\u001b[1;32m      7\u001b[0m ex1\u001b[38;5;241m.\u001b[39maddReactors([c1])\n\u001b[0;32m----> 8\u001b[0m \u001b[43mex1\u001b[49m\u001b[38;5;241;43m.\u001b[39;49m\u001b[43m_write\u001b[49m\u001b[43m(\u001b[49m\u001b[43m)\u001b[49m\n",
      "File \u001b[0;32m~/.conda/envs/snap/lib/python3.10/site-packages/snapReactors-0.0.1-py3.10.egg/snapReactors/functions/database.py:179\u001b[0m, in \u001b[0;36m_write\u001b[0;34m(self)\u001b[0m\n\u001b[1;32m    177\u001b[0m \u001b[38;5;28;01mfor\u001b[39;00m ddx, d \u001b[38;5;129;01min\u001b[39;00m \u001b[38;5;28menumerate\u001b[39m(componentDimensions):\n\u001b[1;32m    178\u001b[0m     dimensionGroup \u001b[38;5;241m=\u001b[39m h5file\u001b[38;5;241m.\u001b[39mcreate_group(\u001b[38;5;124mf\u001b[39m\u001b[38;5;124m\"\u001b[39m\u001b[38;5;132;01m{\u001b[39;00mr\u001b[38;5;241m.\u001b[39mid\u001b[38;5;132;01m}\u001b[39;00m\u001b[38;5;124m/\u001b[39m\u001b[38;5;132;01m{\u001b[39;00mrs\u001b[38;5;241m.\u001b[39mid\u001b[38;5;132;01m}\u001b[39;00m\u001b[38;5;124m/\u001b[39m\u001b[38;5;132;01m{\u001b[39;00mk\u001b[38;5;241m.\u001b[39mid\u001b[38;5;132;01m}\u001b[39;00m\u001b[38;5;124m/\u001b[39m\u001b[38;5;132;01m{\u001b[39;00md\u001b[38;5;241m.\u001b[39mid\u001b[38;5;132;01m}\u001b[39;00m\u001b[38;5;124m\"\u001b[39m)\n\u001b[0;32m--> 179\u001b[0m     Database\u001b[38;5;241m.\u001b[39m_createDatasets(dimensionGroup, d)\n\u001b[1;32m    181\u001b[0m componentMaterials \u001b[38;5;241m=\u001b[39m stateComponents[kdx]\u001b[38;5;241m.\u001b[39m_materials\n\u001b[1;32m    182\u001b[0m \u001b[38;5;28;01mfor\u001b[39;00m mdx, m \u001b[38;5;129;01min\u001b[39;00m \u001b[38;5;28menumerate\u001b[39m(componentMaterials):\n",
      "File \u001b[0;32m~/.conda/envs/snap/lib/python3.10/site-packages/h5py/_hl/group.py:64\u001b[0m, in \u001b[0;36mGroup.create_group\u001b[0;34m(self, name, track_order)\u001b[0m\n\u001b[1;32m     62\u001b[0m name, lcpl \u001b[38;5;241m=\u001b[39m \u001b[38;5;28mself\u001b[39m\u001b[38;5;241m.\u001b[39m_e(name, lcpl\u001b[38;5;241m=\u001b[39m\u001b[38;5;28;01mTrue\u001b[39;00m)\n\u001b[1;32m     63\u001b[0m gcpl \u001b[38;5;241m=\u001b[39m Group\u001b[38;5;241m.\u001b[39m_gcpl_crt_order \u001b[38;5;28;01mif\u001b[39;00m track_order \u001b[38;5;28;01melse\u001b[39;00m \u001b[38;5;28;01mNone\u001b[39;00m\n\u001b[0;32m---> 64\u001b[0m gid \u001b[38;5;241m=\u001b[39m \u001b[43mh5g\u001b[49m\u001b[38;5;241;43m.\u001b[39;49m\u001b[43mcreate\u001b[49m\u001b[43m(\u001b[49m\u001b[38;5;28;43mself\u001b[39;49m\u001b[38;5;241;43m.\u001b[39;49m\u001b[43mid\u001b[49m\u001b[43m,\u001b[49m\u001b[43m \u001b[49m\u001b[43mname\u001b[49m\u001b[43m,\u001b[49m\u001b[43m \u001b[49m\u001b[43mlcpl\u001b[49m\u001b[38;5;241;43m=\u001b[39;49m\u001b[43mlcpl\u001b[49m\u001b[43m,\u001b[49m\u001b[43m \u001b[49m\u001b[43mgcpl\u001b[49m\u001b[38;5;241;43m=\u001b[39;49m\u001b[43mgcpl\u001b[49m\u001b[43m)\u001b[49m\n\u001b[1;32m     65\u001b[0m \u001b[38;5;28;01mreturn\u001b[39;00m Group(gid)\n",
      "File \u001b[0;32mh5py/_objects.pyx:54\u001b[0m, in \u001b[0;36mh5py._objects.with_phil.wrapper\u001b[0;34m()\u001b[0m\n",
      "File \u001b[0;32mh5py/_objects.pyx:55\u001b[0m, in \u001b[0;36mh5py._objects.with_phil.wrapper\u001b[0;34m()\u001b[0m\n",
      "File \u001b[0;32mh5py/h5g.pyx:166\u001b[0m, in \u001b[0;36mh5py.h5g.create\u001b[0;34m()\u001b[0m\n",
      "\u001b[0;31mValueError\u001b[0m: Unable to synchronously create group (name already exists)"
     ]
    }
   ],
   "source": [
    "c1 = Reactor(id = 'S8ER', ltype = 'HEX', rodNum=211, guideNum=0,\n",
    "                        instrumNum=0, thermalPower=12, electricPower=2,\n",
    "                        coolant = 'NaK', moderator = 'Metal Hydride')\n",
    "rsFilePath = r'/home/garcsamu/Serpent/SNAP-REACTORS/snapReactors/data_inputfiles/s8er_coldpower.txt'\n",
    "state = ReactorState.rsReader(rsFilePath, outputDict=False)\n",
    "c1.addReactorStates(state)\n",
    "ex1.addReactors([c1])\n",
    "ex1._write()"
   ]
  },
  {
   "cell_type": "markdown",
   "metadata": {},
   "source": [
    "## Visualizing Database Layout\n",
    "\n",
    "The database can be printed out in a structured format for added clarity when navigating using the ``map`` function"
   ]
  },
  {
   "cell_type": "code",
   "execution_count": 4,
   "metadata": {},
   "outputs": [
    {
     "name": "stdout",
     "output_type": "stream",
     "text": [
      "***----------------------------------------------------------***\n",
      "\t\t\t\t\t\tDatabase Map\n",
      "***----------------------------------------------------------***\n",
      "Reactors:\n",
      "S8ER\n",
      "\tStates:\n",
      "\tCold Power\n",
      "\t\tComponents:\n",
      "\t\tfuel element\n",
      "\t\t\tDimensions:\n",
      "\t\t\tfuel_radius\n",
      "\t\t\tgap_radius\n",
      "\t\t\tdiffusion_barrier_radius\n",
      "\t\t\tpoison_coating_radius\n",
      "\t\t\tclad_radius\n",
      "\t\t\tupper_endcap_thickness\n",
      "\t\t\tlower_endcap_thickness\n",
      "\t\t\tfuel_length\n",
      "\t\t\tMaterials:\n",
      "\t\t\tfuel\n",
      "\t\t\t\tProperties:\n",
      "\t\t\t\tr\n",
      "\t\t\t\th\n",
      "\t\t\tclad\n",
      "\t\t\t\tProperties:\n",
      "\t\t\t\tr\n",
      "\t\t\tdiffusion_barrier\n",
      "\t\t\t\tProperties:\n",
      "\t\t\t\tr\n",
      "\t\t\tburnable_poison\n",
      "\t\t\t\tProperties:\n",
      "\t\t\t\tr\n",
      "\t\t\t\th\n",
      "\t\t\tgap\n",
      "\t\t\t\tProperties:\n",
      "\t\t\t\tr\n",
      "\t\t\t\th\n",
      "\t\tcoolant element\n",
      "\t\t\tDimensions:\n",
      "\t\t\tlattice_pitch\n",
      "\t\t\tMaterials:\n",
      "\t\t\tcoolant\n",
      "\t\t\t\tProperties:\n",
      "\t\t\t\tr\n",
      "\t\tinternal reflector\n",
      "\t\t\tDimensions:\n",
      "\t\t\tassembly_pitch\n",
      "\t\t\tinternal_reflector_radius\n",
      "\t\t\tMaterials:\n",
      "\t\t\tinternal_reflector\n",
      "\t\t\t\tProperties:\n",
      "\t\t\t\tr\n",
      "\t\tbarrel\n",
      "\t\t\tDimensions:\n",
      "\t\t\tbarrel_radius\n",
      "\t\t\tMaterials:\n",
      "\t\t\tbarrel\n",
      "\t\t\t\tProperties:\n",
      "\t\t\t\tr\n",
      "\t\tupper gridplate\n",
      "\t\t\tDimensions:\n",
      "\t\t\tupper_gridplate_thickness\n",
      "\t\t\tupper_gridplate_hole_radius\n",
      "\t\t\tMaterials:\n",
      "\t\t\tbarrel\n",
      "\t\t\t\tProperties:\n",
      "\t\t\t\th\n",
      "\t\tlower gridplate\n",
      "\t\t\tDimensions:\n",
      "\t\t\tlower_gridplate_thickness\n",
      "\t\t\tlower_gridplate_hole_radius\n",
      "\t\t\tMaterials:\n",
      "\t\t\tlower_gridplate\n",
      "\t\t\t\tProperties:\n",
      "\t\t\t\tr\n",
      "\t\tcontrol drum system\n",
      "\t\t\tDimensions:\n",
      "\t\t\tMaterials:\n",
      "\t\t\tcontrol_drum\n",
      "\t\t\t\tProperties:\n",
      "\t\t\t\tr\n",
      "\t\t\t\th\n",
      "\n"
     ]
    }
   ],
   "source": [
    "print(ex1.map())"
   ]
  },
  {
   "cell_type": "markdown",
   "metadata": {},
   "source": [
    "## Loading data from existing database"
   ]
  },
  {
   "cell_type": "markdown",
   "metadata": {},
   "source": [
    "To load the database we provide the same information to the init but with a database that is already existing. We then utilize the `_load()` function which will load all the data from `example.hdf5` and create appropriate container objects (Component, Material, Property, etc). "
   ]
  },
  {
   "cell_type": "code",
   "execution_count": 5,
   "metadata": {},
   "outputs": [
    {
     "name": "stdout",
     "output_type": "stream",
     "text": [
      "{'filePath': 'example.hdf5', 'version': 'v0.2.0', 'date': '2022-01-31 15:32:13', 'reactors': [], '_components': [<snapReactors.containers.component.Component object at 0x000001D7B9984F08>, <snapReactors.containers.component.Component object at 0x000001D7B9984D08>], '_componentsDict': {}, 'databaseDict': {'Components': {'c1': <snapReactors.containers.component.Component object at 0x000001D7B9984F08>, 'c1Materials': {'hasteC': <snapReactors.containers.materials.Material object at 0x000001D7B9AED6C8>, 'hasteCProperties': {'cp': <snapReactors.containers.property.Property object at 0x000001D7B9B09908>, 'h': <snapReactors.containers.property.Property object at 0x000001D7B973F488>, 'r': <snapReactors.containers.property.Property object at 0x000001D7A7FA13C8>}, 'hasteB': <snapReactors.containers.materials.Material object at 0x000001D7B998E288>, 'hasteBProperties': {'cp': <snapReactors.containers.property.Property object at 0x000001D7B998E088>, 'h': <snapReactors.containers.property.Property object at 0x000001D7B9A7A648>, 'r': <snapReactors.containers.property.Property object at 0x000001D7B9B3E648>}}, 'c2': <snapReactors.containers.component.Component object at 0x000001D7B9984D08>, 'c2Materials': {'hasteC': <snapReactors.containers.materials.Material object at 0x000001D7B9B3E988>, 'hasteCProperties': {'cp': <snapReactors.containers.property.Property object at 0x000001D7B9B3E108>, 'h': <snapReactors.containers.property.Property object at 0x000001D7B9B44F88>, 'r': <snapReactors.containers.property.Property object at 0x000001D7B9B444C8>}, 'hasteB': <snapReactors.containers.materials.Material object at 0x000001D7B9B44308>, 'hasteBProperties': {'cp': <snapReactors.containers.property.Property object at 0x000001D7B9B44608>, 'h': <snapReactors.containers.property.Property object at 0x000001D7B9B44288>, 'r': <snapReactors.containers.property.Property object at 0x000001D7B9B116C8>}}}}}\n",
      "\n",
      "\n",
      "***----------------------Database Map---------------------***\n",
      "Components:\n",
      "c1\n",
      "\tMaterials:\n",
      "\thasteC\n",
      "\t\tProperties:\n",
      "\t\tcp\n",
      "\t\th\n",
      "\t\tr\n",
      "\thasteB\n",
      "\t\tProperties:\n",
      "\t\tcp\n",
      "\t\th\n",
      "\t\tr\n",
      "c2\n",
      "\tMaterials:\n",
      "\thasteC\n",
      "\t\tProperties:\n",
      "\t\tcp\n",
      "\t\th\n",
      "\t\tr\n",
      "\thasteB\n",
      "\t\tProperties:\n",
      "\t\tcp\n",
      "\t\th\n",
      "\t\tr\n",
      "\n"
     ]
    }
   ],
   "source": [
    "version = 'v0.2.0'\n",
    "ex2 = Database(filePath=filePath, version=version, date=date)\n",
    "ex2._load()\n",
    "\n",
    "print(ex2)\n",
    "print(\"\\n\")\n",
    "print(ex2.map())"
   ]
  },
  {
   "cell_type": "markdown",
   "metadata": {},
   "source": [
    "## Navigating the Database\n",
    "\n",
    "To navigate the database the ``find`` method is used.\n",
    "It follows a similar convention to navigating groups in an hdf5 file or a general directory structure"
   ]
  },
  {
   "cell_type": "code",
   "execution_count": 9,
   "metadata": {},
   "outputs": [
    {
     "name": "stdout",
     "output_type": "stream",
     "text": [
      "Components\n",
      "{'c1': <snapReactors.containers.component.Component object at 0x000001D7B9984F08>, 'c1Materials': {'hasteC': <snapReactors.containers.materials.Material object at 0x000001D7B9AED6C8>, 'hasteCProperties': {'cp': <snapReactors.containers.property.Property object at 0x000001D7B9B09908>, 'h': <snapReactors.containers.property.Property object at 0x000001D7B973F488>, 'r': <snapReactors.containers.property.Property object at 0x000001D7A7FA13C8>}, 'hasteB': <snapReactors.containers.materials.Material object at 0x000001D7B998E288>, 'hasteBProperties': {'cp': <snapReactors.containers.property.Property object at 0x000001D7B998E088>, 'h': <snapReactors.containers.property.Property object at 0x000001D7B9A7A648>, 'r': <snapReactors.containers.property.Property object at 0x000001D7B9B3E648>}}, 'c2': <snapReactors.containers.component.Component object at 0x000001D7B9984D08>, 'c2Materials': {'hasteC': <snapReactors.containers.materials.Material object at 0x000001D7B9B3E988>, 'hasteCProperties': {'cp': <snapReactors.containers.property.Property object at 0x000001D7B9B3E108>, 'h': <snapReactors.containers.property.Property object at 0x000001D7B9B44F88>, 'r': <snapReactors.containers.property.Property object at 0x000001D7B9B444C8>}, 'hasteB': <snapReactors.containers.materials.Material object at 0x000001D7B9B44308>, 'hasteBProperties': {'cp': <snapReactors.containers.property.Property object at 0x000001D7B9B44608>, 'h': <snapReactors.containers.property.Property object at 0x000001D7B9B44288>, 'r': <snapReactors.containers.property.Property object at 0x000001D7B9B116C8>}}}\n",
      "\n",
      "\n",
      "Component c1\n",
      "<snapReactors.containers.component.Component object at 0x000001D7B9984F08>\n",
      "\n",
      "\n",
      "Component c1 Materials\n",
      "{'hasteC': <snapReactors.containers.materials.Material object at 0x000001D7B9AED6C8>, 'hasteCProperties': {'cp': <snapReactors.containers.property.Property object at 0x000001D7B9B09908>, 'h': <snapReactors.containers.property.Property object at 0x000001D7B973F488>, 'r': <snapReactors.containers.property.Property object at 0x000001D7A7FA13C8>}, 'hasteB': <snapReactors.containers.materials.Material object at 0x000001D7B998E288>, 'hasteBProperties': {'cp': <snapReactors.containers.property.Property object at 0x000001D7B998E088>, 'h': <snapReactors.containers.property.Property object at 0x000001D7B9A7A648>, 'r': <snapReactors.containers.property.Property object at 0x000001D7B9B3E648>}}\n",
      "\n",
      "\n",
      "Component c1 Material hasteC\n",
      "{'id': 'hasteC', 'utype': <UTYPE.NONE: 4>, 'ctype': <CTYPE.RELATIVE: 3>, 'abundances': array([7.00000000e-04, 1.25000000e-02, 6.95200000e-03, 1.34062400e-01,\n",
      "       1.52016000e-02, 3.78400000e-03, 2.49033000e-02, 1.56179000e-02,\n",
      "       2.69841000e-02, 2.83441000e-02, 1.62894000e-02, 4.12964000e-02,\n",
      "       1.65648000e-02, 7.50000000e-06, 2.99250000e-03, 4.80000000e-04,\n",
      "       1.06000000e-01, 5.72400000e-02, 1.22560000e-01, 1.13720000e-01,\n",
      "       3.36087500e-03, 5.27585500e-02, 1.21842500e-03, 1.62150000e-04,\n",
      "       1.00000000e-02, 6.45561000e-03, 3.27950000e-04, 3.27950000e-04,\n",
      "       1.22060089e-01, 4.70180183e-02, 2.04384070e-03, 6.51665850e-03,\n",
      "       1.65960080e-03]), 'isotopes': array([ 6000., 27059., 24050., 24052., 24053., 24054., 42092., 42094.,\n",
      "       42095., 42096., 42097., 42098., 42100., 23050., 23051., 74180.,\n",
      "       74182., 74183., 74184., 74186., 26054., 26056., 26057., 26058.,\n",
      "       25055., 14028., 14029., 14030., 28058., 28060., 28061., 28062.,\n",
      "       28064.]), 'unc': None, 'reference': ' NA-Examples\\n', 'description': ' This is an example input file\\n', '_properties': [<snapReactors.containers.property.Property object at 0x000001D7B9B09908>, <snapReactors.containers.property.Property object at 0x000001D7B973F488>, <snapReactors.containers.property.Property object at 0x000001D7A7FA13C8>], '_propertiesDict': {'cp': <snapReactors.containers.property.Property object at 0x000001D7B9B09908>, 'h': <snapReactors.containers.property.Property object at 0x000001D7B973F488>, 'r': <snapReactors.containers.property.Property object at 0x000001D7A7FA13C8>}}\n",
      "\n",
      "\n",
      "Component c1 Material hasteC Properties\n",
      "{'cp': <snapReactors.containers.property.Property object at 0x000001D7B9B09908>, 'h': <snapReactors.containers.property.Property object at 0x000001D7B973F488>, 'r': <snapReactors.containers.property.Property object at 0x000001D7A7FA13C8>}\n",
      "\n",
      "\n",
      "Component c1 Material hasteC Property h\n",
      "{'id': 'h', 'dtype': <DTYPE.NDARRAY: 2>, 'vtype': <VTYPE.TABLE: 2>, 'value': array([[1.1, 2.1],\n",
      "       [3.1, 4.1]]), 'valueUnit': 'BTU/hr/F/ft^2', 'unc': array([[1, 1],\n",
      "       [1, 1]]), 'dependents': array([[[1. , 2. ]],\n",
      "\n",
      "       [[0.1, 0.2]]]), 'dependentsUnit': 'K, Pa', 'description': None, 'ref': 'NAA-SR-6160', 'dependency1': array([1, 2]), 'dependency2': array([0.1, 0.2]), 'dependencyUnit1': 'K', 'dependencyUnit2': 'Pa'}\n",
      "\n",
      "\n"
     ]
    }
   ],
   "source": [
    "#Returns a dictionary with all components in the database\n",
    "print(\"Components\")\n",
    "print(ex2.find(\"Components\"))\n",
    "print(\"\\n\")\n",
    "\n",
    "#Returns a specific Component\n",
    "print(\"Component c1\")\n",
    "print(ex2.find(\"Components\\\\c1\"))\n",
    "print(\"\\n\")\n",
    "\n",
    "#Returns a dictionary with all materials for a specific component\n",
    "print(\"Component c1 Materials\")\n",
    "print(ex2.find(\"Components\\\\c1\\\\Materials\"))\n",
    "print(\"\\n\")\n",
    "\n",
    "\n",
    "#Returns a specific material container for a specific component\n",
    "print(\"Component c1 Material hasteC\")\n",
    "print(ex2.find(\"Components\\\\c1\\\\Materials\\\\hasteC\"))\n",
    "print(\"\\n\")\n",
    "\n",
    "#Returns a dictionary with all properties for a specific material container for a specific component\n",
    "print(\"Component c1 Material hasteC Properties\")\n",
    "print(ex2.find(\"Components\\\\c1\\\\Materials\\\\hasteC\\\\Properties\"))\n",
    "print(\"\\n\")\n",
    "\n",
    "\n",
    "#Returns a specific property for a specific material container for a specific component\n",
    "print(\"Component c1 Material hasteC Property h\")\n",
    "print(ex2.find(\"Components\\\\c1\\\\Materials\\\\hasteC\\\\Properties\\\\h\"))\n",
    "print(\"\\n\")\n",
    "\n",
    "\n"
   ]
  },
  {
   "cell_type": "markdown",
   "metadata": {},
   "source": [
    "## Markdown file updates"
   ]
  },
  {
   "cell_type": "markdown",
   "metadata": {},
   "source": [
    "When writing new data to the database, the changes are tabulated near the bottom of README.md. An example is shown below:"
   ]
  },
  {
   "cell_type": "markdown",
   "metadata": {},
   "source": [
    "<img src=\"markdownlog.png\">"
   ]
  }
 ],
 "metadata": {
  "kernelspec": {
   "display_name": "Python 3",
   "language": "python",
   "name": "python3"
  },
  "language_info": {
   "codemirror_mode": {
    "name": "ipython",
    "version": 3
   },
   "file_extension": ".py",
   "mimetype": "text/x-python",
   "name": "python",
   "nbconvert_exporter": "python",
   "pygments_lexer": "ipython3",
   "version": "3.1.undefined"
  },
  "vscode": {
   "interpreter": {
    "hash": "087eced5c32687d8cdc04b15b537966215add59031ba8b893fad92ef8d2dbc22"
   }
  }
 },
 "nbformat": 4,
 "nbformat_minor": 2
}
