{
 "cells": [
  {
   "cell_type": "markdown",
   "metadata": {},
   "source": [
    "# snapReactors"
   ]
  },
  {
   "cell_type": "markdown",
   "metadata": {},
   "source": [
    "Copyright (c) Dan Kotlyar and CoRE group"
   ]
  },
  {
   "cell_type": "markdown",
   "metadata": {},
   "source": [
    "# Database Container"
   ]
  },
  {
   "cell_type": "markdown",
   "metadata": {},
   "source": [
    "* This container allows for container data to be written to and loaded from an hdf5 database. \n",
    "* Markdown files automatically updated as modifications are made with a description of what modifications were made."
   ]
  },
  {
   "cell_type": "markdown",
   "metadata": {},
   "source": [
    "## Code "
   ]
  },
  {
   "cell_type": "code",
   "execution_count": 1,
   "metadata": {},
   "outputs": [],
   "source": [
    "from snapReactors.library.database import Database\n",
    "from snapReactors.containers.component import Component\n",
    "from snapReactors.containers.materials import Material\n",
    "from IPython.display import Image"
   ]
  },
  {
   "cell_type": "markdown",
   "metadata": {},
   "source": [
    "## Defining a new database"
   ]
  },
  {
   "cell_type": "markdown",
   "metadata": {},
   "source": [
    "1. Give name of the filepath as a string. Note that the end of the filepath must be the name of the database with the extension .hdf5\\\n",
    "2. Provide the version name of the database that follows the convention __vmajor.minor.fix\n",
    "    * v0.1.0\n",
    "3. Provide the date that the database was created."
   ]
  },
  {
   "cell_type": "code",
   "execution_count": 2,
   "metadata": {},
   "outputs": [],
   "source": [
    "filePath = 'example.hdf5'\n",
    "version = 'v0.1.0'\n",
    "date = '2022-01-31 15:32:13'\n",
    "ex1 = Database(filePath=filePath, version=version, date=date)"
   ]
  },
  {
   "cell_type": "markdown",
   "metadata": {},
   "source": [
    "### Adding data to new database"
   ]
  },
  {
   "cell_type": "markdown",
   "metadata": {},
   "source": [
    "Note that the database above has created the hdf5 file ``example.hdf5`` but is still empty. To fill the database with data the following steps are taken:\n",
    "\n",
    "    1. Add a Component object to the database variable `ex1`\n",
    "    2. Use the `_write()` function to write data in ex1 variable to `example..hdf5` database."
   ]
  },
  {
   "cell_type": "code",
   "execution_count": 3,
   "metadata": {},
   "outputs": [
    {
     "name": "stderr",
     "output_type": "stream",
     "text": [
      "C:\\Users\\Sam\\AppData\\Roaming\\Python\\Python38\\site-packages\\snapreactors-0.0.1-py3.8.egg\\snapReactors\\containers\\property.py:669: InputFileSyntaxWarning: reference not given for cp const property @ line: 19\n",
      "  warnings.warn(\"reference not given for {} {} property @\"\n",
      "C:\\Users\\Sam\\AppData\\Roaming\\Python\\Python38\\site-packages\\snapreactors-0.0.1-py3.8.egg\\snapReactors\\containers\\property.py:868: InputFileSyntaxWarning: uncertainty not given for r corr property @ line: 38\n",
      "  warnings.warn(\"uncertainty not given for {} {} property @\"\n"
     ]
    },
    {
     "name": "stdout",
     "output_type": "stream",
     "text": [
      "[<snapReactors.containers.materials.Material object at 0x0000024551B33460>, <snapReactors.containers.materials.Material object at 0x0000024551B33520>]\n",
      "\t - c1 : <HDF5 group \"/c1\" (3 members)>\n",
      "\t\t - id : <HDF5 dataset \"id\": shape (), type \"|O\">\n",
      "b'c1'\n",
      "\t\t -  hasteC\n",
      " : <HDF5 group \"/c1/ hasteC\n",
      "\" (11 members)>\n",
      "\t\t\t - matName : <HDF5 dataset \"matName\": shape (), type \"|O\">\n",
      "b' hasteC\\n'\n",
      "\t\t\t - utype : <HDF5 dataset \"utype\": shape (), type \"<i4\">\n",
      "4\n",
      "\t\t\t - ctype : <HDF5 dataset \"ctype\": shape (), type \"<i4\">\n",
      "3\n",
      "\t\t\t - abundances : <HDF5 dataset \"abundances\": shape (33,), type \"<f8\">\n",
      "[7.00000000e-04 1.25000000e-02 6.95200000e-03 1.34062400e-01\n",
      " 1.52016000e-02 3.78400000e-03 2.49033000e-02 1.56179000e-02\n",
      " 2.69841000e-02 2.83441000e-02 1.62894000e-02 4.12964000e-02\n",
      " 1.65648000e-02 7.50000000e-06 2.99250000e-03 4.80000000e-04\n",
      " 1.06000000e-01 5.72400000e-02 1.22560000e-01 1.13720000e-01\n",
      " 3.36087500e-03 5.27585500e-02 1.21842500e-03 1.62150000e-04\n",
      " 1.00000000e-02 6.45561000e-03 3.27950000e-04 3.27950000e-04\n",
      " 1.22060089e-01 4.70180183e-02 2.04384070e-03 6.51665850e-03\n",
      " 1.65960080e-03]\n",
      "\t\t\t - isotopes : <HDF5 dataset \"isotopes\": shape (33,), type \"<f8\">\n",
      "[ 6000. 27059. 24050. 24052. 24053. 24054. 42092. 42094. 42095. 42096.\n",
      " 42097. 42098. 42100. 23050. 23051. 74180. 74182. 74183. 74184. 74186.\n",
      " 26054. 26056. 26057. 26058. 25055. 14028. 14029. 14030. 28058. 28060.\n",
      " 28061. 28062. 28064.]\n",
      "\t\t\t - unc : <HDF5 dataset \"unc\": shape (1,), type \"<f8\">\n",
      "[nan]\n",
      "\t\t\t - reference : <HDF5 dataset \"reference\": shape (), type \"|O\">\n",
      "b' NA-Examples\\n'\n",
      "\t\t\t - description : <HDF5 dataset \"description\": shape (), type \"|O\">\n",
      "b' This is an example input file\\n'\n",
      "\t\t\t - cp : <HDF5 group \"/c1/ hasteC\n",
      "/cp\" (10 members)>\n",
      "\t\t\t\t - id : <HDF5 dataset \"id\": shape (), type \"|O\">\n",
      "b'cp'\n",
      "\t\t\t\t - dtype : <HDF5 dataset \"dtype\": shape (), type \"<i4\">\n",
      "1\n",
      "\t\t\t\t - vtype : <HDF5 dataset \"vtype\": shape (), type \"<i4\">\n",
      "1\n",
      "\t\t\t\t - value : <HDF5 dataset \"value\": shape (1,), type \"<f8\">\n",
      "[1.]\n",
      "\t\t\t\t - valueUnit : <HDF5 dataset \"valueUnit\": shape (), type \"|O\">\n",
      "b'J/kg/K'\n",
      "\t\t\t\t - unc : <HDF5 dataset \"unc\": shape (1,), type \"<f8\">\n",
      "[0.01]\n",
      "\t\t\t\t - dependents : <HDF5 dataset \"dependents\": shape (1,), type \"<f8\">\n",
      "[nan]\n",
      "\t\t\t\t - dependentsUnit : <HDF5 dataset \"dependentsUnit\": shape (1,), type \"<f8\">\n",
      "[nan]\n",
      "\t\t\t\t - description : <HDF5 dataset \"description\": shape (1,), type \"<f8\">\n",
      "[nan]\n",
      "\t\t\t\t - ref : <HDF5 dataset \"ref\": shape (1,), type \"<f8\">\n",
      "[nan]\n",
      "\t\t\t - h : <HDF5 group \"/c1/ hasteC\n",
      "/h\" (14 members)>\n",
      "\t\t\t\t - id : <HDF5 dataset \"id\": shape (), type \"|O\">\n",
      "b'h'\n",
      "\t\t\t\t - dtype : <HDF5 dataset \"dtype\": shape (), type \"<i4\">\n",
      "2\n",
      "\t\t\t\t - vtype : <HDF5 dataset \"vtype\": shape (), type \"<i4\">\n",
      "2\n",
      "\t\t\t\t - value : <HDF5 dataset \"value\": shape (2, 2), type \"<f8\">\n",
      "[[1.1 2.1]\n",
      " [3.1 4.1]]\n",
      "\t\t\t\t - valueUnit : <HDF5 dataset \"valueUnit\": shape (), type \"|O\">\n",
      "b'BTU/hr/F/ft^2'\n",
      "\t\t\t\t - unc : <HDF5 dataset \"unc\": shape (2, 2), type \"<i4\">\n",
      "[[1 1]\n",
      " [1 1]]\n",
      "\t\t\t\t - dependents : <HDF5 dataset \"dependents\": shape (2, 1, 2), type \"<f8\">\n",
      "[[[1.  2. ]]\n",
      "\n",
      " [[0.1 0.2]]]\n",
      "\t\t\t\t - dependentsUnit : <HDF5 dataset \"dependentsUnit\": shape (), type \"|O\">\n",
      "b'K, Pa'\n",
      "\t\t\t\t - description : <HDF5 dataset \"description\": shape (1,), type \"<f8\">\n",
      "[nan]\n",
      "\t\t\t\t - ref : <HDF5 dataset \"ref\": shape (), type \"|O\">\n",
      "b'NAA-SR-6160'\n",
      "\t\t\t\t - dependency1 : <HDF5 dataset \"dependency1\": shape (2,), type \"<i4\">\n",
      "[1 2]\n",
      "\t\t\t\t - dependency2 : <HDF5 dataset \"dependency2\": shape (2,), type \"<f8\">\n",
      "[0.1 0.2]\n",
      "\t\t\t\t - dependencyUnit1 : <HDF5 dataset \"dependencyUnit1\": shape (), type \"|O\">\n",
      "b'K'\n",
      "\t\t\t\t - dependencyUnit2 : <HDF5 dataset \"dependencyUnit2\": shape (), type \"|O\">\n",
      "b'Pa'\n",
      "\t\t\t - r : <HDF5 group \"/c1/ hasteC\n",
      "/r\" (16 members)>\n",
      "\t\t\t\t - id : <HDF5 dataset \"id\": shape (), type \"|O\">\n",
      "b'r'\n",
      "\t\t\t\t - dtype : <HDF5 dataset \"dtype\": shape (), type \"<i4\">\n",
      "2\n",
      "\t\t\t\t - vtype : <HDF5 dataset \"vtype\": shape (), type \"<i4\">\n",
      "3\n",
      "\t\t\t\t - value : <HDF5 dataset \"value\": shape (50,), type \"<f8\">\n",
      "[ 556.          589.56934611  623.99167014  659.26697209  695.39525198\n",
      "  732.37650979  770.21074552  808.89795918  848.43815077  888.83132028\n",
      "  930.07746772  972.17659309 1015.12869638 1058.93377759 1103.59183673\n",
      " 1149.1028738  1195.4668888  1242.68388172 1290.75385256 1339.67680133\n",
      " 1389.45272803 1440.08163265 1491.5635152  1543.89837568 1597.08621408\n",
      " 1651.1270304  1706.02082466 1761.76759683 1818.36734694 1875.82007497\n",
      " 1934.12578092 1993.28446481 2053.29612661 2114.16076635 2175.87838401\n",
      " 2238.44897959 2301.8725531  2366.14910454 2431.2786339  2497.26114119\n",
      " 2564.09662641 2631.78508955 2700.32653061 2769.7209496  2839.96834652\n",
      " 2911.06872137 2983.02207414 3055.82840483 3129.48771345 3204.        ]\n",
      "\t\t\t\t - valueUnit : <HDF5 dataset \"valueUnit\": shape (), type \"|O\">\n",
      "b'kg/m^3'\n",
      "\t\t\t\t - unc : <HDF5 dataset \"unc\": shape (1,), type \"<f8\">\n",
      "[nan]\n",
      "\t\t\t\t - dependents : <HDF5 dataset \"dependents\": shape (2, 50), type \"<f8\">\n",
      "[[300.         312.24489796 324.48979592 336.73469388 348.97959184\n",
      "  361.2244898  373.46938776 385.71428571 397.95918367 410.20408163\n",
      "  422.44897959 434.69387755 446.93877551 459.18367347 471.42857143\n",
      "  483.67346939 495.91836735 508.16326531 520.40816327 532.65306122\n",
      "  544.89795918 557.14285714 569.3877551  581.63265306 593.87755102\n",
      "  606.12244898 618.36734694 630.6122449  642.85714286 655.10204082\n",
      "  667.34693878 679.59183673 691.83673469 704.08163265 716.32653061\n",
      "  728.57142857 740.81632653 753.06122449 765.30612245 777.55102041\n",
      "  789.79591837 802.04081633 814.28571429 826.53061224 838.7755102\n",
      "  851.02040816 863.26530612 875.51020408 887.75510204 900.        ]\n",
      " [ 16.          16.65306122  17.30612245  17.95918367  18.6122449\n",
      "   19.26530612  19.91836735  20.57142857  21.2244898   21.87755102\n",
      "   22.53061224  23.18367347  23.83673469  24.48979592  25.14285714\n",
      "   25.79591837  26.44897959  27.10204082  27.75510204  28.40816327\n",
      "   29.06122449  29.71428571  30.36734694  31.02040816  31.67346939\n",
      "   32.32653061  32.97959184  33.63265306  34.28571429  34.93877551\n",
      "   35.59183673  36.24489796  36.89795918  37.55102041  38.20408163\n",
      "   38.85714286  39.51020408  40.16326531  40.81632653  41.46938776\n",
      "   42.12244898  42.7755102   43.42857143  44.08163265  44.73469388\n",
      "   45.3877551   46.04081633  46.69387755  47.34693878  48.        ]]\n",
      "\t\t\t\t - dependentsUnit : <HDF5 dataset \"dependentsUnit\": shape (), type \"|O\">\n",
      "b'K, Pa'\n",
      "\t\t\t\t - description : <HDF5 dataset \"description\": shape (1,), type \"<f8\">\n",
      "[nan]\n",
      "\t\t\t\t - ref : <HDF5 dataset \"ref\": shape (), type \"|O\">\n",
      "b'NAA-SR-3120'\n",
      "\t\t\t\t - expr : <HDF5 dataset \"expr\": shape (), type \"|O\">\n",
      "b'T+P**2'\n",
      "\t\t\t\t - syms : <HDF5 dataset \"syms\": shape (), type \"|O\">\n",
      "b'T,P'\n",
      "\t\t\t\t - dependencyRange1 : <HDF5 dataset \"dependencyRange1\": shape (2,), type \"<i4\">\n",
      "[300 900]\n",
      "\t\t\t\t - dependencyUnit1 : <HDF5 dataset \"dependencyUnit1\": shape (), type \"|O\">\n",
      "b'K'\n",
      "\t\t\t\t - dependencyRange2 : <HDF5 dataset \"dependencyRange2\": shape (2,), type \"<i4\">\n",
      "[16 48]\n",
      "\t\t\t\t - dependencyUnit2 : <HDF5 dataset \"dependencyUnit2\": shape (), type \"|O\">\n",
      "b'Pa'\n",
      "\t\t -  hasteB\n",
      " : <HDF5 group \"/c1/ hasteB\n",
      "\" (11 members)>\n",
      "\t\t\t - matName : <HDF5 dataset \"matName\": shape (), type \"|O\">\n",
      "b' hasteB\\n'\n",
      "\t\t\t - utype : <HDF5 dataset \"utype\": shape (), type \"<i4\">\n",
      "4\n",
      "\t\t\t - ctype : <HDF5 dataset \"ctype\": shape (), type \"<i4\">\n",
      "3\n",
      "\t\t\t - abundances : <HDF5 dataset \"abundances\": shape (33,), type \"<f8\">\n",
      "[7.00000000e-04 1.25000000e-02 6.95200000e-03 1.34062400e-01\n",
      " 1.52016000e-02 3.78400000e-03 2.49033000e-02 1.56179000e-02\n",
      " 2.69841000e-02 2.83441000e-02 1.62894000e-02 4.12964000e-02\n",
      " 1.65648000e-02 7.50000000e-06 2.99250000e-03 4.80000000e-04\n",
      " 1.06000000e-01 5.72400000e-02 1.22560000e-01 1.13720000e-01\n",
      " 3.36087500e-03 5.27585500e-02 1.21842500e-03 1.62150000e-04\n",
      " 1.00000000e-02 6.45561000e-03 3.27950000e-04 3.27950000e-04\n",
      " 1.22060089e-01 4.70180183e-02 2.04384070e-03 6.51665850e-03\n",
      " 1.65960080e-03]\n",
      "\t\t\t - isotopes : <HDF5 dataset \"isotopes\": shape (33,), type \"<f8\">\n",
      "[ 6000. 27059. 24050. 24052. 24053. 24054. 42092. 42094. 42095. 42096.\n",
      " 42097. 42098. 42100. 23050. 23051. 74180. 74182. 74183. 74184. 74186.\n",
      " 26054. 26056. 26057. 26058. 25055. 14028. 14029. 14030. 28058. 28060.\n",
      " 28061. 28062. 28064.]\n",
      "\t\t\t - unc : <HDF5 dataset \"unc\": shape (1,), type \"<f8\">\n",
      "[nan]\n",
      "\t\t\t - reference : <HDF5 dataset \"reference\": shape (), type \"|O\">\n",
      "b' NA-Examples\\n'\n",
      "\t\t\t - description : <HDF5 dataset \"description\": shape (), type \"|O\">\n",
      "b' This is an example input file'\n",
      "\t\t\t - cp : <HDF5 group \"/c1/ hasteB\n",
      "/cp\" (10 members)>\n",
      "\t\t\t\t - id : <HDF5 dataset \"id\": shape (), type \"|O\">\n",
      "b'cp'\n",
      "\t\t\t\t - dtype : <HDF5 dataset \"dtype\": shape (), type \"<i4\">\n",
      "1\n",
      "\t\t\t\t - vtype : <HDF5 dataset \"vtype\": shape (), type \"<i4\">\n",
      "1\n",
      "\t\t\t\t - value : <HDF5 dataset \"value\": shape (1,), type \"<f8\">\n",
      "[1.]\n",
      "\t\t\t\t - valueUnit : <HDF5 dataset \"valueUnit\": shape (), type \"|O\">\n",
      "b'J/kg/K'\n",
      "\t\t\t\t - unc : <HDF5 dataset \"unc\": shape (1,), type \"<f8\">\n",
      "[0.01]\n",
      "\t\t\t\t - dependents : <HDF5 dataset \"dependents\": shape (1,), type \"<f8\">\n",
      "[nan]\n",
      "\t\t\t\t - dependentsUnit : <HDF5 dataset \"dependentsUnit\": shape (1,), type \"<f8\">\n",
      "[nan]\n",
      "\t\t\t\t - description : <HDF5 dataset \"description\": shape (1,), type \"<f8\">\n",
      "[nan]\n",
      "\t\t\t\t - ref : <HDF5 dataset \"ref\": shape (1,), type \"<f8\">\n",
      "[nan]\n",
      "\t\t\t - h : <HDF5 group \"/c1/ hasteB\n",
      "/h\" (14 members)>\n",
      "\t\t\t\t - id : <HDF5 dataset \"id\": shape (), type \"|O\">\n",
      "b'h'\n",
      "\t\t\t\t - dtype : <HDF5 dataset \"dtype\": shape (), type \"<i4\">\n",
      "2\n",
      "\t\t\t\t - vtype : <HDF5 dataset \"vtype\": shape (), type \"<i4\">\n",
      "2\n",
      "\t\t\t\t - value : <HDF5 dataset \"value\": shape (2, 2), type \"<f8\">\n",
      "[[1.1 2.1]\n",
      " [3.1 4.1]]\n",
      "\t\t\t\t - valueUnit : <HDF5 dataset \"valueUnit\": shape (), type \"|O\">\n",
      "b'BTU/hr/F/ft^2'\n",
      "\t\t\t\t - unc : <HDF5 dataset \"unc\": shape (2, 2), type \"<i4\">\n",
      "[[1 1]\n",
      " [1 1]]\n",
      "\t\t\t\t - dependents : <HDF5 dataset \"dependents\": shape (2, 1, 2), type \"<f8\">\n",
      "[[[1.  2. ]]\n",
      "\n",
      " [[0.1 0.2]]]\n",
      "\t\t\t\t - dependentsUnit : <HDF5 dataset \"dependentsUnit\": shape (), type \"|O\">\n",
      "b'K, Pa'\n",
      "\t\t\t\t - description : <HDF5 dataset \"description\": shape (1,), type \"<f8\">\n",
      "[nan]\n",
      "\t\t\t\t - ref : <HDF5 dataset \"ref\": shape (), type \"|O\">\n",
      "b'NAA-SR-6160'\n",
      "\t\t\t\t - dependency1 : <HDF5 dataset \"dependency1\": shape (2,), type \"<i4\">\n",
      "[1 2]\n",
      "\t\t\t\t - dependency2 : <HDF5 dataset \"dependency2\": shape (2,), type \"<f8\">\n",
      "[0.1 0.2]\n",
      "\t\t\t\t - dependencyUnit1 : <HDF5 dataset \"dependencyUnit1\": shape (), type \"|O\">\n",
      "b'K'\n",
      "\t\t\t\t - dependencyUnit2 : <HDF5 dataset \"dependencyUnit2\": shape (), type \"|O\">\n",
      "b'Pa'\n",
      "\t\t\t - r : <HDF5 group \"/c1/ hasteB\n",
      "/r\" (16 members)>\n",
      "\t\t\t\t - id : <HDF5 dataset \"id\": shape (), type \"|O\">\n",
      "b'r'\n",
      "\t\t\t\t - dtype : <HDF5 dataset \"dtype\": shape (), type \"<i4\">\n",
      "2\n",
      "\t\t\t\t - vtype : <HDF5 dataset \"vtype\": shape (), type \"<i4\">\n",
      "3\n",
      "\t\t\t\t - value : <HDF5 dataset \"value\": shape (50,), type \"<f8\">\n",
      "[ 556.          589.56934611  623.99167014  659.26697209  695.39525198\n",
      "  732.37650979  770.21074552  808.89795918  848.43815077  888.83132028\n",
      "  930.07746772  972.17659309 1015.12869638 1058.93377759 1103.59183673\n",
      " 1149.1028738  1195.4668888  1242.68388172 1290.75385256 1339.67680133\n",
      " 1389.45272803 1440.08163265 1491.5635152  1543.89837568 1597.08621408\n",
      " 1651.1270304  1706.02082466 1761.76759683 1818.36734694 1875.82007497\n",
      " 1934.12578092 1993.28446481 2053.29612661 2114.16076635 2175.87838401\n",
      " 2238.44897959 2301.8725531  2366.14910454 2431.2786339  2497.26114119\n",
      " 2564.09662641 2631.78508955 2700.32653061 2769.7209496  2839.96834652\n",
      " 2911.06872137 2983.02207414 3055.82840483 3129.48771345 3204.        ]\n",
      "\t\t\t\t - valueUnit : <HDF5 dataset \"valueUnit\": shape (), type \"|O\">\n",
      "b'kg/m^3'\n",
      "\t\t\t\t - unc : <HDF5 dataset \"unc\": shape (1,), type \"<f8\">\n",
      "[nan]\n",
      "\t\t\t\t - dependents : <HDF5 dataset \"dependents\": shape (2, 50), type \"<f8\">\n",
      "[[300.         312.24489796 324.48979592 336.73469388 348.97959184\n",
      "  361.2244898  373.46938776 385.71428571 397.95918367 410.20408163\n",
      "  422.44897959 434.69387755 446.93877551 459.18367347 471.42857143\n",
      "  483.67346939 495.91836735 508.16326531 520.40816327 532.65306122\n",
      "  544.89795918 557.14285714 569.3877551  581.63265306 593.87755102\n",
      "  606.12244898 618.36734694 630.6122449  642.85714286 655.10204082\n",
      "  667.34693878 679.59183673 691.83673469 704.08163265 716.32653061\n",
      "  728.57142857 740.81632653 753.06122449 765.30612245 777.55102041\n",
      "  789.79591837 802.04081633 814.28571429 826.53061224 838.7755102\n",
      "  851.02040816 863.26530612 875.51020408 887.75510204 900.        ]\n",
      " [ 16.          16.65306122  17.30612245  17.95918367  18.6122449\n",
      "   19.26530612  19.91836735  20.57142857  21.2244898   21.87755102\n",
      "   22.53061224  23.18367347  23.83673469  24.48979592  25.14285714\n",
      "   25.79591837  26.44897959  27.10204082  27.75510204  28.40816327\n",
      "   29.06122449  29.71428571  30.36734694  31.02040816  31.67346939\n",
      "   32.32653061  32.97959184  33.63265306  34.28571429  34.93877551\n",
      "   35.59183673  36.24489796  36.89795918  37.55102041  38.20408163\n",
      "   38.85714286  39.51020408  40.16326531  40.81632653  41.46938776\n",
      "   42.12244898  42.7755102   43.42857143  44.08163265  44.73469388\n",
      "   45.3877551   46.04081633  46.69387755  47.34693878  48.        ]]\n",
      "\t\t\t\t - dependentsUnit : <HDF5 dataset \"dependentsUnit\": shape (), type \"|O\">\n",
      "b'K, Pa'\n",
      "\t\t\t\t - description : <HDF5 dataset \"description\": shape (1,), type \"<f8\">\n",
      "[nan]\n",
      "\t\t\t\t - ref : <HDF5 dataset \"ref\": shape (), type \"|O\">\n",
      "b'NAA-SR-3120'\n",
      "\t\t\t\t - expr : <HDF5 dataset \"expr\": shape (), type \"|O\">\n",
      "b'T+P**2'\n",
      "\t\t\t\t - syms : <HDF5 dataset \"syms\": shape (), type \"|O\">\n",
      "b'T,P'\n",
      "\t\t\t\t - dependencyRange1 : <HDF5 dataset \"dependencyRange1\": shape (2,), type \"<i4\">\n",
      "[300 900]\n",
      "\t\t\t\t - dependencyUnit1 : <HDF5 dataset \"dependencyUnit1\": shape (), type \"|O\">\n",
      "b'K'\n",
      "\t\t\t\t - dependencyRange2 : <HDF5 dataset \"dependencyRange2\": shape (2,), type \"<i4\">\n",
      "[16 48]\n",
      "\t\t\t\t - dependencyUnit2 : <HDF5 dataset \"dependencyUnit2\": shape (), type \"|O\">\n",
      "b'Pa'\n"
     ]
    }
   ],
   "source": [
    "c1 = Component('c1')\n",
    "c1.addMaterial(Material.readData('test.txt'))\n",
    "ex1.addComponents([c1])\n",
    "ex1._write()\n",
    "\n",
    "Database._h5dump('example.hdf5')"
   ]
  },
  {
   "cell_type": "markdown",
   "metadata": {},
   "source": [
    "## Loading data from existing database"
   ]
  },
  {
   "cell_type": "markdown",
   "metadata": {},
   "source": [
    "To load the database we provide the same information to the init but with a database that is already existing. We then utilize the `_load()` function which will load all the data from `example.hdf5` and create appropriate container objects (Component, Material, Property, etc). "
   ]
  },
  {
   "cell_type": "code",
   "execution_count": 4,
   "metadata": {},
   "outputs": [
    {
     "name": "stdout",
     "output_type": "stream",
     "text": [
      "{'filePath': 'example.hdf5', 'version': 'v0.2.0', 'date': '2022-01-31 15:32:13', 'reactors': [], 'components': [<snapReactors.containers.component.Component object at 0x000002454E1B7250>]}\n"
     ]
    }
   ],
   "source": [
    "version = 'v0.2.0'\n",
    "ex2 = Database(filePath=filePath, version=version, date=date)\n",
    "ex2._load()\n",
    "\n",
    "print(ex2)"
   ]
  },
  {
   "cell_type": "markdown",
   "metadata": {},
   "source": [
    "## Markdown file updates"
   ]
  },
  {
   "cell_type": "markdown",
   "metadata": {},
   "source": [
    "When writing new data to the database, the changes are tabulated near the bottom of README.md. An example is shown below:"
   ]
  },
  {
   "cell_type": "markdown",
   "metadata": {},
   "source": [
    "<img src=\"markdownlog.png\">"
   ]
  }
 ],
 "metadata": {
  "kernelspec": {
   "display_name": "Python 3 (ipykernel)",
   "language": "python",
   "name": "python3"
  },
  "language_info": {
   "codemirror_mode": {
    "name": "ipython",
    "version": 3
   },
   "file_extension": ".py",
   "mimetype": "text/x-python",
   "name": "python",
   "nbconvert_exporter": "python",
   "pygments_lexer": "ipython3",
   "version": "3.8.8"
  }
 },
 "nbformat": 4,
 "nbformat_minor": 2
}
