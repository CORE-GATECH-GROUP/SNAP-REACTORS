{
 "cells": [
  {
   "cell_type": "markdown",
   "metadata": {},
   "source": [
    "# snapReactors"
   ]
  },
  {
   "cell_type": "markdown",
   "metadata": {},
   "source": [
    "Copyright (c) Dan Kotlyar and CoRE group"
   ]
  },
  {
   "cell_type": "markdown",
   "metadata": {},
   "source": [
    "# Database Container"
   ]
  },
  {
   "cell_type": "markdown",
   "metadata": {},
   "source": [
    "* This container allows for container data to be written to and loaded from an hdf5 database. \n",
    "* Markdown files automatically updated as modifications are made with a description of what modifications were made."
   ]
  },
  {
   "cell_type": "markdown",
   "metadata": {},
   "source": [
    "## Code "
   ]
  },
  {
   "cell_type": "code",
   "execution_count": 13,
   "metadata": {},
   "outputs": [],
   "source": [
    "from snapReactors.library.database import Database\n",
    "from snapReactors.containers.component import Component\n",
    "from snapReactors.containers.materials import Material\n",
    "from IPython.display import Image"
   ]
  },
  {
   "cell_type": "markdown",
   "metadata": {},
   "source": [
    "## Defining a new database"
   ]
  },
  {
   "cell_type": "markdown",
   "metadata": {},
   "source": [
    "1. Give name of the filepath as a string. Note that the end of the filepath must be the name of the database with the extension .hdf5\\\n",
    "2. Provide the version name of the database that follows the convention __vmajor.minor.fix\n",
    "    * v0.1.0\n",
    "3. Provide the date that the database was created."
   ]
  },
  {
   "cell_type": "code",
   "execution_count": 14,
   "metadata": {},
   "outputs": [],
   "source": [
    "filePath = 'example.hdf5'\n",
    "version = 'v0.1.0'\n",
    "date = '2022-01-31 15:32:13'\n",
    "ex1 = Database(filePath=filePath, version=version, date=date)"
   ]
  },
  {
   "cell_type": "markdown",
   "metadata": {},
   "source": [
    "### Adding data to new database"
   ]
  },
  {
   "cell_type": "markdown",
   "metadata": {},
   "source": [
    "Note that the database above has created the hdf5 file ``example.hdf5`` but is still empty. To fill the database with data the following steps are taken:\n",
    "\n",
    "    1. Add a Component object to the database variable `ex1`\n",
    "    2. Use the `_write()` function to write data in ex1 variable to `example..hdf5` database."
   ]
  },
  {
   "cell_type": "code",
   "execution_count": 15,
   "metadata": {},
   "outputs": [
    {
     "name": "stderr",
     "output_type": "stream",
     "text": [
      "c:\\Users\\user\\Documents\\GitHub\\SNAP-REACTORS\\snapReactors\\containers\\property.py:672: InputFileSyntaxWarning: reference not given for cp const property @ line: 19\n",
      "  InputFileSyntaxWarning)\n",
      "c:\\Users\\user\\Documents\\GitHub\\SNAP-REACTORS\\snapReactors\\containers\\property.py:871: InputFileSyntaxWarning: uncertainty not given for r corr property @ line: 38\n",
      "  InputFileSyntaxWarning)\n"
     ]
    }
   ],
   "source": [
    "c1 = Component('c1')\n",
    "c1.addMaterial(Material.readData(\"test.txt\"))\n",
    "ex1.addComponents([c1])\n",
    "ex1._write()"
   ]
  },
  {
   "cell_type": "markdown",
   "metadata": {},
   "source": [
    "## Visualizing Database Layout\n",
    "\n",
    "The database can be printed out in a structured format for added clarity when navigating using the ``map`` function"
   ]
  },
  {
   "cell_type": "code",
   "execution_count": 16,
   "metadata": {},
   "outputs": [
    {
     "name": "stdout",
     "output_type": "stream",
     "text": [
      "***----------------------Database Map---------------------***\n",
      "Components:\n",
      "c1\n",
      "\tMaterials:\n",
      "\thasteC\n",
      "\t\tProperties:\n",
      "\thasteB\n",
      "\t\tProperties:\n"
     ]
    }
   ],
   "source": [
    "ex1.map()"
   ]
  },
  {
   "cell_type": "markdown",
   "metadata": {},
   "source": [
    "## Loading data from existing database"
   ]
  },
  {
   "cell_type": "markdown",
   "metadata": {},
   "source": [
    "To load the database we provide the same information to the init but with a database that is already existing. We then utilize the `_load()` function which will load all the data from `example.hdf5` and create appropriate container objects (Component, Material, Property, etc). "
   ]
  },
  {
   "cell_type": "code",
   "execution_count": 31,
   "metadata": {},
   "outputs": [
    {
     "name": "stdout",
     "output_type": "stream",
     "text": [
      "{'filePath': 'example.hdf5', 'version': 'v0.2.0', 'date': '2022-01-31 15:32:13', 'reactors': [], '_components': [<snapReactors.containers.component.Component object at 0x0000027F7C323D48>], '_componentsDict': {}, 'databaseDict': {'Components': {'c1': <snapReactors.containers.component.Component object at 0x0000027F7C323D48>, 'c1Materials': {'hasteC': <snapReactors.containers.materials.Material object at 0x0000027F7C31D648>, 'hasteCProperties': {}, 'hasteB': <snapReactors.containers.materials.Material object at 0x0000027F7C31DC48>, 'hasteBProperties': {}}}}}\n",
      "***----------------------Database Map---------------------***\n",
      "Components:\n",
      "c1\n",
      "\tMaterials:\n",
      "\thasteC\n",
      "\t\tProperties:\n",
      "\thasteB\n",
      "\t\tProperties:\n",
      "None\n"
     ]
    }
   ],
   "source": [
    "version = 'v0.2.0'\n",
    "ex2 = Database(filePath=filePath, version=version, date=date)\n",
    "ex2._load()\n",
    "\n",
    "print(ex2)\n",
    "print(ex2.map())"
   ]
  },
  {
   "cell_type": "markdown",
   "metadata": {},
   "source": [
    "## Navigating the Database\n",
    "\n",
    "To navigate the database the ``find`` method is used.\n",
    "It follows a similar convention to navigating groups in an hdf5 file or a general directory structure"
   ]
  },
  {
   "cell_type": "code",
   "execution_count": 30,
   "metadata": {},
   "outputs": [
    {
     "name": "stdout",
     "output_type": "stream",
     "text": [
      "Components\n",
      "{'c1': <snapReactors.containers.component.Component object at 0x0000027F7C24CD48>, 'c1Materials': {'hasteC': <snapReactors.containers.materials.Material object at 0x0000027F7C323A08>, 'hasteCProperties': {}, 'hasteB': <snapReactors.containers.materials.Material object at 0x0000027F7C31FDC8>, 'hasteBProperties': {}}}\n",
      "\n",
      "\n",
      "Component c1\n",
      "<snapReactors.containers.component.Component object at 0x0000027F7C24CD48>\n",
      "\n",
      "\n",
      "Component c1 Materials\n",
      "{'hasteC': <snapReactors.containers.materials.Material object at 0x0000027F7C323A08>, 'hasteCProperties': {}, 'hasteB': <snapReactors.containers.materials.Material object at 0x0000027F7C31FDC8>, 'hasteBProperties': {}}\n",
      "\n",
      "\n",
      "Component c1 Material hasteC\n",
      "{'id': 'hasteC', 'utype': <UTYPE.NONE: 4>, 'ctype': <CTYPE.RELATIVE: 3>, 'abundances': array([7.00000000e-04, 1.25000000e-02, 6.95200000e-03, 1.34062400e-01,\n",
      "       1.52016000e-02, 3.78400000e-03, 2.49033000e-02, 1.56179000e-02,\n",
      "       2.69841000e-02, 2.83441000e-02, 1.62894000e-02, 4.12964000e-02,\n",
      "       1.65648000e-02, 7.50000000e-06, 2.99250000e-03, 4.80000000e-04,\n",
      "       1.06000000e-01, 5.72400000e-02, 1.22560000e-01, 1.13720000e-01,\n",
      "       3.36087500e-03, 5.27585500e-02, 1.21842500e-03, 1.62150000e-04,\n",
      "       1.00000000e-02, 6.45561000e-03, 3.27950000e-04, 3.27950000e-04,\n",
      "       1.22060089e-01, 4.70180183e-02, 2.04384070e-03, 6.51665850e-03,\n",
      "       1.65960080e-03]), 'isotopes': array([ 6000., 27059., 24050., 24052., 24053., 24054., 42092., 42094.,\n",
      "       42095., 42096., 42097., 42098., 42100., 23050., 23051., 74180.,\n",
      "       74182., 74183., 74184., 74186., 26054., 26056., 26057., 26058.,\n",
      "       25055., 14028., 14029., 14030., 28058., 28060., 28061., 28062.,\n",
      "       28064.]), 'unc': None, 'reference': ' NA-Examples\\n', 'description': ' This is an example input file\\n', '_properties': [], '_propertiesDict': {}}\n",
      "\n",
      "\n"
     ]
    }
   ],
   "source": [
    "#Returns a dictionary with all components in the database\n",
    "print(\"Components\")\n",
    "print(ex2.find(\"Components\"))\n",
    "print(\"\\n\")\n",
    "\n",
    "#Returns a specific Component\n",
    "print(\"Component c1\")\n",
    "print(ex2.find(\"Components\\\\c1\"))\n",
    "print(\"\\n\")\n",
    "\n",
    "#Returns a dictionary with all materials for a specific component\n",
    "print(\"Component c1 Materials\")\n",
    "print(ex2.find(\"Components\\\\c1\\\\Materials\"))\n",
    "print(\"\\n\")\n",
    "\n",
    "\n",
    "#Returns a specific material container for a specific component\n",
    "print(\"Component c1 Material hasteC\")\n",
    "print(ex2.find(\"Components\\\\c1\\\\Materials\\\\hasteC\"))\n",
    "print(\"\\n\")\n"
   ]
  },
  {
   "cell_type": "markdown",
   "metadata": {},
   "source": [
    "## Markdown file updates"
   ]
  },
  {
   "cell_type": "markdown",
   "metadata": {},
   "source": [
    "When writing new data to the database, the changes are tabulated near the bottom of README.md. An example is shown below:"
   ]
  },
  {
   "cell_type": "markdown",
   "metadata": {},
   "source": [
    "<img src=\"markdownlog.png\">"
   ]
  }
 ],
 "metadata": {
  "kernelspec": {
   "display_name": "Python 3 (ipykernel)",
   "language": "python",
   "name": "python3"
  },
  "language_info": {
   "codemirror_mode": {
    "name": "ipython",
    "version": 3
   },
   "file_extension": ".py",
   "mimetype": "text/x-python",
   "name": "python",
   "nbconvert_exporter": "python",
   "pygments_lexer": "ipython3",
   "version": "3.7.4"
  }
 },
 "nbformat": 4,
 "nbformat_minor": 2
}
