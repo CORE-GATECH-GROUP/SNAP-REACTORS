{
 "cells": [
  {
   "cell_type": "markdown",
   "metadata": {},
   "source": [
    "# snapReactors"
   ]
  },
  {
   "cell_type": "markdown",
   "metadata": {},
   "source": [
    "Copyright (c) Dan Kotlyar and CoRE group"
   ]
  },
  {
   "cell_type": "markdown",
   "metadata": {},
   "source": [
    "# Materials Container"
   ]
  },
  {
   "cell_type": "markdown",
   "metadata": {},
   "source": [
    "##  Description"
   ]
  },
  {
   "cell_type": "markdown",
   "metadata": {},
   "source": [
    "**Allows to add new material sets and modify or create a new h5 file**\n",
    "\n",
    "Add a short description of the container."
   ]
  },
  {
   "cell_type": "markdown",
   "metadata": {},
   "source": [
    "### Code: "
   ]
  },
  {
   "cell_type": "markdown",
   "metadata": {},
   "source": [
    "```python\n",
    "    >>> UC = Material(\"UC\", np.array([300, 900, 1800]))\n",
    "    >>> UC.addproperty(\"tc\", np.array([15.0, 13.5, 9.0]))\n",
    "    >>> addMaterial(material=UC,\n",
    "    ...             newFile=\"../tests/ThermoPhysicalPropertiesMod.h5\",\n",
    "    ...             origFile=\"../database/ThermoPhysicalProperties.h5\",\n",
    "    ...             copyMat=True)\n",
    "```"
   ]
  },
  {
   "cell_type": "markdown",
   "metadata": {},
   "source": [
    "You can describe the important bits of inputs"
   ]
  },
  {
   "cell_type": "markdown",
   "metadata": {},
   "source": [
    "### Notes: "
   ]
  },
  {
   "cell_type": "markdown",
   "metadata": {},
   "source": [
    "```python\n",
    "    >>> UC = Material(\"UC\", np.array([300, 900, 1800]))\n",
    "    >>> UC.addproperty(\"tc\", np.array([15.0, 13.5, 9.0]))\n",
    "    >>> addMaterial(material=UC,\n",
    "    ...             newFile=\"../tests/ThermoPhysicalPropertiesMod.h5\",\n",
    "    ...             origFile=\"../database/ThermoPhysicalProperties.h5\",\n",
    "    ...             copyMat=True)\n",
    "```"
   ]
  },
  {
   "cell_type": "markdown",
   "metadata": {},
   "source": [
    "You can describe the important bits of inputs"
   ]
  },
  {
   "cell_type": "markdown",
   "metadata": {},
   "source": [
    "##  Execute"
   ]
  },
  {
   "cell_type": "code",
   "execution_count": 12,
   "metadata": {},
   "outputs": [],
   "source": [
    "import numpy as np\n",
    "from snapReactors.containers.materials import Material"
   ]
  },
  {
   "cell_type": "markdown",
   "metadata": {},
   "source": [
    "### Set a new material"
   ]
  },
  {
   "cell_type": "markdown",
   "metadata": {},
   "source": [
    "#### Define the material\n",
    "1. name of the material,\n",
    "2. its dependencies (pressure and temperature or just temperature)"
   ]
  },
  {
   "cell_type": "code",
   "execution_count": 13,
   "metadata": {},
   "outputs": [],
   "source": [
    "newmat = Material(\"newMat\", np.array([300, 900, 1800]), np.array([10E+6, 11E+6]))"
   ]
  },
  {
   "cell_type": "markdown",
   "metadata": {},
   "source": [
    "#### Add properties to the material\n",
    "1. The properties must be from the following list: ['cp', 'cv', 'g', 'h', 'my', 'pr', 'r', 's', 'tc', 'v']\n",
    "2. The dimensions of the property must allign with the pressure-temperature definition."
   ]
  },
  {
   "cell_type": "code",
   "execution_count": 14,
   "metadata": {},
   "outputs": [],
   "source": [
    "newmat.addproperty(\"my\", np.array([[15.0, 13.5, 9.0], [14.9, 13.4, 8.9]]))\n",
    "newmat.addproperty(\"tc\", np.array([[15.0, 13.5, 9.0], [14.9, 13.4, 8.9]]))"
   ]
  },
  {
   "cell_type": "code",
   "execution_count": null,
   "metadata": {},
   "outputs": [],
   "source": []
  },
  {
   "cell_type": "markdown",
   "metadata": {},
   "source": [
    "#### Add material definitions"
   ]
  },
  {
   "cell_type": "code",
   "execution_count": 17,
   "metadata": {},
   "outputs": [
    {
     "ename": "AttributeError",
     "evalue": "'Material' object has no attribute 'readData'",
     "output_type": "error",
     "traceback": [
      "\u001b[1;31m---------------------------------------------------------------------------\u001b[0m",
      "\u001b[1;31mAttributeError\u001b[0m                            Traceback (most recent call last)",
      "\u001b[1;32m~\\AppData\\Local\\Temp/ipykernel_16856/560881426.py\u001b[0m in \u001b[0;36m<module>\u001b[1;34m\u001b[0m\n\u001b[1;32m----> 1\u001b[1;33m \u001b[0mnewmat\u001b[0m\u001b[1;33m.\u001b[0m\u001b[0mreadData\u001b[0m\u001b[1;33m(\u001b[0m\u001b[1;34m'test.txt'\u001b[0m\u001b[1;33m)\u001b[0m\u001b[1;33m\u001b[0m\u001b[1;33m\u001b[0m\u001b[0m\n\u001b[0m",
      "\u001b[1;31mAttributeError\u001b[0m: 'Material' object has no attribute 'readData'"
     ]
    }
   ],
   "source": [
    "newmat.readData('test.txt')"
   ]
  }
 ],
 "metadata": {
  "kernelspec": {
   "display_name": "Python 3",
   "language": "python",
   "name": "python3"
  },
  "language_info": {
   "codemirror_mode": {
    "name": "ipython",
    "version": 3
   },
   "file_extension": ".py",
   "mimetype": "text/x-python",
   "name": "python",
   "nbconvert_exporter": "python",
   "pygments_lexer": "ipython3",
   "version": "3.8.8"
  }
 },
 "nbformat": 4,
 "nbformat_minor": 2
}
