{
 "cells": [
  {
   "cell_type": "markdown",
   "metadata": {},
   "source": [
    "# snapReactors"
   ]
  },
  {
   "cell_type": "markdown",
   "metadata": {},
   "source": [
    "Copyright (c) Dan Kotlyar and CoRE group"
   ]
  },
  {
   "cell_type": "markdown",
   "metadata": {},
   "source": [
    "# Materials Container"
   ]
  },
  {
   "cell_type": "markdown",
   "metadata": {},
   "source": [
    "* This container stores materials information such as isotopic definition, abundances, uncertainties and material properties.\n",
    "* The container also stores, modifies or creates new h5 files for data storage."
   ]
  },
  {
   "cell_type": "markdown",
   "metadata": {},
   "source": [
    "## Code: "
   ]
  },
  {
   "cell_type": "code",
   "execution_count": 1,
   "metadata": {},
   "outputs": [],
   "source": [
    "import numpy as np\n",
    "from snapReactors.containers.materials import Material, Composition"
   ]
  },
  {
   "cell_type": "markdown",
   "metadata": {},
   "source": [
    "## Defining a new material"
   ]
  },
  {
   "cell_type": "markdown",
   "metadata": {},
   "source": [
    "### Define with Materials container"
   ]
  },
  {
   "cell_type": "markdown",
   "metadata": {},
   "source": [
    "1. Give name of material\n",
    "2. Give type of uncertainty, must be in ``Enum.UTYPE``\n",
    "3. Give the composition type, must be in ``Enum.CTYPE``\n",
    "4. Give the isotopes that define a material\n",
    "5. Give the abundances for each isotope\n",
    "6. The uncertainty value, temperature and pressure dependencies, reference, description and filename to read data from are left as optional parameters.\n",
    "    1. Note that temperature and pressure dependencies must be under ``ALLOWED_PROPERTIES``\n"
   ]
  },
  {
   "cell_type": "code",
   "execution_count": 2,
   "metadata": {},
   "outputs": [
    {
     "name": "stdout",
     "output_type": "stream",
     "text": [
      "{'matName': 'newMat', 'utype': <UTYPE.NONE: 4>, 'ctype': <CTYPE.WEIGHT: 2>, 'abundances': array([], dtype=float64), 'isotopes': array([], dtype=float64), 'unc': None, 'temperatures': array([ 300,  900, 1800]), 'pressures': array([10000000., 11000000.]), 'reference': None, 'description': 'This is an example', 'filename': None, '_properties': []}\n"
     ]
    }
   ],
   "source": [
    "mat1 = Material(\"newMat\", 'NONE', 'WEIGHT', np.array([]), np.array([]), None, np.array([300, 900, 1800]), np.array([10E+6, 11E+6]), reference=None, description='This is an example')\n",
    "print(mat1)"
   ]
  },
  {
   "cell_type": "markdown",
   "metadata": {},
   "source": [
    "### Using the Composition subcontainer"
   ]
  },
  {
   "cell_type": "markdown",
   "metadata": {},
   "source": [
    "The goal of the ``Composition`` subcontainer is to provide an easier interface. As such this effectively excludes temperature and pressure dependencies.\n",
    "1. Give name of material\n",
    "2. Give type of uncertainty, must be in ``Enum.UTYPE``\n",
    "3. Give the composition type, must be in ``Enum.CTYPE``\n",
    "4. Give the isotopes that define a material\n",
    "5. Give the abundances for each isotopes"
   ]
  },
  {
   "cell_type": "code",
   "execution_count": 3,
   "metadata": {},
   "outputs": [
    {
     "name": "stdout",
     "output_type": "stream",
     "text": [
      "{'matName': 'newmat', 'utype': <UTYPE.NONE: 4>, 'ctype': <CTYPE.WEIGHT: 2>, 'abundances': array([], dtype=float64), 'isotopes': array([], dtype=float64), 'unc': None, 'temperatures': None, 'pressures': None, 'reference': None, 'description': 'This example uses the Composition subcontainer', 'filename': None, '_properties': []}\n"
     ]
    }
   ],
   "source": [
    "mat2 = Composition('newmat', 'NONE', 'WEIGHT', np.array([]), np.array([]), description='This example uses the Composition subcontainer')\n",
    "print(mat2)"
   ]
  },
  {
   "cell_type": "markdown",
   "metadata": {},
   "source": [
    "### Reading in isotopic defintiion through a text file"
   ]
  },
  {
   "cell_type": "markdown",
   "metadata": {},
   "source": [
    "1. The ``Materials.readData(filename)`` method is used to read in isotopic definitions through a text file. \n",
    "2. The text file follows a specific structure that pulls in isotope name, abundance, and uncertainty.\n",
    "    1. Uncertainties are left as an optional parameter\n"
   ]
  },
  {
   "cell_type": "markdown",
   "metadata": {},
   "source": [
    "####  Example text file shown below"
   ]
  },
  {
   "cell_type": "code",
   "execution_count": 10,
   "metadata": {},
   "outputs": [
    {
     "name": "stdout",
     "output_type": "stream",
     "text": [
      "Material hasteC\n",
      "6000.03c     -0.0007    \n",
      "27059.03c    -0.0125    \n",
      "24050.03c    -0.006952\n",
      "24052.03c    -0.1340624\n",
      "24053.03c    -0.0152016\n",
      "24054.03c    -0.003784\n",
      "42092.03c    -0.0249033\n",
      "42094.03c    -0.0156179\n",
      "42095.03c    -0.0269841\n",
      "42096.03c    -0.0283441\n",
      "42097.03c    -0.0162894\n",
      "42098.03c    -0.0412964\n",
      "42100.03c    -0.0165648\n",
      "23050.03c    -0.0000075\n",
      "23051.03c    -0.0029925\n",
      "74180.03c    -0.00048\n",
      "74182.03c    -0.106\n",
      "74183.03c    -0.05724\n",
      "74184.03c    -0.12256\n",
      "74186.03c    -0.11372\n",
      "26054.03c    -0.003360875\n",
      "26056.03c    -0.05275855\n",
      "26057.03c    -0.001218425\n",
      "26058.03c    -0.00016215\n",
      "25055.03c    -0.01     \n",
      "14028.03c     -0.00645561\n",
      "14029.03c     -0.00032795\n",
      "14030.03c     -0.00032795\n",
      "28058.03c     -0.1220600887\n",
      "28060.03c     -0.0470180183\n",
      "28061.03c     -0.0020438407\n",
      "28062.03c     -0.0065166585\n",
      "28064.03c     -0.0016596008\n"
     ]
    }
   ],
   "source": [
    "text_file = open('test.txt')\n",
    "#text_file = open('test.txt')\n",
    "file_content = text_file.read()\n",
    "print(file_content)\n",
    "text_file.close()"
   ]
  },
  {
   "cell_type": "markdown",
   "metadata": {},
   "source": [
    "#### Materials definition returned by readData"
   ]
  },
  {
   "cell_type": "code",
   "execution_count": 11,
   "metadata": {},
   "outputs": [
    {
     "name": "stdout",
     "output_type": "stream",
     "text": [
      "{'matName': 'newMat', 'utype': <UTYPE.NONE: 4>, 'ctype': <CTYPE.WEIGHT: 2>, 'abundances': array([-7.00000000e-04, -1.25000000e-02, -6.95200000e-03, -1.34062400e-01,\n",
      "       -1.52016000e-02, -3.78400000e-03, -2.49033000e-02, -1.56179000e-02,\n",
      "       -2.69841000e-02, -2.83441000e-02, -1.62894000e-02, -4.12964000e-02,\n",
      "       -1.65648000e-02, -7.50000000e-06, -2.99250000e-03, -4.80000000e-04,\n",
      "       -1.06000000e-01, -5.72400000e-02, -1.22560000e-01, -1.13720000e-01,\n",
      "       -3.36087500e-03, -5.27585500e-02, -1.21842500e-03, -1.62150000e-04,\n",
      "       -1.00000000e-02, -6.45561000e-03, -3.27950000e-04, -3.27950000e-04,\n",
      "       -1.22060089e-01, -4.70180183e-02, -2.04384070e-03, -6.51665850e-03,\n",
      "       -1.65960080e-03]), 'isotopes': array(['6000.03c', '27059.03c', '24050.03c', '24052.03c', '24053.03c',\n",
      "       '24054.03c', '42092.03c', '42094.03c', '42095.03c', '42096.03c',\n",
      "       '42097.03c', '42098.03c', '42100.03c', '23050.03c', '23051.03c',\n",
      "       '74180.03c', '74182.03c', '74183.03c', '74184.03c', '74186.03c',\n",
      "       '26054.03c', '26056.03c', '26057.03c', '26058.03c', '25055.03c',\n",
      "       '14028.03c', '14029.03c', '14030.03c', '28058.03c', '28060.03c',\n",
      "       '28061.03c', '28062.03c', '28064.03c'], dtype=object), 'unc': None, 'temperatures': array([ 300,  900, 1800]), 'pressures': array([10000000., 11000000.]), 'reference': None, 'description': 'This is an example', 'filename': None, '_properties': []}\n"
     ]
    }
   ],
   "source": [
    "Material.readData(mat1, 'test.txt', utype='NONE')\n",
    "print(mat1)"
   ]
  },
  {
   "cell_type": "markdown",
   "metadata": {},
   "source": [
    "## Updating properties to materials"
   ]
  },
  {
   "cell_type": "markdown",
   "metadata": {},
   "source": [
    "1. The properties must be from the following list: ['cp', 'cv', 'g', 'h', 'my', 'pr', 'r', 's', 'tc', 'v']\n",
    "2. The dimensions of the property must align with the pressure-temperature definition.\n",
    "3. ``addproperty`` fails when there is repeated definitions"
   ]
  },
  {
   "cell_type": "code",
   "execution_count": null,
   "metadata": {},
   "outputs": [
    {
     "name": "stdout",
     "output_type": "stream",
     "text": [
      "{'matName': 'newMat', 'utype': <UTYPE.NONE: 4>, 'ctype': <CTYPE.WEIGHT: 2>, 'abundances': array([], dtype=float64), 'isotopes': array([], dtype=float64), 'unc': None, 'temperatures': array([ 300,  900, 1800]), 'pressures': array([10000000., 11000000.]), 'reference': None, 'description': 'This is an example', 'filename': None, '_properties': ['my', 'tc'], 'my': array([[15. , 13.5,  9. ],\n",
      "       [14.9, 13.4,  8.9]]), 'tc': array([[15. , 13.5,  9. ],\n",
      "       [14.9, 13.4,  8.9]])}\n"
     ]
    }
   ],
   "source": [
    "mat1.addproperty(\"my\", np.array([[15.0, 13.5, 9.0], [14.9, 13.4, 8.9]]))\n",
    "mat1.addproperty(\"tc\", np.array([[15.0, 13.5, 9.0], [14.9, 13.4, 8.9]]))\n",
    "print(mat1)"
   ]
  }
 ],
 "metadata": {
  "kernelspec": {
   "display_name": "Python 3",
   "language": "python",
   "name": "python3"
  },
  "language_info": {
   "codemirror_mode": {
    "name": "ipython",
    "version": 3
   },
   "file_extension": ".py",
   "mimetype": "text/x-python",
   "name": "python",
   "nbconvert_exporter": "python",
   "pygments_lexer": "ipython3",
   "version": "3.8.5"
  }
 },
 "nbformat": 4,
 "nbformat_minor": 2
}
