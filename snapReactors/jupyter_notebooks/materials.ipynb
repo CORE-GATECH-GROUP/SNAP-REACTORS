{
 "cells": [
  {
   "cell_type": "markdown",
   "metadata": {},
   "source": [
    "# snapReactors"
   ]
  },
  {
   "cell_type": "markdown",
   "metadata": {},
   "source": [
    "Copyright (c) Dan Kotlyar and CoRE group"
   ]
  },
  {
   "cell_type": "markdown",
   "metadata": {},
   "source": [
    "# Materials Container"
   ]
  },
  {
   "cell_type": "markdown",
   "metadata": {},
   "source": [
    "* This container stores materials information such as isotopic definition, abundances, uncertainties and material properties.\n",
    "* The container also stores, modifies or creates new h5 files for data storage."
   ]
  },
  {
   "cell_type": "markdown",
   "metadata": {},
   "source": [
    "## Code: "
   ]
  },
  {
   "cell_type": "code",
   "execution_count": 3,
   "metadata": {},
   "outputs": [],
   "source": [
    "import numpy as np\n",
    "import sympy as sp\n",
    "from snapReactors.containers.materials import Material\n",
    "from snapReactors.containers.property import Constant, Table, Correlation"
   ]
  },
  {
   "cell_type": "markdown",
   "metadata": {},
   "source": [
    "## Defining a new material"
   ]
  },
  {
   "cell_type": "markdown",
   "metadata": {},
   "source": [
    "### Define with Materials container"
   ]
  },
  {
   "cell_type": "markdown",
   "metadata": {},
   "source": [
    "1. Give name of material\n",
    "2. Give type of uncertainty, must be in ``Enum.UTYPE`` which are:\n",
    "    - ABSOLUTE \n",
    "    - RELATIVE\n",
    "    - PERCENTAGE\n",
    "    - NONE\n",
    "3. Give the composition type, must be in ``Enum.CTYPE`` which are:\n",
    "    - WDENSITY (weight density g/cc)\n",
    "    - ADENSITY (atomic density a/b-cm)\n",
    "    - WEIGHT (weight fraction)\n",
    "    - ATOMIC (atomic fraction)\n",
    "4. Give the isotopes that define a material as a np.array\n",
    "5. Give the abundances for each isotope as a np.array\n",
    "6. The uncertainty value, reference, description, and properties are left as optional parameters.\n",
    "    1. Note that properties must be under ``ALLOWED_PROPERTIES``\n"
   ]
  },
  {
   "cell_type": "code",
   "execution_count": 4,
   "metadata": {},
   "outputs": [
    {
     "name": "stdout",
     "output_type": "stream",
     "text": [
      "{'matName': ['mat1'], 'utype': [<UTYPE.NONE: 4>], 'ctype': [<CTYPE.WEIGHT: 2>], 'abundances': [array([], dtype=float64)], 'isotopes': [array([], dtype=float64)], 'unc': [None], 'reference': [None], 'description': ['This is an example'], '_properties': [None]}\n"
     ]
    }
   ],
   "source": [
    "mat1 = Material(\"mat1\", 'NONE', 'WEIGHT', np.array([]), np.array([]), None, reference=None, description='This is an example', _properties=None)\n",
    "print(mat1)"
   ]
  },
  {
   "cell_type": "markdown",
   "metadata": {},
   "source": [
    "#### Properties may be inputted as a list of properties or a single property"
   ]
  },
  {
   "cell_type": "code",
   "execution_count": 5,
   "metadata": {},
   "outputs": [
    {
     "name": "stdout",
     "output_type": "stream",
     "text": [
      "{'matName': ['mat2'], 'utype': [<UTYPE.NONE: 4>], 'ctype': [<CTYPE.WEIGHT: 2>], 'abundances': [array([], dtype=float64)], 'isotopes': [array([], dtype=float64)], 'unc': [None], 'reference': [None], 'description': ['This is an example'], '_properties': [<snapReactors.containers.property.Constant object at 0x000001B2DE2BF430>]}\n",
      "{'matName': ['mat3'], 'utype': [<UTYPE.NONE: 4>], 'ctype': [<CTYPE.WEIGHT: 2>], 'abundances': [array([], dtype=float64)], 'isotopes': [array([], dtype=float64)], 'unc': [None], 'reference': [None], 'description': ['This is an example'], '_properties': [<snapReactors.containers.property.Table object at 0x000001B2DE2BF400>, <snapReactors.containers.property.Correlation object at 0x000001B2DE2BF640>]}\n"
     ]
    }
   ],
   "source": [
    "p1 = Constant(id='cv',  value=1, unit= \"J/kg/K\", unc=None, ref=None, description=None)\n",
    "mat2 = Material(\"mat2\", 'NONE', 'WEIGHT', np.array([]), np.array([]), None, reference=None, description='This is an example', _properties=p1)\n",
    "print(mat2)\n",
    "\n",
    "p2 = Table('h',  np.array([1, 2, 3, 4]), 'W/K/m^2', np.array([100, 200, 300, 400]), 'K',  unc = np.array([.01, .01, .01, .01]), dependency2=None, dependencyUnit2=None, ref=None, description=None)\n",
    "corr1 = \"T**2 + P + 1/2\"\n",
    "syms1 = \"T, P\"\n",
    "p3 = Correlation('h', corr1, syms1, 'W/K/m^2', np.array([300, 600]), 'K', np.array([10, 20]), 'Pa', unc=None, ref=None, description=None)\n",
    "properties = [p2, p3]\n",
    "mat3 = Material(\"mat3\", 'NONE', 'WEIGHT', np.array([]), np.array([]), None, reference=None, description='This is an example', _properties=properties)\n",
    "print(mat3)"
   ]
  },
  {
   "cell_type": "markdown",
   "metadata": {},
   "source": [
    "### Reading in isotopic defintion through a text file"
   ]
  },
  {
   "cell_type": "markdown",
   "metadata": {},
   "source": [
    "The ``Materials.readData(filename)`` method is used to read in all relevant materials information through a text file. There are several rules to keep in mind for the structure of the text file:\n",
    "1. The ``Material Name`` must be indicated at the beginning of every material data section with the following format:\n",
    "    - Material Name: Example Name\n",
    "2. The ``ctype``, ``utype``, and ``Number of isotopes`` must be indicated before the beginning of ``Isotopic Definition`` although their order doesn't matter. \n",
    "3. The ``Isotopic Definition`` must have a line between itself and where the definition begins. In the example below a dashed line is used to indicate this seperation.\n",
    "4. For each input a colon is used to seperate the keyword and input, for example:\n",
    "    - utype: NONE\n",
    "5. The location of ``Reference`` and ``Description`` for a specific material must be placed before the beginning of the next ``Material Name`` if present. \n",
    "\n",
    "Material Property data can be read in by adding a ``Properties`` section. \n",
    "1. The location of ``Properties`` must be before the beginning of the next ``Material Name`` and is indicated with curly brackets:\n",
    "   ```\n",
    "    Properties: {\n",
    "        \n",
    "    }\n",
    "    ```\n",
    "2. The formatting for the ``Properties`` information only requires there to be a colon in between the keyword and value, and that each keyword be on its own line\n",
    "    ```\n",
    "        type = const, table, corr\n",
    "        id = property id\n",
    "        unit = SI or imperial\n",
    "        must have a \":\" between keyword and value i.e \"keyword: value\"\n",
    "        each keyword must on its own line i.e \n",
    "         keyword1: val1 \n",
    "         keyword: val2\n",
    "\n",
    "        array type inputs are denoted using \"[]\" i.e [1, 2] or [1 2] \n",
    "        multidimensional arrays can be denoted using the \";\" matlab style i.e\n",
    "         [1 2; 3 4] or [1, 2;\n",
    "                        3, 4]\n",
    "         or by using a newline i.e\n",
    "           [1 2\n",
    "            3 4] \n",
    "        Supports comments by preceeding a line with \"%\"\n",
    "        Examples are included below\n",
    "    }\n",
    "    ```\n",
    "3. Structure of ``Properties`` input is outlined in Property Container documentation.\n",
    "\n",
    "Optional parameters such as reference or uncertainty values can be left out, however, warnings will be highlighted to the user. Two examples for the Material Property data are shown below."
   ]
  },
  {
   "cell_type": "markdown",
   "metadata": {},
   "source": [
    "####  Example text file shown below"
   ]
  },
  {
   "cell_type": "code",
   "execution_count": 10,
   "metadata": {},
   "outputs": [
    {
     "name": "stdout",
     "output_type": "stream",
     "text": [
      "Material Name: hasteC\n",
      "ctype: RELATIVE\n",
      "utype: NONE\n",
      "Number of isotopes: 33\n",
      "Isotopic Definition:\n",
      "-------------------\n",
      "6000.03c      0.0007    \n",
      "27059.03c     0.0125    \n",
      "24050.03c     0.006952\n",
      "24052.03c     0.1340624\n",
      "24053.03c     0.0152016\n",
      "24054.03c     0.003784\n",
      "42092.03c     0.0249033\n",
      "42094.03c     0.0156179\n",
      "42095.03c     0.0269841\n",
      "42096.03c     0.0283441\n",
      "42097.03c     0.0162894\n",
      "42098.03c     0.0412964\n",
      "42100.03c     0.0165648\n",
      "23050.03c     0.0000075\n",
      "23051.03c     0.0029925\n",
      "74180.03c     0.00048\n",
      "74182.03c     0.106\n",
      "74183.03c     0.05724\n",
      "74184.03c     0.12256\n",
      "74186.03c     0.11372\n",
      "26054.03c     0.003360875\n",
      "26056.03c     0.05275855\n",
      "26057.03c     0.001218425\n",
      "26058.03c     0.00016215\n",
      "25055.03c     0.01     \n",
      "14028.03c     0.00645561\n",
      "14029.03c     0.00032795\n",
      "14030.03c     0.00032795\n",
      "28058.03c     0.1220600887\n",
      "28060.03c     0.0470180183\n",
      "28061.03c     0.0020438407\n",
      "28062.03c     0.0065166585\n",
      "28064.03c     0.0016596008\n",
      "\n",
      "Properties: {\n",
      "%property values for material\n",
      "%type = const, table, corr\n",
      "%id = property id\n",
      "%unit = SI or imperial\n",
      "%must have a \":\" between keyword and value i.e \"keyword: value\"\n",
      "%each keyword must on its own line i.e \n",
      "% keyword1: val1 \n",
      "% keyword: val2\n",
      "%array type inputs are denoted using \"[]\" i.e [1, 2] or [1 2] \n",
      "%multidimensional arrays can be denoted using the \";\" matlab style i.e\n",
      "% [1 2; 3 4] or [1, 2;\n",
      "%                3, 4]\n",
      "% or by using a newline i.e\n",
      "%   [1 2\n",
      "     3 4] \n",
      "%Supports comments by preceeding a line with \"%\"\n",
      "%Examples are included below\n",
      "\n",
      "type:const\n",
      "id:cp\n",
      "unit:SI \n",
      "value:[1]\n",
      "unc:[.01]\n",
      "\n",
      "type:table \n",
      "id:h \n",
      "unit:imperial \n",
      "ref:NAA-SR-6160 \n",
      "dep1unit:K \n",
      "dep1values: [1 2]\n",
      "dep2unit:Pa \n",
      "dep2values: [.1 .2]\n",
      "value: [1.1 2.1\n",
      "        3.1 4.1]\n",
      "unc: [1 1\n",
      "        1 1]\n",
      "\n",
      "type:corr\n",
      "id:r \n",
      "unit:SI \n",
      "ref:NAA-SR-3120\n",
      "corr:T+P**2\n",
      "deps:T,P\n",
      "dep1unit:K \n",
      "dep2unit:Pa\n",
      "dep1range: [300,900] \n",
      "dep2range: [16,48]\n",
      "        }\n",
      "Reference: NA-Examples\n",
      "Description: This is an example input file\n",
      "\n",
      "Material Name: hasteB\n",
      "ctype: RELATIVE\n",
      "utype: NONE\n",
      "Number of isotopes: 33\n",
      "Isotopic Definition:\n",
      "--------------------\n",
      "6000.03c     0.0007    \n",
      "27059.03c    0.0125    \n",
      "24050.03c    0.006952\n",
      "24052.03c    0.1340624\n",
      "24053.03c    0.0152016\n",
      "24054.03c    0.003784\n",
      "42092.03c    0.0249033\n",
      "42094.03c    0.0156179\n",
      "42095.03c    0.0269841\n",
      "42096.03c    0.0283441\n",
      "42097.03c    0.0162894\n",
      "42098.03c    0.0412964\n",
      "42100.03c    0.0165648\n",
      "23050.03c    0.0000075\n",
      "23051.03c    0.0029925\n",
      "74180.03c    0.00048\n",
      "74182.03c    0.106\n",
      "74183.03c    0.05724\n",
      "74184.03c    0.12256\n",
      "74186.03c    0.11372\n",
      "26054.03c    0.003360875\n",
      "26056.03c    0.05275855\n",
      "26057.03c    0.001218425\n",
      "26058.03c    0.00016215\n",
      "25055.03c    0.01     \n",
      "14028.03c    0.00645561\n",
      "14029.03c    0.00032795\n",
      "14030.03c    0.00032795\n",
      "28058.03c    0.1220600887\n",
      "28060.03c    0.0470180183\n",
      "28061.03c    0.0020438407\n",
      "28062.03c    0.0065166585\n",
      "28064.03c    0.0016596008\n",
      "\n",
      "Properties: {\n",
      "%property values for material\n",
      "%type = const, table, corr\n",
      "%id = property id\n",
      "%unit = SI or imperial\n",
      "%must have a \":\" between keyword and value i.e \"keyword: value\"\n",
      "%each keyword must on its own line i.e \n",
      "% keyword1: val1 \n",
      "% keyword: val2\n",
      "%array type inputs are denoted using \"[]\" i.e [1, 2] or [1 2] \n",
      "%multidimensional arrays can be denoted using the \";\" matlab style i.e\n",
      "% [1 2; 3 4] or [1, 2;\n",
      "%                3, 4]\n",
      "% or by using a newline i.e\n",
      "%   [1 2\n",
      "     3 4] \n",
      "%Supports comments by preceeding a line with \"%\"\n",
      "%Examples are included below\n",
      "\n",
      "type:const\n",
      "id:cp\n",
      "unit:SI \n",
      "value:[1]\n",
      "unc:[.01]\n",
      "\n",
      "type:table \n",
      "id:h \n",
      "unit:imperial \n",
      "ref:NAA-SR-6160 \n",
      "dep1unit:K \n",
      "dep1values: [1 2]\n",
      "dep2unit:Pa \n",
      "dep2values: [.1 .2]\n",
      "value: [1.1 2.1\n",
      "        3.1 4.1]\n",
      "unc: [1 1\n",
      "        1 1]\n",
      "\n",
      "type:corr\n",
      "id:r \n",
      "unit:SI \n",
      "ref:NAA-SR-3120\n",
      "corr:T+P**2\n",
      "deps:T,P\n",
      "dep1unit:K \n",
      "dep2unit:Pa\n",
      "dep1range: [300,900] \n",
      "dep2range: [16,48]\n",
      "}\n",
      "Reference: NA-Examples\n",
      "Description: This is an example input file\n"
     ]
    }
   ],
   "source": [
    "text_file = open('test.txt')\n",
    "file_content = text_file.read()\n",
    "print(file_content)\n",
    "text_file.close()"
   ]
  },
  {
   "cell_type": "markdown",
   "metadata": {},
   "source": [
    "#### Materials definition returned by readData"
   ]
  },
  {
   "cell_type": "code",
   "execution_count": 8,
   "metadata": {},
   "outputs": [
    {
     "name": "stdout",
     "output_type": "stream",
     "text": [
      "[<snapReactors.containers.materials.Material object at 0x000001B2DE418FA0>, <snapReactors.containers.materials.Material object at 0x000001B2DE4DF6A0>]\n"
     ]
    },
    {
     "name": "stderr",
     "output_type": "stream",
     "text": [
      "c:\\Users\\iaguirre6\\Documents\\GitHub\\docTEST\\snapReactors\\containers\\property.py:669: InputFileSyntaxWarning: reference not given for cp const property @ line: 19\n",
      "  warnings.warn(\"reference not given for {} {} property @\"\n",
      "c:\\Users\\iaguirre6\\Documents\\GitHub\\docTEST\\snapReactors\\containers\\property.py:868: InputFileSyntaxWarning: uncertainty not given for r corr property @ line: 38\n",
      "  warnings.warn(\"uncertainty not given for {} {} property @\"\n"
     ]
    }
   ],
   "source": [
    "mats = Material.readData('test.txt')\n",
    "print(mats)"
   ]
  },
  {
   "cell_type": "markdown",
   "metadata": {},
   "source": [
    "## Updating properties to materials"
   ]
  },
  {
   "cell_type": "markdown",
   "metadata": {},
   "source": [
    "1. The properties must be from the following list: ['cp', 'cv', 'g', 'h', 'my', 'pr', 'r', 's', 'tc', 'v']"
   ]
  },
  {
   "cell_type": "code",
   "execution_count": null,
   "metadata": {},
   "outputs": [
    {
     "name": "stdout",
     "output_type": "stream",
     "text": [
      "{'id': 'cv', 'dtype': <DTYPE.NUMBER: 1>, 'vtype': <VTYPE.CONSTANT: 1>, 'value': array([1]), 'valueUnit': 'J/kg/K', 'unc': None, 'dependents': None, 'dependentsUnit': None, 'description': None, 'ref': None}\n",
      "{'matName': ['mat3'], 'utype': [<UTYPE.NONE: 4>], 'ctype': [<CTYPE.WEIGHT: 2>], 'abundances': [array([], dtype=float64)], 'isotopes': [array([], dtype=float64)], 'unc': [None], 'reference': [None], 'description': ['This is an example'], '_properties': [<snapReactors.containers.property.Table object at 0x0000020E2EA260A0>, <snapReactors.containers.property.Correlation object at 0x0000020E2EA26250>, <snapReactors.containers.property.Constant object at 0x0000020E2EB83FD0>]}\n"
     ]
    }
   ],
   "source": [
    "p4 = Constant(id='cv',  value=1, unit= \"J/kg/K\", unc=None, ref=None, description=None)\n",
    "print(p4)\n",
    "\n",
    "mat3.addproperty([p4])\n",
    "print(mat3)\n"
   ]
  }
 ],
 "metadata": {
  "kernelspec": {
   "display_name": "Python 3 (ipykernel)",
   "language": "python",
   "name": "python3"
  },
  "language_info": {
   "codemirror_mode": {
    "name": "ipython",
    "version": 3
   },
   "file_extension": ".py",
   "mimetype": "text/x-python",
   "name": "python",
   "nbconvert_exporter": "python",
   "pygments_lexer": "ipython3",
   "version": "3.8.8"
  }
 },
 "nbformat": 4,
 "nbformat_minor": 2
}
