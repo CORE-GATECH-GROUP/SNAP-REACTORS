{
 "cells": [
  {
   "cell_type": "markdown",
   "metadata": {},
   "source": [
    "# snapReactors"
   ]
  },
  {
   "cell_type": "markdown",
   "metadata": {},
   "source": [
    "Copyright (c) Dan Kotlyar and CoRE group"
   ]
  },
  {
   "cell_type": "markdown",
   "metadata": {},
   "source": [
    "# Materials Container"
   ]
  },
  {
   "cell_type": "markdown",
   "metadata": {},
   "source": [
    "* This container stores materials information such as isotopic definition, abundances, uncertainties and material properties.\n",
    "* The container also stores, modifies or creates new h5 files for data storage."
   ]
  },
  {
   "cell_type": "markdown",
   "metadata": {},
   "source": [
    "## Code: "
   ]
  },
  {
   "cell_type": "code",
   "execution_count": 5,
   "metadata": {},
   "outputs": [],
   "source": [
    "import os as os\n",
    "import numpy as np\n",
    "from snapReactors.containers.materials import Material, Composition"
   ]
  },
  {
   "cell_type": "markdown",
   "metadata": {},
   "source": [
    "## Defining a new material"
   ]
  },
  {
   "cell_type": "markdown",
   "metadata": {},
   "source": [
    "### Define with Materials container"
   ]
  },
  {
   "cell_type": "markdown",
   "metadata": {},
   "source": [
    "1. Give name of material\n",
    "2. Give type of uncertainty, must be in ``Enum.UTYPE``\n",
    "3. Give the composition type, must be in ``Enum.CTYPE``\n",
    "4. Give the isotopes that define a material\n",
    "5. Give the abundances for each isotope\n",
    "6. The uncertainty value, temperature and pressure dependencies, reference, description and filename to read data from are left as optional parameters.\n",
    "    1. Note that temperature and pressure dependencies must be under ``ALLOWED_PROPERTIES``\n"
   ]
  },
  {
   "cell_type": "code",
   "execution_count": 6,
   "metadata": {},
   "outputs": [
    {
     "name": "stdout",
     "output_type": "stream",
     "text": [
      "{'matName': ['newMat'], 'utype': [<UTYPE.NONE: 4>], 'ctype': [<CTYPE.WEIGHT: 2>], 'abundances': [array([], dtype=float64)], 'isotopes': [array([], dtype=float64)], 'unc': [None], 'temperatures': [array([ 300,  900, 1800])], 'pressures': [array([10000000., 11000000.])], 'reference': [None], 'description': ['This is an example'], '_properties': []}\n"
     ]
    }
   ],
   "source": [
    "mat1 = Material(\"newMat\", 'NONE', 'WEIGHT', np.array([]), np.array([]), None, np.array([300, 900, 1800]), np.array([10E+6, 11E+6]), reference=None, description='This is an example')\n",
    "print(mat1)"
   ]
  },
  {
   "cell_type": "markdown",
   "metadata": {},
   "source": [
    "### Using the Composition subcontainer"
   ]
  },
  {
   "cell_type": "markdown",
   "metadata": {},
   "source": [
    "The goal of the ``Composition`` subcontainer is to provide an easier interface. As such this effectively excludes temperature and pressure dependencies.\n",
    "1. Give name of material\n",
    "2. Give type of uncertainty, must be in ``Enum.UTYPE``\n",
    "3. Give the composition type, must be in ``Enum.CTYPE``\n",
    "4. Give the isotopes that define a material\n",
    "5. Give the abundances for each isotopes"
   ]
  },
  {
   "cell_type": "code",
   "execution_count": 7,
   "metadata": {},
   "outputs": [
    {
     "name": "stdout",
     "output_type": "stream",
     "text": [
      "{'matName': ['newmat'], 'utype': [<UTYPE.NONE: 4>], 'ctype': [<CTYPE.WEIGHT: 2>], 'abundances': [array([], dtype=float64)], 'isotopes': [array([], dtype=float64)], 'unc': [None], 'temperatures': [None], 'pressures': [None], 'reference': [None], 'description': ['This example uses the Composition subcontainer'], '_properties': []}\n"
     ]
    }
   ],
   "source": [
    "mat2 = Composition('newmat', 'NONE', 'WEIGHT', np.array([]), np.array([]), description='This example uses the Composition subcontainer')\n",
    "print(mat2)"
   ]
  },
  {
   "cell_type": "markdown",
   "metadata": {},
   "source": [
    "### Reading in isotopic defintiion through a text file"
   ]
  },
  {
   "cell_type": "markdown",
   "metadata": {},
   "source": [
    "1. The ``Materials.readData(filename)`` method is used to read in all relevenat materials information through a text file. \n",
    "2. The text file follows a specific structure that pulls in all parameters specific to the material.\n",
    "    1. All parameters must be included in .txt file except for property parameters\n"
   ]
  },
  {
   "cell_type": "markdown",
   "metadata": {},
   "source": [
    "####  Example text file shown below"
   ]
  },
  {
   "cell_type": "code",
   "execution_count": 8,
   "metadata": {},
   "outputs": [
    {
     "name": "stdout",
     "output_type": "stream",
     "text": [
      "Material Name: hasteC\n",
      "ctype: ATOMIC\n",
      "utype: NONE\n",
      "Number of isotopes: 33\n",
      "Isotopic Definition:\n",
      "--------------------\n",
      "6000.03c     -0.0007    \n",
      "27059.03c    -0.0125    \n",
      "24050.03c    -0.006952\n",
      "24052.03c    -0.1340624\n",
      "24053.03c    -0.0152016\n",
      "24054.03c    -0.003784\n",
      "42092.03c    -0.0249033\n",
      "42094.03c    -0.0156179\n",
      "42095.03c    -0.0269841\n",
      "42096.03c    -0.0283441\n",
      "42097.03c    -0.0162894\n",
      "42098.03c    -0.0412964\n",
      "42100.03c    -0.0165648\n",
      "23050.03c    -0.0000075\n",
      "23051.03c    -0.0029925\n",
      "74180.03c    -0.00048\n",
      "74182.03c    -0.106\n",
      "74183.03c    -0.05724\n",
      "74184.03c    -0.12256\n",
      "74186.03c    -0.11372\n",
      "26054.03c    -0.003360875\n",
      "26056.03c    -0.05275855\n",
      "26057.03c    -0.001218425\n",
      "26058.03c    -0.00016215\n",
      "25055.03c    -0.01     \n",
      "14028.03c     -0.00645561\n",
      "14029.03c     -0.00032795\n",
      "14030.03c     -0.00032795\n",
      "28058.03c     -0.1220600887\n",
      "28060.03c     -0.0470180183\n",
      "28061.03c     -0.0020438407\n",
      "28062.03c     -0.0065166585\n",
      "28064.03c     -0.0016596008\n",
      "Properties: [\n",
      "]\n",
      "Reference: NA-Examples\n",
      "Description: This is an example input file\n"
     ]
    }
   ],
   "source": [
    "#text_file = open('test.txt')\n",
    "text_file = open('c:\\\\Users\\\\Samuel\\\\Documents\\\\GitHub\\\\SNAP-REACTORS\\\\snapReactors\\\\containers\\\\test.txt')\n",
    "file_content = text_file.read()\n",
    "print(file_content)\n",
    "text_file.close()"
   ]
  },
  {
   "cell_type": "markdown",
   "metadata": {},
   "source": [
    "#### Materials definition returned by readData"
   ]
  },
  {
   "cell_type": "code",
   "execution_count": 9,
   "metadata": {},
   "outputs": [
    {
     "name": "stdout",
     "output_type": "stream",
     "text": [
      "{'matName': ['newMat', ' hasteC\\n'], 'utype': [<UTYPE.NONE: 4>, <UTYPE.NONE: 4>], 'ctype': [<CTYPE.WEIGHT: 2>, <CTYPE.ATOMIC: 1>], 'abundances': [array([], dtype=float64), array([-7.00000000e-04, -1.25000000e-02, -6.95200000e-03, -1.34062400e-01,\n",
      "       -1.52016000e-02, -3.78400000e-03, -2.49033000e-02, -1.56179000e-02,\n",
      "       -2.69841000e-02, -2.83441000e-02, -1.62894000e-02, -4.12964000e-02,\n",
      "       -1.65648000e-02, -7.50000000e-06, -2.99250000e-03, -4.80000000e-04,\n",
      "       -1.06000000e-01, -5.72400000e-02, -1.22560000e-01, -1.13720000e-01,\n",
      "       -3.36087500e-03, -5.27585500e-02, -1.21842500e-03, -1.62150000e-04,\n",
      "       -1.00000000e-02, -6.45561000e-03, -3.27950000e-04, -3.27950000e-04,\n",
      "       -1.22060089e-01, -4.70180183e-02, -2.04384070e-03, -6.51665850e-03,\n",
      "       -1.65960080e-03])], 'isotopes': [array([], dtype=float64), array(['6000.03c', '27059.03c', '24050.03c', '24052.03c', '24053.03c',\n",
      "       '24054.03c', '42092.03c', '42094.03c', '42095.03c', '42096.03c',\n",
      "       '42097.03c', '42098.03c', '42100.03c', '23050.03c', '23051.03c',\n",
      "       '74180.03c', '74182.03c', '74183.03c', '74184.03c', '74186.03c',\n",
      "       '26054.03c', '26056.03c', '26057.03c', '26058.03c', '25055.03c',\n",
      "       '14028.03c', '14029.03c', '14030.03c', '28058.03c', '28060.03c',\n",
      "       '28061.03c', '28062.03c', '28064.03c'], dtype=object)], 'unc': [None, array(['None', 'None', 'None', 'None', 'None', 'None', 'None', 'None',\n",
      "       'None', 'None', 'None', 'None', 'None', 'None', 'None', 'None',\n",
      "       'None', 'None', 'None', 'None', 'None', 'None', 'None', 'None',\n",
      "       'None', 'None', 'None', 'None', 'None', 'None', 'None', 'None',\n",
      "       'None'], dtype=object)], 'temperatures': [array([ 300,  900, 1800])], 'pressures': [array([10000000., 11000000.])], 'reference': [None, ' NA-Examples\\n'], 'description': ['This is an example', ' This is an example input file'], '_properties': []}\n"
     ]
    }
   ],
   "source": [
    "Material.readData(mat1, 'c:\\\\Users\\\\Samuel\\\\Documents\\\\GitHub\\\\SNAP-REACTORS\\\\snapReactors\\\\containers\\\\test.txt')\n",
    "print(mat1)"
   ]
  },
  {
   "cell_type": "markdown",
   "metadata": {},
   "source": [
    "## Updating properties to materials"
   ]
  },
  {
   "cell_type": "markdown",
   "metadata": {},
   "source": [
    "1. The properties must be from the following list: ['cp', 'cv', 'g', 'h', 'my', 'pr', 'r', 's', 'tc', 'v']"
   ]
  },
  {
   "cell_type": "code",
   "execution_count": 10,
   "metadata": {},
   "outputs": [
    {
     "ename": "TypeError",
     "evalue": "isinstance() arg 2 must be a type or tuple of types",
     "output_type": "error",
     "traceback": [
      "\u001b[1;31m---------------------------------------------------------------------------\u001b[0m",
      "\u001b[1;31mTypeError\u001b[0m                                 Traceback (most recent call last)",
      "\u001b[1;32m<ipython-input-10-650c3fda549c>\u001b[0m in \u001b[0;36m<module>\u001b[1;34m\u001b[0m\n\u001b[1;32m----> 1\u001b[1;33m \u001b[0mmat1\u001b[0m\u001b[1;33m.\u001b[0m\u001b[0maddproperty\u001b[0m\u001b[1;33m(\u001b[0m\u001b[1;33m[\u001b[0m\u001b[1;34m'g'\u001b[0m\u001b[1;33m]\u001b[0m\u001b[1;33m)\u001b[0m\u001b[1;33m\u001b[0m\u001b[1;33m\u001b[0m\u001b[0m\n\u001b[0m\u001b[0;32m      2\u001b[0m \u001b[0mprint\u001b[0m\u001b[1;33m(\u001b[0m\u001b[0mmat1\u001b[0m\u001b[1;33m)\u001b[0m\u001b[1;33m\u001b[0m\u001b[1;33m\u001b[0m\u001b[0m\n",
      "\u001b[1;32mc:\\Users\\Samuel\\Documents\\GitHub\\SNAP-REACTORS\\snapReactors\\containers\\materials.py\u001b[0m in \u001b[0;36maddproperty\u001b[1;34m(self, pty)\u001b[0m\n\u001b[0;32m    218\u001b[0m         \"\"\"\n\u001b[0;32m    219\u001b[0m \u001b[1;33m\u001b[0m\u001b[0m\n\u001b[1;32m--> 220\u001b[1;33m         \u001b[0m_isinstanceList\u001b[0m\u001b[1;33m(\u001b[0m\u001b[0mpty\u001b[0m\u001b[1;33m,\u001b[0m \u001b[0mlist\u001b[0m\u001b[1;33m(\u001b[0m\u001b[0mALLOWED_PROPERTIES\u001b[0m\u001b[1;33m.\u001b[0m\u001b[0mkeys\u001b[0m\u001b[1;33m(\u001b[0m\u001b[1;33m)\u001b[0m\u001b[1;33m)\u001b[0m\u001b[1;33m,\u001b[0m \u001b[1;34m\"List of properties\"\u001b[0m\u001b[1;33m)\u001b[0m\u001b[1;33m\u001b[0m\u001b[1;33m\u001b[0m\u001b[0m\n\u001b[0m\u001b[0;32m    221\u001b[0m         \u001b[0mself\u001b[0m\u001b[1;33m.\u001b[0m\u001b[0m_properties\u001b[0m\u001b[1;33m.\u001b[0m\u001b[0mappend\u001b[0m\u001b[1;33m(\u001b[0m\u001b[0mpty\u001b[0m\u001b[1;33m)\u001b[0m\u001b[1;33m\u001b[0m\u001b[1;33m\u001b[0m\u001b[0m\n\u001b[0;32m    222\u001b[0m \u001b[1;33m\u001b[0m\u001b[0m\n",
      "\u001b[1;32mc:\\Users\\Samuel\\Documents\\GitHub\\SNAP-REACTORS\\snapReactors\\functions\\checkerrors.py\u001b[0m in \u001b[0;36m_isinstanceList\u001b[1;34m(var, instance, description)\u001b[0m\n\u001b[0;32m    192\u001b[0m     \u001b[1;34m\"\"\"checks if the variable of an ndarray of instance type\"\"\"\u001b[0m\u001b[1;33m\u001b[0m\u001b[1;33m\u001b[0m\u001b[0m\n\u001b[0;32m    193\u001b[0m     \u001b[0m_islist\u001b[0m\u001b[1;33m(\u001b[0m\u001b[0mvar\u001b[0m\u001b[1;33m,\u001b[0m \u001b[0mdescription\u001b[0m\u001b[1;33m)\u001b[0m\u001b[1;33m\u001b[0m\u001b[1;33m\u001b[0m\u001b[0m\n\u001b[1;32m--> 194\u001b[1;33m     \u001b[1;32mif\u001b[0m \u001b[1;32mnot\u001b[0m \u001b[0mall\u001b[0m\u001b[1;33m(\u001b[0m\u001b[0misinstance\u001b[0m\u001b[1;33m(\u001b[0m\u001b[0mi\u001b[0m\u001b[1;33m,\u001b[0m \u001b[0minstance\u001b[0m\u001b[1;33m)\u001b[0m \u001b[1;32mfor\u001b[0m \u001b[0mi\u001b[0m \u001b[1;32min\u001b[0m \u001b[0mvar\u001b[0m\u001b[1;33m)\u001b[0m\u001b[1;33m:\u001b[0m\u001b[1;33m\u001b[0m\u001b[1;33m\u001b[0m\u001b[0m\n\u001b[0m\u001b[0;32m    195\u001b[0m         raise TypeError(\"{} must be a list of {} type and not {}\"\n\u001b[0;32m    196\u001b[0m                         .format(description, instance, var))\n",
      "\u001b[1;32mc:\\Users\\Samuel\\Documents\\GitHub\\SNAP-REACTORS\\snapReactors\\functions\\checkerrors.py\u001b[0m in \u001b[0;36m<genexpr>\u001b[1;34m(.0)\u001b[0m\n\u001b[0;32m    192\u001b[0m     \u001b[1;34m\"\"\"checks if the variable of an ndarray of instance type\"\"\"\u001b[0m\u001b[1;33m\u001b[0m\u001b[1;33m\u001b[0m\u001b[0m\n\u001b[0;32m    193\u001b[0m     \u001b[0m_islist\u001b[0m\u001b[1;33m(\u001b[0m\u001b[0mvar\u001b[0m\u001b[1;33m,\u001b[0m \u001b[0mdescription\u001b[0m\u001b[1;33m)\u001b[0m\u001b[1;33m\u001b[0m\u001b[1;33m\u001b[0m\u001b[0m\n\u001b[1;32m--> 194\u001b[1;33m     \u001b[1;32mif\u001b[0m \u001b[1;32mnot\u001b[0m \u001b[0mall\u001b[0m\u001b[1;33m(\u001b[0m\u001b[0misinstance\u001b[0m\u001b[1;33m(\u001b[0m\u001b[0mi\u001b[0m\u001b[1;33m,\u001b[0m \u001b[0minstance\u001b[0m\u001b[1;33m)\u001b[0m \u001b[1;32mfor\u001b[0m \u001b[0mi\u001b[0m \u001b[1;32min\u001b[0m \u001b[0mvar\u001b[0m\u001b[1;33m)\u001b[0m\u001b[1;33m:\u001b[0m\u001b[1;33m\u001b[0m\u001b[1;33m\u001b[0m\u001b[0m\n\u001b[0m\u001b[0;32m    195\u001b[0m         raise TypeError(\"{} must be a list of {} type and not {}\"\n\u001b[0;32m    196\u001b[0m                         .format(description, instance, var))\n",
      "\u001b[1;31mTypeError\u001b[0m: isinstance() arg 2 must be a type or tuple of types"
     ]
    }
   ],
   "source": [
    "mat1.addproperty(['g'])\n",
    "print(mat1)"
   ]
  }
 ],
 "metadata": {
  "kernelspec": {
   "display_name": "Python 3",
   "language": "python",
   "name": "python3"
  },
  "language_info": {
   "codemirror_mode": {
    "name": "ipython",
    "version": 3
   },
   "file_extension": ".py",
   "mimetype": "text/x-python",
   "name": "python",
   "nbconvert_exporter": "python",
   "pygments_lexer": "ipython3",
   "version": "3.8.5"
  }
 },
 "nbformat": 4,
 "nbformat_minor": 2
}
