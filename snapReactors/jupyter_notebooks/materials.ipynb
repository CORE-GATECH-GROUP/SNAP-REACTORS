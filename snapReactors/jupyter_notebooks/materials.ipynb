{
 "cells": [
  {
   "cell_type": "markdown",
   "metadata": {},
   "source": [
    "# snapReactors"
   ]
  },
  {
   "cell_type": "markdown",
   "metadata": {},
   "source": [
    "Copyright (c) Dan Kotlyar and CoRE group"
   ]
  },
  {
   "cell_type": "markdown",
   "metadata": {},
   "source": [
    "# Materials Container"
   ]
  },
  {
   "cell_type": "markdown",
   "metadata": {},
   "source": [
    "* This container stores materials information such as isotopic definition, abundances, uncertainties and material properties.\n",
    "* The container also stores, modifies or creates new h5 files for data storage."
   ]
  },
  {
   "cell_type": "markdown",
   "metadata": {},
   "source": [
    "## Code: "
   ]
  },
  {
   "cell_type": "code",
   "execution_count": 1,
   "metadata": {},
   "outputs": [],
   "source": [
    "import numpy as np\n",
    "from snapReactors.containers.materials import Material, Composition"
   ]
  },
  {
   "cell_type": "markdown",
   "metadata": {},
   "source": [
    "## Defining a new material"
   ]
  },
  {
   "cell_type": "markdown",
   "metadata": {},
   "source": [
    "### Define with Materials container"
   ]
  },
  {
   "cell_type": "markdown",
   "metadata": {},
   "source": [
    "1. Give name of material\n",
    "2. Give type of uncertainty, must be in ``Enum.UTYPE``\n",
    "3. Give the composition type, must be in ``Enum.CTYPE``\n",
    "4. Give the isotopes that define a material\n",
    "5. Give the abundances for each isotope\n",
    "6. The uncertainty value, temperature and pressure dependencies, reference, description and filename to read data from are left as optional parameters.\n",
    "    1. Note that temperature and pressure dependencies must be under ``ALLOWED_PROPERTIES``\n"
   ]
  },
  {
   "cell_type": "code",
   "execution_count": 2,
   "metadata": {},
   "outputs": [
    {
     "name": "stdout",
     "output_type": "stream",
     "text": [
      "{'matName': ['newMat'], 'utype': [<UTYPE.NONE: 4>], 'ctype': [<CTYPE.WEIGHT: 2>], 'abundances': [array([], dtype=float64)], 'isotopes': [array([], dtype=float64)], 'unc': [None], 'temperatures': [array([ 300,  900, 1800])], 'pressures': [array([10000000., 11000000.])], 'reference': [None], 'description': ['This is an example'], '_properties': []}\n"
     ]
    }
   ],
   "source": [
    "mat1 = Material(\"newMat\", 'NONE', 'WEIGHT', np.array([]), np.array([]), None, np.array([300, 900, 1800]), np.array([10E+6, 11E+6]), reference=None, description='This is an example')\n",
    "print(mat1)"
   ]
  },
  {
   "cell_type": "markdown",
   "metadata": {},
   "source": [
    "### Using the Composition subcontainer"
   ]
  },
  {
   "cell_type": "markdown",
   "metadata": {},
   "source": [
    "The goal of the ``Composition`` subcontainer is to provide an easier interface. As such this effectively excludes temperature and pressure dependencies.\n",
    "1. Give name of material\n",
    "2. Give type of uncertainty, must be in ``Enum.UTYPE``\n",
    "3. Give the composition type, must be in ``Enum.CTYPE``\n",
    "4. Give the isotopes that define a material\n",
    "5. Give the abundances for each isotopes"
   ]
  },
  {
   "cell_type": "code",
   "execution_count": 3,
   "metadata": {},
   "outputs": [
    {
     "name": "stdout",
     "output_type": "stream",
     "text": [
      "{'matName': ['newmat'], 'utype': [<UTYPE.NONE: 4>], 'ctype': [<CTYPE.WEIGHT: 2>], 'abundances': [array([], dtype=float64)], 'isotopes': [array([], dtype=float64)], 'unc': [None], 'temperatures': [None], 'pressures': [None], 'reference': [None], 'description': ['This example uses the Composition subcontainer'], '_properties': []}\n"
     ]
    }
   ],
   "source": [
    "mat2 = Composition('newmat', 'NONE', 'WEIGHT', np.array([]), np.array([]), description='This example uses the Composition subcontainer')\n",
    "print(mat2)"
   ]
  },
  {
   "cell_type": "markdown",
   "metadata": {},
   "source": [
    "### Reading in isotopic defintiion through a text file"
   ]
  },
  {
   "cell_type": "markdown",
   "metadata": {},
   "source": [
    "1. The ``Materials.readData(filename)`` method is used to read in all relevenat materials information through a text file. \n",
    "2. The text file follows a specific structure that pulls in all parameters specific to the material.\n",
    "    1. All parameters must be included in .txt file except for property parameters\n"
   ]
  },
  {
   "cell_type": "markdown",
   "metadata": {},
   "source": [
    "####  Example text file shown below"
   ]
  },
  {
   "cell_type": "code",
   "execution_count": 4,
   "metadata": {},
   "outputs": [
    {
     "name": "stdout",
     "output_type": "stream",
     "text": [
      "Material Name: hasteC\n",
      "ctype: ATOMIC\n",
      "utype: NONE\n",
      "Number of isotopes: 33\n",
      "Isotopic Definition:\n",
      "--------------------\n",
      "6000.03c     -0.0007    \n",
      "27059.03c    -0.0125    \n",
      "24050.03c    -0.006952\n",
      "24052.03c    -0.1340624\n",
      "24053.03c    -0.0152016\n",
      "24054.03c    -0.003784\n",
      "42092.03c    -0.0249033\n",
      "42094.03c    -0.0156179\n",
      "42095.03c    -0.0269841\n",
      "42096.03c    -0.0283441\n",
      "42097.03c    -0.0162894\n",
      "42098.03c    -0.0412964\n",
      "42100.03c    -0.0165648\n",
      "23050.03c    -0.0000075\n",
      "23051.03c    -0.0029925\n",
      "74180.03c    -0.00048\n",
      "74182.03c    -0.106\n",
      "74183.03c    -0.05724\n",
      "74184.03c    -0.12256\n",
      "74186.03c    -0.11372\n",
      "26054.03c    -0.003360875\n",
      "26056.03c    -0.05275855\n",
      "26057.03c    -0.001218425\n",
      "26058.03c    -0.00016215\n",
      "25055.03c    -0.01     \n",
      "14028.03c     -0.00645561\n",
      "14029.03c     -0.00032795\n",
      "14030.03c     -0.00032795\n",
      "28058.03c     -0.1220600887\n",
      "28060.03c     -0.0470180183\n",
      "28061.03c     -0.0020438407\n",
      "28062.03c     -0.0065166585\n",
      "28064.03c     -0.0016596008\n",
      "Properties: {\n",
      "%property values for material\n",
      "%type = const, table, corr\n",
      "%id = prop id\n",
      "%unit = SI or imperial\n",
      "%value = either number for const or if array/ nd array use {} i.e. {1, 2, 3} or {{1, 2}, {3, 4}}\n",
      "%must have a single space \" \" between keywords \"type\", \"id\"\n",
      "%must have a \":\" between keyword and value\n",
      "%Supports comments by preceeding a line with \"%\"\n",
      "type:const id:cp unit:SI \n",
      "value:1 unc:.01 \n",
      "type:table id:h unit:imperial ref:NAA-SR-6160 \n",
      "dep1unit:K dep1values:{300,600,900} \n",
      "dep2unit:Pa dep2values:{16,32,48}\n",
      "value:{{1,2,3},{4,5,6},{7,8,9}}\n",
      "unc:{{.01,.01,.01},{.01,.01,.01},{.01,.01,.01}}\n",
      "type:corr id:r unit:SI ref:NAA-SR-3120\n",
      "corr:T+P**2 deps:T,P dep1unit:K dep2unit:Pa\n",
      "dep1range:{300,900} dep2range:{16,48}    \n",
      "}\n",
      "Reference: NA-Examples\n",
      "Description: This is an example input file\n"
     ]
    }
   ],
   "source": [
    "#text_file = open('test.txt')\n",
    "text_file = open('c:\\\\Users\\\\Samuel\\\\Documents\\\\GitHub\\\\SNAP-REACTORS\\\\snapReactors\\\\containers\\\\test.txt')\n",
    "file_content = text_file.read()\n",
    "print(file_content)\n",
    "text_file.close()"
   ]
  },
  {
   "cell_type": "markdown",
   "metadata": {},
   "source": [
    "#### Materials definition returned by readData"
   ]
  },
  {
   "cell_type": "code",
   "execution_count": 5,
   "metadata": {},
   "outputs": [
    {
     "ename": "UnboundLocalError",
     "evalue": "local variable 'indexBegin' referenced before assignment",
     "output_type": "error",
     "traceback": [
      "\u001b[1;31m---------------------------------------------------------------------------\u001b[0m",
      "\u001b[1;31mUnboundLocalError\u001b[0m                         Traceback (most recent call last)",
      "\u001b[1;32m<ipython-input-5-852379fb2785>\u001b[0m in \u001b[0;36m<module>\u001b[1;34m\u001b[0m\n\u001b[1;32m----> 1\u001b[1;33m \u001b[0mMaterial\u001b[0m\u001b[1;33m.\u001b[0m\u001b[0mreadData\u001b[0m\u001b[1;33m(\u001b[0m\u001b[0mmat1\u001b[0m\u001b[1;33m,\u001b[0m \u001b[1;34m'c:\\\\Users\\\\Samuel\\\\Documents\\\\GitHub\\\\SNAP-REACTORS\\\\snapReactors\\\\containers\\\\test.txt'\u001b[0m\u001b[1;33m)\u001b[0m\u001b[1;33m\u001b[0m\u001b[1;33m\u001b[0m\u001b[0m\n\u001b[0m\u001b[0;32m      2\u001b[0m \u001b[0mprint\u001b[0m\u001b[1;33m(\u001b[0m\u001b[0mmat1\u001b[0m\u001b[1;33m)\u001b[0m\u001b[1;33m\u001b[0m\u001b[1;33m\u001b[0m\u001b[0m\n",
      "\u001b[1;32mc:\\Users\\Samuel\\Documents\\GitHub\\SNAP-REACTORS\\snapReactors\\containers\\materials.py\u001b[0m in \u001b[0;36mreadData\u001b[1;34m(self, filename)\u001b[0m\n\u001b[0;32m    399\u001b[0m                 \u001b[0mprint\u001b[0m\u001b[1;33m(\u001b[0m\u001b[1;34m\"check2\"\u001b[0m\u001b[1;33m)\u001b[0m\u001b[1;33m\u001b[0m\u001b[1;33m\u001b[0m\u001b[0m\n\u001b[0;32m    400\u001b[0m                 \u001b[0mindexEnd\u001b[0m \u001b[1;33m=\u001b[0m \u001b[0mj\u001b[0m \u001b[1;33m-\u001b[0m \u001b[1;36m1\u001b[0m\u001b[1;33m\u001b[0m\u001b[1;33m\u001b[0m\u001b[0m\n\u001b[1;32m--> 401\u001b[1;33m             mp[\"Properties\"] = Property._propertyReader(data[indexBegin: \n\u001b[0m\u001b[0;32m    402\u001b[0m                                                                     indexEnd])\n\u001b[0;32m    403\u001b[0m \u001b[1;33m\u001b[0m\u001b[0m\n",
      "\u001b[1;31mUnboundLocalError\u001b[0m: local variable 'indexBegin' referenced before assignment"
     ]
    }
   ],
   "source": [
    "Material.readData(mat1, 'c:\\\\Users\\\\Samuel\\\\Documents\\\\GitHub\\\\SNAP-REACTORS\\\\snapReactors\\\\containers\\\\test.txt')\n",
    "print(mat1)"
   ]
  },
  {
   "cell_type": "markdown",
   "metadata": {},
   "source": [
    "## Updating properties to materials"
   ]
  },
  {
   "cell_type": "markdown",
   "metadata": {},
   "source": [
    "1. The properties must be from the following list: ['cp', 'cv', 'g', 'h', 'my', 'pr', 'r', 's', 'tc', 'v']"
   ]
  },
  {
   "cell_type": "code",
   "execution_count": null,
   "metadata": {},
   "outputs": [
    {
     "ename": "TypeError",
     "evalue": "List of properties must be a list of <class 'snapReactors.functions.parameters.property'> type and not ['g']",
     "output_type": "error",
     "traceback": [
      "\u001b[1;31m---------------------------------------------------------------------------\u001b[0m",
      "\u001b[1;31mTypeError\u001b[0m                                 Traceback (most recent call last)",
      "\u001b[1;32m<ipython-input-6-650c3fda549c>\u001b[0m in \u001b[0;36m<module>\u001b[1;34m\u001b[0m\n\u001b[1;32m----> 1\u001b[1;33m \u001b[0mmat1\u001b[0m\u001b[1;33m.\u001b[0m\u001b[0maddproperty\u001b[0m\u001b[1;33m(\u001b[0m\u001b[1;33m[\u001b[0m\u001b[1;34m'g'\u001b[0m\u001b[1;33m]\u001b[0m\u001b[1;33m)\u001b[0m\u001b[1;33m\u001b[0m\u001b[1;33m\u001b[0m\u001b[0m\n\u001b[0m\u001b[0;32m      2\u001b[0m \u001b[0mprint\u001b[0m\u001b[1;33m(\u001b[0m\u001b[0mmat1\u001b[0m\u001b[1;33m)\u001b[0m\u001b[1;33m\u001b[0m\u001b[1;33m\u001b[0m\u001b[0m\n",
      "\u001b[1;32mc:\\Users\\Samuel\\Documents\\GitHub\\SNAP-REACTORS\\snapReactors\\containers\\materials.py\u001b[0m in \u001b[0;36maddproperty\u001b[1;34m(self, pty)\u001b[0m\n\u001b[0;32m    218\u001b[0m         \"\"\"\n\u001b[0;32m    219\u001b[0m \u001b[1;33m\u001b[0m\u001b[0m\n\u001b[1;32m--> 220\u001b[1;33m         \u001b[0m_isinstanceList\u001b[0m\u001b[1;33m(\u001b[0m\u001b[0mpty\u001b[0m\u001b[1;33m,\u001b[0m \u001b[0mProperty\u001b[0m\u001b[1;33m,\u001b[0m \u001b[1;34m\"List of properties\"\u001b[0m\u001b[1;33m)\u001b[0m\u001b[1;33m\u001b[0m\u001b[1;33m\u001b[0m\u001b[0m\n\u001b[0m\u001b[0;32m    221\u001b[0m         \u001b[0mself\u001b[0m\u001b[1;33m.\u001b[0m\u001b[0m_properties\u001b[0m\u001b[1;33m.\u001b[0m\u001b[0mappend\u001b[0m\u001b[1;33m(\u001b[0m\u001b[0mpty\u001b[0m\u001b[1;33m)\u001b[0m\u001b[1;33m\u001b[0m\u001b[1;33m\u001b[0m\u001b[0m\n\u001b[0;32m    222\u001b[0m \u001b[1;33m\u001b[0m\u001b[0m\n",
      "\u001b[1;32mc:\\Users\\Samuel\\Documents\\GitHub\\SNAP-REACTORS\\snapReactors\\functions\\checkerrors.py\u001b[0m in \u001b[0;36m_isinstanceList\u001b[1;34m(var, instance, description)\u001b[0m\n\u001b[0;32m    193\u001b[0m     \u001b[0m_islist\u001b[0m\u001b[1;33m(\u001b[0m\u001b[0mvar\u001b[0m\u001b[1;33m,\u001b[0m \u001b[0mdescription\u001b[0m\u001b[1;33m)\u001b[0m\u001b[1;33m\u001b[0m\u001b[1;33m\u001b[0m\u001b[0m\n\u001b[0;32m    194\u001b[0m     \u001b[1;32mif\u001b[0m \u001b[1;32mnot\u001b[0m \u001b[0mall\u001b[0m\u001b[1;33m(\u001b[0m\u001b[0misinstance\u001b[0m\u001b[1;33m(\u001b[0m\u001b[0mi\u001b[0m\u001b[1;33m,\u001b[0m \u001b[0minstance\u001b[0m\u001b[1;33m)\u001b[0m \u001b[1;32mfor\u001b[0m \u001b[0mi\u001b[0m \u001b[1;32min\u001b[0m \u001b[0mvar\u001b[0m\u001b[1;33m)\u001b[0m\u001b[1;33m:\u001b[0m\u001b[1;33m\u001b[0m\u001b[1;33m\u001b[0m\u001b[0m\n\u001b[1;32m--> 195\u001b[1;33m         raise TypeError(\"{} must be a list of {} type and not {}\"\n\u001b[0m\u001b[0;32m    196\u001b[0m                         .format(description, instance, var))\n",
      "\u001b[1;31mTypeError\u001b[0m: List of properties must be a list of <class 'snapReactors.functions.parameters.property'> type and not ['g']"
     ]
    }
   ],
   "source": [
    "mat1.addproperty(['g'])\n",
    "print(mat1)"
   ]
  }
 ],
 "metadata": {
  "kernelspec": {
   "display_name": "Python 3",
   "language": "python",
   "name": "python3"
  },
  "language_info": {
   "codemirror_mode": {
    "name": "ipython",
    "version": 3
   },
   "file_extension": ".py",
   "mimetype": "text/x-python",
   "name": "python",
   "nbconvert_exporter": "python",
   "pygments_lexer": "ipython3",
   "version": "3.8.5"
  }
 },
 "nbformat": 4,
 "nbformat_minor": 2
}
