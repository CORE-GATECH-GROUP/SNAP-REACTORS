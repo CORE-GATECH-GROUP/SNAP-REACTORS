{
 "cells": [
  {
   "cell_type": "markdown",
   "source": [
    "# snapReactors"
   ],
   "metadata": {}
  },
  {
   "cell_type": "markdown",
   "source": [
    "Copyright (c) Dan Kotlyar and CoRE group"
   ],
   "metadata": {}
  },
  {
   "cell_type": "markdown",
   "source": [
    "# Manual Template"
   ],
   "metadata": {}
  },
  {
   "cell_type": "markdown",
   "source": [],
   "metadata": {}
  },
  {
   "cell_type": "markdown",
   "source": [
    "**Description of conainer/function**\r\n",
    "\r\n",
    "Add a short description of the container/function."
   ],
   "metadata": {}
  },
  {
   "cell_type": "markdown",
   "source": [
    "### Code: "
   ],
   "metadata": {}
  },
  {
   "cell_type": "markdown",
   "source": [
    "```python\r\n",
    "    >>> # Snapshot of code goes here\r\n",
    "    >>> # ...\r\n",
    "    >>> # ...        \r\n",
    "```"
   ],
   "metadata": {}
  },
  {
   "cell_type": "markdown",
   "source": [
    "You can describe the important bits of inputs"
   ],
   "metadata": {}
  },
  {
   "cell_type": "markdown",
   "source": [
    "### Notes:"
   ],
   "metadata": {}
  },
  {
   "cell_type": "markdown",
   "source": [
    "1. General notes about the container/function\r\n",
    "2. Can copy and paste from the docstring"
   ],
   "metadata": {}
  },
  {
   "cell_type": "markdown",
   "source": [
    "##  Execute"
   ],
   "metadata": {}
  },
  {
   "cell_type": "markdown",
   "source": [
    "### Imports"
   ],
   "metadata": {}
  },
  {
   "cell_type": "markdown",
   "source": [
    "```python\r\n",
    "    >>> import numpy as np\r\n",
    "    >>> from snapReactors.containers.materials import Material\r\n",
    "```"
   ],
   "metadata": {}
  },
  {
   "cell_type": "markdown",
   "source": [
    "#### Container Init\r\n",
    "1. Go over Init function attributes\r\n",
    "2. Describe Init function attribute types and caveats"
   ],
   "metadata": {}
  },
  {
   "cell_type": "markdown",
   "source": [
    "```python\r\n",
    "    >>> c1 = container(attr1, attr1)    \r\n",
    "```"
   ],
   "metadata": {}
  },
  {
   "cell_type": "markdown",
   "source": [
    "#### Container Methods\r\n",
    "1. Go over relevant methods for container\r\n",
    "2. Give examples using methods"
   ],
   "metadata": {}
  },
  {
   "cell_type": "markdown",
   "source": [
    "```python\r\n",
    "    >>> c1 = container(attr1, attr1) \r\n",
    "    >>> v1 = c1.method1(arg1, arg2)\r\n",
    "    >>> print(c1.method2(True))   \r\n",
    "```"
   ],
   "metadata": {}
  }
 ],
 "metadata": {
  "orig_nbformat": 4,
  "language_info": {
   "name": "python"
  }
 },
 "nbformat": 4,
 "nbformat_minor": 2
}