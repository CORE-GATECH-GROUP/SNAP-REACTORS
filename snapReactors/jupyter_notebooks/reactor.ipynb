{
 "cells": [
  {
   "cell_type": "markdown",
   "metadata": {},
   "source": [
    "# snapReactors"
   ]
  },
  {
   "cell_type": "markdown",
   "metadata": {},
   "source": [
    "Copyright (c) Dan Kotlyar and CoRE group"
   ]
  },
  {
   "cell_type": "markdown",
   "metadata": {},
   "source": [
    "# Reactor Container"
   ]
  },
  {
   "cell_type": "markdown",
   "metadata": {},
   "source": [
    "* This container is made to store reactor state container data and provide nominal attributes to the reactor design"
   ]
  },
  {
   "cell_type": "markdown",
   "metadata": {},
   "source": [
    "## Code "
   ]
  },
  {
   "cell_type": "code",
   "execution_count": 6,
   "metadata": {},
   "outputs": [],
   "source": [
    "from snapReactors.containers.reactor import Reactor\n",
    "from snapReactors.containers.reactorstate import ReactorState\n",
    "from snapReactors.containers.component import Component\n",
    "from snapReactors.containers.materials import Material"
   ]
  },
  {
   "cell_type": "markdown",
   "metadata": {},
   "source": [
    "## Defining a new reactor state"
   ]
  },
  {
   "cell_type": "markdown",
   "metadata": {},
   "source": [
    "1. Provide the name of the reactor state\n",
    "2. Provide core lattice type, must be in ``Enum.LTYPE`` which are: \n",
    "    - HEX\n",
    "    - SQUARE\n",
    "3. Provide the number of fuel rod channels\n",
    "4. Provide the number of guide tube channels\n",
    "5. Provide the number of instrumentation rod channels\n",
    "6. Provide the nominal thermal power output\n",
    "7. Provide the nominal electrical power output. \n",
    "8. Provide the name of the coolant used in the core\n",
    "9. Provide the name of the moderator used in the core\n",
    "10. The description of the reactor and its purpose, as well as reactor states are left as optional inputs"
   ]
  },
  {
   "cell_type": "code",
   "execution_count": 7,
   "metadata": {},
   "outputs": [
    {
     "name": "stdout",
     "output_type": "stream",
     "text": [
      "<snapReactors.containers.reactor.Reactor object at 0x0000022277100880>\n"
     ]
    }
   ],
   "source": [
    "c1 = Component(\"c1\")\n",
    "rs1 = ReactorState('Cold Power', _components=c1)\n",
    "SNAP10 = Reactor(id = 'SNAP4', ltype = 'HEX', rodNum=583, guideNum=0,\n",
    "                        instrumNum=0, thermalPower=12, electricPower=2,\n",
    "                        coolant = 'Water', moderator = 'Water',\n",
    "                        _reactorstates=rs1, description = '500 Watt microreactor developed for space deployment')\n",
    "print(SNAP10)"
   ]
  },
  {
   "cell_type": "markdown",
   "metadata": {},
   "source": [
    "### Updating reactor states to reactor"
   ]
  },
  {
   "cell_type": "markdown",
   "metadata": {},
   "source": [
    "1. A list of reactor states or single reactor state may be added with the ``addReactorStates`` function."
   ]
  },
  {
   "cell_type": "code",
   "execution_count": 8,
   "metadata": {},
   "outputs": [
    {
     "name": "stdout",
     "output_type": "stream",
     "text": [
      "[<snapReactors.containers.reactorstate.ReactorState object at 0x00000222771007F0>, <snapReactors.containers.reactorstate.ReactorState object at 0x00000222771002E0>, <snapReactors.containers.reactorstate.ReactorState object at 0x0000022273AF3400>, <snapReactors.containers.reactorstate.ReactorState object at 0x00000222771002B0>]\n"
     ]
    }
   ],
   "source": [
    "rs2 = ReactorState('rs2')\n",
    "SNAP10.addReactorStates(rs2)\n",
    "\n",
    "rs3 = ReactorState('rs3')\n",
    "rs4 = ReactorState('rs4')\n",
    "SNAP10.addReactorStates([rs3,rs4])\n",
    "print(SNAP10._reactorstates)"
   ]
  }
 ],
 "metadata": {
  "kernelspec": {
   "display_name": "Python 3 (ipykernel)",
   "language": "python",
   "name": "python3"
  },
  "language_info": {
   "codemirror_mode": {
    "name": "ipython",
    "version": 3
   },
   "file_extension": ".py",
   "mimetype": "text/x-python",
   "name": "python",
   "nbconvert_exporter": "python",
   "pygments_lexer": "ipython3",
   "version": "3.8.8"
  }
 },
 "nbformat": 4,
 "nbformat_minor": 2
}
